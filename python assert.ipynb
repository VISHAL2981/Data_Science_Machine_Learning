{
 "cells": [
  {
   "cell_type": "markdown",
   "id": "6941e490",
   "metadata": {},
   "source": [
    "# python assert\n",
    "python provide the assert statement to check if a logical expression is true or false.\n",
    "program execution proceeds only if the expresion is true and raise a assertion error when it is false.\n",
    "The following code shows the usage of the assertion statement "
   ]
  },
  {
   "cell_type": "code",
   "execution_count": 1,
   "id": "3221e2dc",
   "metadata": {},
   "outputs": [],
   "source": [
    "num=10\n",
    "assert num>=10\n",
    "#yeh execute ho jyega\n",
    "#kyuki 10 hai equal equation kai hisab sai"
   ]
  },
  {
   "cell_type": "code",
   "execution_count": 2,
   "id": "3423bf25",
   "metadata": {},
   "outputs": [
    {
     "ename": "AssertionError",
     "evalue": "",
     "output_type": "error",
     "traceback": [
      "\u001b[1;31m---------------------------------------------------------------------------\u001b[0m",
      "\u001b[1;31mAssertionError\u001b[0m                            Traceback (most recent call last)",
      "\u001b[1;32mC:\\Users\\VISHAL~1\\AppData\\Local\\Temp/ipykernel_1232/2566870627.py\u001b[0m in \u001b[0;36m<module>\u001b[1;34m\u001b[0m\n\u001b[0;32m      1\u001b[0m \u001b[0mnum\u001b[0m\u001b[1;33m=\u001b[0m\u001b[1;36m10\u001b[0m\u001b[1;33m\u001b[0m\u001b[1;33m\u001b[0m\u001b[0m\n\u001b[1;32m----> 2\u001b[1;33m \u001b[1;32massert\u001b[0m \u001b[0mnum\u001b[0m\u001b[1;33m>\u001b[0m\u001b[1;36m10\u001b[0m\u001b[1;33m\u001b[0m\u001b[1;33m\u001b[0m\u001b[0m\n\u001b[0m",
      "\u001b[1;31mAssertionError\u001b[0m: "
     ]
    }
   ],
   "source": [
    "num=10\n",
    "assert num>10\n",
    "#it shows assertion error"
   ]
  },
  {
   "cell_type": "code",
   "execution_count": 5,
   "id": "a35b89f0",
   "metadata": {},
   "outputs": [
    {
     "name": "stdout",
     "output_type": "stream",
     "text": [
      "enter the number = 2444\n",
      "the number is even\n"
     ]
    }
   ],
   "source": [
    "try:\n",
    "    num=int(input(\"enter the number = \"))\n",
    "    assert num%2==0\n",
    "    print(\"the number is even\")\n",
    "except AssertionError:\n",
    "    print(\" plz enter the even number\")"
   ]
  },
  {
   "cell_type": "code",
   "execution_count": 6,
   "id": "197e85f8",
   "metadata": {},
   "outputs": [
    {
     "name": "stdout",
     "output_type": "stream",
     "text": [
      "enter the number = 37289\n",
      " plz enter the even number\n"
     ]
    }
   ],
   "source": [
    "try:\n",
    "    num=int(input(\"enter the number = \"))\n",
    "    assert num%2==0\n",
    "    print(\"the number is even\")\n",
    "except AssertionError:\n",
    "    print(\" plz enter the even number\")"
   ]
  },
  {
   "cell_type": "code",
   "execution_count": null,
   "id": "9b40d61e",
   "metadata": {},
   "outputs": [],
   "source": []
  }
 ],
 "metadata": {
  "kernelspec": {
   "display_name": "Python 3 (ipykernel)",
   "language": "python",
   "name": "python3"
  },
  "language_info": {
   "codemirror_mode": {
    "name": "ipython",
    "version": 3
   },
   "file_extension": ".py",
   "mimetype": "text/x-python",
   "name": "python",
   "nbconvert_exporter": "python",
   "pygments_lexer": "ipython3",
   "version": "3.9.7"
  }
 },
 "nbformat": 4,
 "nbformat_minor": 5
}
