{
 "cells": [
  {
   "cell_type": "markdown",
   "id": "11e9983e",
   "metadata": {},
   "source": [
    "# Email slicer with python"
   ]
  },
  {
   "cell_type": "code",
   "execution_count": null,
   "id": "2cfcb871",
   "metadata": {},
   "outputs": [],
   "source": [
    "email = input(\"Enter Your Email: \").strip()\n",
    "\n",
    "username = email[:email.index('@')]\n",
    "domain = email[email.index('@') + 1:]\n",
    "\n",
    "print(f\"Your username is {username} & domain is {domain}\")\n"
   ]
  },
  {
   "cell_type": "code",
   "execution_count": null,
   "id": "893ec6ab",
   "metadata": {},
   "outputs": [],
   "source": [
    "email=input(\"enter your email: \")\n",
    "username=email[:email.index(\"@\")]\n",
    "domain_name=email[email.index(\"@\")+1:]\n",
    "format=(f\"your user name is '{username}' and domain name is '{domain_name}'\")\n",
    "print(format)"
   ]
  },
  {
   "cell_type": "code",
   "execution_count": null,
   "id": "2363eb0a",
   "metadata": {},
   "outputs": [],
   "source": []
  },
  {
   "cell_type": "code",
   "execution_count": null,
   "id": "3dfe316b",
   "metadata": {},
   "outputs": [],
   "source": []
  }
 ],
 "metadata": {
  "kernelspec": {
   "display_name": "Python 3 (ipykernel)",
   "language": "python",
   "name": "python3"
  },
  "language_info": {
   "codemirror_mode": {
    "name": "ipython",
    "version": 3
   },
   "file_extension": ".py",
   "mimetype": "text/x-python",
   "name": "python",
   "nbconvert_exporter": "python",
   "pygments_lexer": "ipython3",
   "version": "3.9.7"
  }
 },
 "nbformat": 4,
 "nbformat_minor": 5
}
