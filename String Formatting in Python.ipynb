{
 "cells": [
  {
   "cell_type": "markdown",
   "id": "b707cda6",
   "metadata": {},
   "source": [
    "# string formatting in python"
   ]
  },
  {
   "cell_type": "code",
   "execution_count": 1,
   "id": "ccd0de0a",
   "metadata": {},
   "outputs": [
    {
     "name": "stdout",
     "output_type": "stream",
     "text": [
      "hello everybody\n"
     ]
    }
   ],
   "source": [
    "print(\"hello everybody\")\n"
   ]
  },
  {
   "cell_type": "code",
   "execution_count": 2,
   "id": "37868dbd",
   "metadata": {},
   "outputs": [],
   "source": [
    "def greeting(name):\n",
    "    return \"hello {}. welcome to meta universe \".format(name)\n"
   ]
  },
  {
   "cell_type": "code",
   "execution_count": 3,
   "id": "aa365971",
   "metadata": {},
   "outputs": [
    {
     "data": {
      "text/plain": [
       "'hello Vishal Nimesh. welcome to meta universe '"
      ]
     },
     "execution_count": 3,
     "metadata": {},
     "output_type": "execute_result"
    }
   ],
   "source": [
    "greeting(\"Vishal Nimesh\")"
   ]
  },
  {
   "cell_type": "code",
   "execution_count": 4,
   "id": "6e97bcbd",
   "metadata": {},
   "outputs": [],
   "source": [
    "def welcome(firstname,lastname):\n",
    "    return \"hello {}. and {}. welcome to meta universe\".format(firstname,lastname)"
   ]
  },
  {
   "cell_type": "code",
   "execution_count": 6,
   "id": "760d2620",
   "metadata": {},
   "outputs": [
    {
     "data": {
      "text/plain": [
       "'hello vishalNimesh. and radhikaSharma. welcome to meta universe'"
      ]
     },
     "execution_count": 6,
     "metadata": {},
     "output_type": "execute_result"
    }
   ],
   "source": [
    "welcome(\"vishalNimesh\",\"radhikaSharma\")"
   ]
  },
  {
   "cell_type": "code",
   "execution_count": 7,
   "id": "b9dcb029",
   "metadata": {},
   "outputs": [],
   "source": [
    "def welcome(firstname,lastname):\n",
    "    return \"hello {lastname}. and {firstname}. welcome to meta universe\".format(firstname=firstname,lastname=lastname)"
   ]
  },
  {
   "cell_type": "code",
   "execution_count": 8,
   "id": "13a9d64f",
   "metadata": {},
   "outputs": [
    {
     "data": {
      "text/plain": [
       "'hello radhikaSharma. and vishalNimesh. welcome to meta universe'"
      ]
     },
     "execution_count": 8,
     "metadata": {},
     "output_type": "execute_result"
    }
   ],
   "source": [
    "welcome(\"vishalNimesh\",\"radhikaSharma\")"
   ]
  },
  {
   "cell_type": "code",
   "execution_count": null,
   "id": "39bfa7fc",
   "metadata": {},
   "outputs": [],
   "source": []
  }
 ],
 "metadata": {
  "kernelspec": {
   "display_name": "Python 3 (ipykernel)",
   "language": "python",
   "name": "python3"
  },
  "language_info": {
   "codemirror_mode": {
    "name": "ipython",
    "version": 3
   },
   "file_extension": ".py",
   "mimetype": "text/x-python",
   "name": "python",
   "nbconvert_exporter": "python",
   "pygments_lexer": "ipython3",
   "version": "3.9.7"
  }
 },
 "nbformat": 4,
 "nbformat_minor": 5
}
