{
 "cells": [
  {
   "cell_type": "markdown",
   "id": "7cec82c0",
   "metadata": {},
   "source": [
    "# Python Exception Handling"
   ]
  },
  {
   "cell_type": "raw",
   "id": "c524531d",
   "metadata": {},
   "source": [
    "# Difference between Exception and Error\n",
    "\n",
    "Exception and Error\n",
    "\n",
    "Exceptions are those which can be handled at the run time whereas errors cannot be handled.\n",
    "\n",
    "An exception is an Object of a type deriving from the System.Exception class. SystemException is thrown by the CLR (Common Language Runtime) when errors occur that are nonfatal and recoverable by user programs. It is meant to give you an opportunity to do something with throw statement to transfer control to a catch clause in a try block.\n",
    "\n",
    "Exception syntax:\n",
    "\n",
    " \n",
    "  try\n",
    "  {\n",
    "\t  //write your code here\n",
    "  }\n",
    "  Catch (exception type)\n",
    "  {\n",
    "\t  //writ your code here\n",
    "  }\n",
    "\n",
    "An Error is something that most of the time you cannot handle it. Errors are unchecked exception and the developer is not required to do anything with these. Errors normally tend to signal the end of your program, it typically cannot be recovered from and should cause you exit from current program. It should not be caught or handled.\n",
    "\n",
    "All the Errors are Exceptions but the reverse is not true. In general Errors are which nobody can control or guess when it happened, on the other hand Exception can be guessed and can be handled."
   ]
  },
  {
   "cell_type": "code",
   "execution_count": 1,
   "id": "22fea3db",
   "metadata": {},
   "outputs": [
    {
     "ename": "NameError",
     "evalue": "name 'b' is not defined",
     "output_type": "error",
     "traceback": [
      "\u001b[1;31m---------------------------------------------------------------------------\u001b[0m",
      "\u001b[1;31mNameError\u001b[0m                                 Traceback (most recent call last)",
      "\u001b[1;32mC:\\Users\\VISHAL~1\\AppData\\Local\\Temp/ipykernel_12868/905401003.py\u001b[0m in \u001b[0;36m<module>\u001b[1;34m\u001b[0m\n\u001b[1;32m----> 1\u001b[1;33m \u001b[0ma\u001b[0m\u001b[1;33m=\u001b[0m\u001b[0mb\u001b[0m\u001b[1;33m\u001b[0m\u001b[1;33m\u001b[0m\u001b[0m\n\u001b[0m",
      "\u001b[1;31mNameError\u001b[0m: name 'b' is not defined"
     ]
    }
   ],
   "source": [
    "a=b"
   ]
  },
  {
   "cell_type": "code",
   "execution_count": 2,
   "id": "bbe88d0b",
   "metadata": {},
   "outputs": [],
   "source": [
    "#this is an error"
   ]
  },
  {
   "cell_type": "code",
   "execution_count": 3,
   "id": "12edc2d0",
   "metadata": {},
   "outputs": [
    {
     "name": "stdout",
     "output_type": "stream",
     "text": [
      "some problem may have occur\n"
     ]
    }
   ],
   "source": [
    "# in try block we will try to write complete code where exception can occur\n",
    "try:\n",
    "    ##code block wehre exception can occur\n",
    "    a=b\n",
    "except:\n",
    "    print(\"some problem may have occur\")"
   ]
  },
  {
   "cell_type": "code",
   "execution_count": 5,
   "id": "2d3ac99e",
   "metadata": {},
   "outputs": [
    {
     "name": "stdout",
     "output_type": "stream",
     "text": [
      "name 'b' is not defined\n"
     ]
    }
   ],
   "source": [
    "#now here we have given here our own message  but \n",
    "#what problem there occured they dont tell now to \n",
    "#solve this we use this\n",
    "# in try block we will try to write complete code where exception can occur\n",
    "try:\n",
    "    ##code block wehre exception can occur\n",
    "    a=b\n",
    "except Exception as ex:\n",
    "        print(ex)\n",
    "\n"
   ]
  },
  {
   "cell_type": "code",
   "execution_count": 6,
   "id": "818279f5",
   "metadata": {},
   "outputs": [
    {
     "ename": "NameError",
     "evalue": "name 'b' is not defined",
     "output_type": "error",
     "traceback": [
      "\u001b[1;31m---------------------------------------------------------------------------\u001b[0m",
      "\u001b[1;31mNameError\u001b[0m                                 Traceback (most recent call last)",
      "\u001b[1;32mC:\\Users\\VISHAL~1\\AppData\\Local\\Temp/ipykernel_12868/59179082.py\u001b[0m in \u001b[0;36m<module>\u001b[1;34m\u001b[0m\n\u001b[0;32m      1\u001b[0m \u001b[1;31m#i wiil be geeting the same name error message that we  got over in code line [1]\u001b[0m\u001b[1;33m\u001b[0m\u001b[1;33m\u001b[0m\u001b[0m\n\u001b[1;32m----> 2\u001b[1;33m \u001b[0ma\u001b[0m\u001b[1;33m=\u001b[0m\u001b[0mb\u001b[0m\u001b[1;33m\u001b[0m\u001b[1;33m\u001b[0m\u001b[0m\n\u001b[0m",
      "\u001b[1;31mNameError\u001b[0m: name 'b' is not defined"
     ]
    }
   ],
   "source": [
    "#i wiil be geeting the same name error message that we  got over in code line [1]\n",
    "a=b"
   ]
  },
  {
   "cell_type": "code",
   "execution_count": 7,
   "id": "6f8a34d0",
   "metadata": {},
   "outputs": [
    {
     "name": "stdout",
     "output_type": "stream",
     "text": [
      "the user have not defined the variable\n"
     ]
    }
   ],
   "source": [
    "#see upp we get error NameError now if a front end user see this and they dont know about coding its not easy to understand thios for frontend user to solve\n",
    "#how i handle this we see there\n",
    "try:\n",
    "    ##code block wehre exception can occur\n",
    "    a=b\n",
    "except NameError as ex1:\n",
    "        print(\"the user have not defined the variable\")    \n",
    "except Exception as ex:\n",
    "        print(ex)"
   ]
  },
  {
   "cell_type": "code",
   "execution_count": 8,
   "id": "02227a25",
   "metadata": {},
   "outputs": [
    {
     "name": "stdout",
     "output_type": "stream",
     "text": [
      "unsupported operand type(s) for +: 'int' and 'str'\n"
     ]
    }
   ],
   "source": [
    "#lets see another example\n",
    "try:\n",
    "    ##code block wehre exception can occur\n",
    "    a=1\n",
    "    b='s'\n",
    "    c=a+b\n",
    "    # now below code dont catch this\n",
    "    #error as we know int and char cant be add lets see\n",
    "except NameError as ex1:\n",
    "        print(\"the user have not defined the variable\")    \n",
    "except Exception as ex:\n",
    "        print(ex)\n"
   ]
  },
  {
   "cell_type": "code",
   "execution_count": 10,
   "id": "f17fe71f",
   "metadata": {},
   "outputs": [
    {
     "ename": "TypeError",
     "evalue": "unsupported operand type(s) for +: 'int' and 'str'",
     "output_type": "error",
     "traceback": [
      "\u001b[1;31m---------------------------------------------------------------------------\u001b[0m",
      "\u001b[1;31mTypeError\u001b[0m                                 Traceback (most recent call last)",
      "\u001b[1;32mC:\\Users\\VISHAL~1\\AppData\\Local\\Temp/ipykernel_12868/2760312236.py\u001b[0m in \u001b[0;36m<module>\u001b[1;34m\u001b[0m\n\u001b[0;32m      2\u001b[0m \u001b[0ma\u001b[0m\u001b[1;33m=\u001b[0m\u001b[1;36m1\u001b[0m\u001b[1;33m\u001b[0m\u001b[1;33m\u001b[0m\u001b[0m\n\u001b[0;32m      3\u001b[0m \u001b[0mb\u001b[0m\u001b[1;33m=\u001b[0m\u001b[1;34m's'\u001b[0m\u001b[1;33m\u001b[0m\u001b[1;33m\u001b[0m\u001b[0m\n\u001b[1;32m----> 4\u001b[1;33m \u001b[0mc\u001b[0m\u001b[1;33m=\u001b[0m\u001b[0ma\u001b[0m\u001b[1;33m+\u001b[0m\u001b[0mb\u001b[0m\u001b[1;33m\u001b[0m\u001b[1;33m\u001b[0m\u001b[0m\n\u001b[0m",
      "\u001b[1;31mTypeError\u001b[0m: unsupported operand type(s) for +: 'int' and 'str'"
     ]
    }
   ],
   "source": [
    "#see so we have to update the new exception first see what is this kind of exception\n",
    "a=1\n",
    "b='s'\n",
    "c=a+b\n"
   ]
  },
  {
   "cell_type": "code",
   "execution_count": 11,
   "id": "7170a307",
   "metadata": {},
   "outputs": [
    {
     "name": "stdout",
     "output_type": "stream",
     "text": [
      "try to make data type similar\n"
     ]
    }
   ],
   "source": [
    "#lets see another example\n",
    "try:\n",
    "    ##code block wehre exception can occur\n",
    "    a=1\n",
    "    b='s'\n",
    "    c=a+b\n",
    "except TypeError as ex2:\n",
    "        print(\"try to make data type similar\")     \n",
    "except NameError as ex1:\n",
    "        print(\"the user have not defined the variable\")    \n",
    "except Exception as ex:\n",
    "        print(ex)\n"
   ]
  },
  {
   "cell_type": "code",
   "execution_count": 13,
   "id": "e5ce6048",
   "metadata": {},
   "outputs": [
    {
     "name": "stdout",
     "output_type": "stream",
     "text": [
      "Enter the number 112 \n",
      "Enter the number 256\n",
      "0.21428571428571427\n",
      "-44\n",
      "672\n",
      "68\n"
     ]
    }
   ],
   "source": [
    "# type error got caught here @\n",
    "#lets see another example\n",
    "try:\n",
    "    ##code block wehre exception can occur\n",
    "    a=int(input(\"Enter the number 1\"))\n",
    "    b=int(input(\"Enter the number 2\"))\n",
    "    c=a/b\n",
    "    f=a+b\n",
    "    d=a-b\n",
    "    e=a*b\n",
    "    print(c)\n",
    "    print(d)\n",
    "    print(e)\n",
    "    print(f)\n",
    "    \n",
    "    \n",
    "except TypeError as ex2:\n",
    "        print(\"try to make data type similar\")     \n",
    "except NameError as ex1:\n",
    "        print(\"the user have not defined the variable\")    \n",
    "except Exception as ex:\n",
    "        print(ex)\n",
    "\n"
   ]
  },
  {
   "cell_type": "code",
   "execution_count": 15,
   "id": "f03663ea",
   "metadata": {},
   "outputs": [
    {
     "name": "stdout",
     "output_type": "stream",
     "text": [
      "Enter the number 1 12\n",
      "Enter the number 2 0\n",
      "division by zero\n"
     ]
    }
   ],
   "source": [
    "#if we take value =0 of num1 or num2\n",
    "# type error got caught here @\n",
    "#lets see another example\n",
    "try:\n",
    "    ##code block wehre exception can occur\n",
    "    a=int(input(\"Enter the number 1 \"))\n",
    "    b=int(input(\"Enter the number 2 \"))\n",
    "    c=a/b\n",
    "    f=a+b\n",
    "    d=a-b\n",
    "    e=a*b\n",
    "    print(c)\n",
    "    print(d)\n",
    "    print(e)\n",
    "    print(f)\n",
    "    \n",
    "    \n",
    "except TypeError as ex2:\n",
    "        print(\"try to make data type similar\")     \n",
    "except NameError as ex1:\n",
    "        print(\"the user have not defined the variable\")    \n",
    "except Exception as ex:\n",
    "        print(ex)\n"
   ]
  },
  {
   "cell_type": "code",
   "execution_count": 16,
   "id": "506131e4",
   "metadata": {},
   "outputs": [
    {
     "ename": "ZeroDivisionError",
     "evalue": "division by zero",
     "output_type": "error",
     "traceback": [
      "\u001b[1;31m---------------------------------------------------------------------------\u001b[0m",
      "\u001b[1;31mZeroDivisionError\u001b[0m                         Traceback (most recent call last)",
      "\u001b[1;32mC:\\Users\\VISHAL~1\\AppData\\Local\\Temp/ipykernel_12868/21889111.py\u001b[0m in \u001b[0;36m<module>\u001b[1;34m\u001b[0m\n\u001b[1;32m----> 1\u001b[1;33m \u001b[1;36m12\u001b[0m\u001b[1;33m/\u001b[0m\u001b[1;36m0\u001b[0m\u001b[1;33m\u001b[0m\u001b[1;33m\u001b[0m\u001b[0m\n\u001b[0m",
      "\u001b[1;31mZeroDivisionError\u001b[0m: division by zero"
     ]
    }
   ],
   "source": [
    "12/0#they give ZeroDivisionError exception"
   ]
  },
  {
   "cell_type": "code",
   "execution_count": 17,
   "id": "f3b7b5e2",
   "metadata": {},
   "outputs": [
    {
     "name": "stdout",
     "output_type": "stream",
     "text": [
      "Enter the number 1 12\n",
      "Enter the number 2 0\n",
      "try to provide no greater than 0 \n"
     ]
    }
   ],
   "source": [
    "#lets see another example\n",
    "try:\n",
    "    ##code block wehre exception can occur\n",
    "    a=int(input(\"Enter the number 1 \"))\n",
    "    b=int(input(\"Enter the number 2 \"))\n",
    "    c=a/b\n",
    "    f=a+b\n",
    "    d=a-b\n",
    "    e=a*b\n",
    "    print(c)\n",
    "    print(d)\n",
    "    print(e)\n",
    "    print(f)\n",
    "    \n",
    "except ZeroDivisionError as ex3:\n",
    "        print(\"try to provide no greater than 0 \")    \n",
    "    \n",
    "except TypeError as ex2:\n",
    "        print(\"try to make data type similar\")     \n",
    "except NameError as ex1:\n",
    "        print(\"the user have not defined the variable\")    \n",
    "except Exception as ex:\n",
    "        print(ex)"
   ]
  },
  {
   "cell_type": "code",
   "execution_count": 1,
   "id": "29cc89b8",
   "metadata": {},
   "outputs": [
    {
     "name": "stdout",
     "output_type": "stream",
     "text": [
      "Enter the number 1 12\n",
      "Enter the number 2 8\n",
      "1.5\n",
      "4\n",
      "20\n",
      "96\n"
     ]
    }
   ],
   "source": [
    "#lets see another example\n",
    "#try else\n",
    "try:\n",
    "    ##code block wehre exception can occur\n",
    "    a=int(input(\"Enter the number 1 \"))\n",
    "    b=int(input(\"Enter the number 2 \"))\n",
    "    c=a/b\n",
    "    f=a+b\n",
    "    d=a-b\n",
    "    e=a*b\n",
    "#     print(c)\n",
    "#     print(d)\n",
    "#     print(e)\n",
    "#     print(f)\n",
    "#while using else function we \n",
    "#need to right thiscode here \n",
    "    \n",
    "except ZeroDivisionError as ex3:\n",
    "        print(\"try to provide no greater than 0 \")    \n",
    "    \n",
    "except TypeError as ex2:\n",
    "        print(\"try to make data type similar\")     \n",
    "except NameError as ex1:\n",
    "        print(\"the user have not defined the variable\")    \n",
    "except Exception as ex:\n",
    "        print(ex)\n",
    "else:\n",
    "    print(c)\n",
    "    print(d)\n",
    "    print(f)\n",
    "    print(e)\n",
    "    "
   ]
  },
  {
   "cell_type": "code",
   "execution_count": 2,
   "id": "0c78b96e",
   "metadata": {},
   "outputs": [
    {
     "name": "stdout",
     "output_type": "stream",
     "text": [
      "Enter the number 1 12\n",
      "Enter the number 2 0\n",
      "try to provide no greater than 0 \n"
     ]
    }
   ],
   "source": [
    "#lets see another example\n",
    "#try else\n",
    "try:\n",
    "    ##code block wehre exception can occur\n",
    "    a=int(input(\"Enter the number 1 \"))\n",
    "    b=int(input(\"Enter the number 2 \"))\n",
    "    c=a/b\n",
    "    f=a+b\n",
    "    d=a-b\n",
    "    e=a*b\n",
    "#     print(c)\n",
    "#     print(d)\n",
    "#     print(e)\n",
    "#     print(f)\n",
    "#while using else function we \n",
    "#need to right thiscode here \n",
    "    \n",
    "except ZeroDivisionError as ex3:\n",
    "        print(\"try to provide no greater than 0 \")    \n",
    "    \n",
    "except TypeError as ex2:\n",
    "        print(\"try to make data type similar\")     \n",
    "except NameError as ex1:\n",
    "        print(\"the user have not defined the variable\")    \n",
    "except Exception as ex:\n",
    "        print(ex)\n",
    "else:\n",
    "    print(c)\n",
    "    print(d)\n",
    "    print(f)\n",
    "    print(e)\n",
    "    #while code handling any exception then this else function not \n",
    "    #work there they  directly come out from here lets see"
   ]
  },
  {
   "cell_type": "code",
   "execution_count": 3,
   "id": "9978c8a5",
   "metadata": {},
   "outputs": [
    {
     "name": "stdout",
     "output_type": "stream",
     "text": [
      "Enter the number 1 12\n",
      "Enter the number 2 0\n",
      "try to provide no greater than 0 \n",
      "The ececution is done\n"
     ]
    }
   ],
   "source": [
    "#lets see another example\n",
    "#try finally\n",
    "try:\n",
    "    ##code block wehre exception can occur\n",
    "    a=int(input(\"Enter the number 1 \"))\n",
    "    b=int(input(\"Enter the number 2 \"))\n",
    "    c=a/b\n",
    "    f=a+b\n",
    "    d=a-b\n",
    "    e=a*b\n",
    "#     print(c)\n",
    "#     print(d)\n",
    "#     print(e)\n",
    "#     print(f)\n",
    "#while using else function we \n",
    "#need to right thiscode here \n",
    "    \n",
    "except ZeroDivisionError as ex3:\n",
    "        print(\"try to provide no greater than 0 \")    \n",
    "    \n",
    "except TypeError as ex2:\n",
    "        print(\"try to make data type similar\")     \n",
    "except NameError as ex1:\n",
    "        print(\"the user have not defined the variable\")    \n",
    "except Exception as ex:\n",
    "        print(ex)\n",
    "else:\n",
    "    print(c)\n",
    "    print(d)\n",
    "    print(f)\n",
    "    print(e)\n",
    "finally:\n",
    "    print(\"The ececution is done\")\n",
    "    \n",
    "    \n",
    "#finally block will always get printed"
   ]
  },
  {
   "cell_type": "code",
   "execution_count": null,
   "id": "921046be",
   "metadata": {},
   "outputs": [],
   "source": []
  }
 ],
 "metadata": {
  "kernelspec": {
   "display_name": "Python 3 (ipykernel)",
   "language": "python",
   "name": "python3"
  },
  "language_info": {
   "codemirror_mode": {
    "name": "ipython",
    "version": 3
   },
   "file_extension": ".py",
   "mimetype": "text/x-python",
   "name": "python",
   "nbconvert_exporter": "python",
   "pygments_lexer": "ipython3",
   "version": "3.9.7"
  }
 },
 "nbformat": 4,
 "nbformat_minor": 5
}
