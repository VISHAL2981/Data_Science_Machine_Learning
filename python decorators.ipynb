{
 "cells": [
  {
   "cell_type": "markdown",
   "id": "1850f253",
   "metadata": {},
   "source": [
    "# python decorators"
   ]
  },
  {
   "cell_type": "code",
   "execution_count": 1,
   "id": "12e5816f",
   "metadata": {},
   "outputs": [],
   "source": [
    "#functions copy\n",
    "#closures\n",
    "#decorators\n"
   ]
  },
  {
   "cell_type": "code",
   "execution_count": 2,
   "id": "defd77d4",
   "metadata": {},
   "outputs": [],
   "source": [
    "def welcome():\n",
    "    return \"Welcome To Vishal Nimesh House\""
   ]
  },
  {
   "cell_type": "code",
   "execution_count": 3,
   "id": "f4762568",
   "metadata": {},
   "outputs": [],
   "source": [
    "wel=welcome()\n",
    "del welcome"
   ]
  },
  {
   "cell_type": "code",
   "execution_count": 4,
   "id": "18fa409c",
   "metadata": {},
   "outputs": [
    {
     "data": {
      "text/plain": [
       "'Welcome To Vishal Nimesh House'"
      ]
     },
     "execution_count": 4,
     "metadata": {},
     "output_type": "execute_result"
    }
   ],
   "source": [
    "wel"
   ]
  },
  {
   "cell_type": "code",
   "execution_count": 5,
   "id": "a3ace21a",
   "metadata": {},
   "outputs": [
    {
     "ename": "NameError",
     "evalue": "name 'welcome' is not defined",
     "output_type": "error",
     "traceback": [
      "\u001b[1;31m---------------------------------------------------------------------------\u001b[0m",
      "\u001b[1;31mNameError\u001b[0m                                 Traceback (most recent call last)",
      "\u001b[1;32mC:\\Users\\VISHAL~1\\AppData\\Local\\Temp/ipykernel_12712/241228648.py\u001b[0m in \u001b[0;36m<module>\u001b[1;34m\u001b[0m\n\u001b[1;32m----> 1\u001b[1;33m \u001b[0mwelcome\u001b[0m\u001b[1;33m(\u001b[0m\u001b[1;33m)\u001b[0m\u001b[1;33m\u001b[0m\u001b[1;33m\u001b[0m\u001b[0m\n\u001b[0m",
      "\u001b[1;31mNameError\u001b[0m: name 'welcome' is not defined"
     ]
    }
   ],
   "source": [
    "welcome()"
   ]
  },
  {
   "cell_type": "code",
   "execution_count": 9,
   "id": "07c0a038",
   "metadata": {},
   "outputs": [],
   "source": [
    "##closures\n",
    "def main_welcome(msg):\n",
    "    def sub_welcome_class():\n",
    "        print(\"welcome to vishal studio\")\n",
    "        print(msg)\n",
    "        print(\"plz visit vishal clothes store\")\n",
    "    return sub_welcome_class()   \n",
    "##In this closure we will be able to provide \n",
    "# whatevr is your input on the main function and \n",
    "# you are defining your inner function inside  that\n",
    "# specific funtion you can also use that varibale \n",
    "# that is available in main function or parent \n",
    "# function "
   ]
  },
  {
   "cell_type": "code",
   "execution_count": 12,
   "id": "96676ed4",
   "metadata": {},
   "outputs": [
    {
     "name": "stdout",
     "output_type": "stream",
     "text": [
      "welcome to vishal studio\n",
      "vishu\n",
      "plz visit vishal clothes store\n"
     ]
    }
   ],
   "source": [
    "main_welcome(\"vishu\")"
   ]
  },
  {
   "cell_type": "code",
   "execution_count": 13,
   "id": "0426f3d5",
   "metadata": {},
   "outputs": [],
   "source": [
    "##closures\n",
    "def main_welcome(func):\n",
    "    def sub_welcome_class():\n",
    "        print(\"welcome to vishal studio\")\n",
    "        func(\"this is python series\")\n",
    "        print(\"plz visit vishal clothes store\")\n",
    "    return sub_welcome_class() "
   ]
  },
  {
   "cell_type": "code",
   "execution_count": 14,
   "id": "f11efee3",
   "metadata": {},
   "outputs": [
    {
     "name": "stdout",
     "output_type": "stream",
     "text": [
      "welcome to vishal studio\n",
      "this is python series\n",
      "plz visit vishal clothes store\n"
     ]
    }
   ],
   "source": [
    "main_welcome(print)\n",
    "##what ever inbuilt function that i am passing over\n",
    "# here based on that this particular function can\n",
    "# be called inside a sub function"
   ]
  },
  {
   "cell_type": "code",
   "execution_count": 16,
   "id": "0947b2a4",
   "metadata": {},
   "outputs": [],
   "source": [
    "##closures and initial decorators \n",
    "def main_welcome(func):\n",
    "    def sub_welcome_class():\n",
    "        print(\"welcome to vishal studio\")\n",
    "        print(func([1,2,3,4,5,6,7,8,9]))\n",
    "        print(\"plz visit vishal clothes store\")\n",
    "    return sub_welcome_class() "
   ]
  },
  {
   "cell_type": "code",
   "execution_count": 17,
   "id": "e10711d7",
   "metadata": {},
   "outputs": [
    {
     "name": "stdout",
     "output_type": "stream",
     "text": [
      "welcome to vishal studio\n",
      "9\n",
      "plz visit vishal clothes store\n"
     ]
    }
   ],
   "source": [
    "main_welcome(len)"
   ]
  },
  {
   "cell_type": "code",
   "execution_count": 18,
   "id": "93260a12",
   "metadata": {},
   "outputs": [],
   "source": [
    "## decorators \n",
    "def main_welcome(func):\n",
    "    def sub_welcome_class():\n",
    "        print(\"welcome to vishal studio\")\n",
    "        func()\n",
    "        print(\"plz visit vishal clothes store\")\n",
    "    return sub_welcome_class() "
   ]
  },
  {
   "cell_type": "code",
   "execution_count": 19,
   "id": "bbe7ddfe",
   "metadata": {},
   "outputs": [],
   "source": [
    "def channel_name():\n",
    "    print(\"this is pubg channel\")"
   ]
  },
  {
   "cell_type": "code",
   "execution_count": 20,
   "id": "979c9503",
   "metadata": {},
   "outputs": [
    {
     "name": "stdout",
     "output_type": "stream",
     "text": [
      "welcome to vishal studio\n",
      "this is pubg channel\n",
      "plz visit vishal clothes store\n"
     ]
    }
   ],
   "source": [
    "main_welcome(channel_name)"
   ]
  },
  {
   "cell_type": "code",
   "execution_count": 22,
   "id": "2cda409d",
   "metadata": {},
   "outputs": [
    {
     "name": "stdout",
     "output_type": "stream",
     "text": [
      "welcome to vishal studio\n",
      "this is pubg channel\n",
      "plz visit vishal clothes store\n"
     ]
    }
   ],
   "source": [
    "a=main_welcome(channel_name)"
   ]
  },
  {
   "cell_type": "code",
   "execution_count": 23,
   "id": "8dc5f52e",
   "metadata": {},
   "outputs": [],
   "source": [
    "a # it is not giving anything this is just like a decorator but if we right  @main_welcome we dont \n",
    "# need to call function by  write another code"
   ]
  },
  {
   "cell_type": "code",
   "execution_count": 25,
   "id": "e854a482",
   "metadata": {},
   "outputs": [
    {
     "name": "stdout",
     "output_type": "stream",
     "text": [
      "welcome to vishal studio\n",
      "this is pubg channel\n",
      "plz visit vishal clothes store\n"
     ]
    }
   ],
   "source": [
    "@main_welcome\n",
    "def channel_name():\n",
    "    print(\"this is pubg channel\")\n",
    "    # a shortcut way "
   ]
  },
  {
   "cell_type": "code",
   "execution_count": null,
   "id": "05637507",
   "metadata": {},
   "outputs": [],
   "source": []
  }
 ],
 "metadata": {
  "kernelspec": {
   "display_name": "Python 3 (ipykernel)",
   "language": "python",
   "name": "python3"
  },
  "language_info": {
   "codemirror_mode": {
    "name": "ipython",
    "version": 3
   },
   "file_extension": ".py",
   "mimetype": "text/x-python",
   "name": "python",
   "nbconvert_exporter": "python",
   "pygments_lexer": "ipython3",
   "version": "3.9.7"
  }
 },
 "nbformat": 4,
 "nbformat_minor": 5
}
