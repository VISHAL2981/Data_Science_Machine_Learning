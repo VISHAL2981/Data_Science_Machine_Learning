{
 "cells": [
  {
   "cell_type": "markdown",
   "id": "fcbc085e",
   "metadata": {},
   "source": [
    "# list comprehesnion\n",
    "list comprehension provide a coccise way to create list consist of brackets containg an expression followed by a for clause then zero or more for or if clauses the expressions can be anything meaning u can put in all lindas of obkects in lists"
   ]
  },
  {
   "cell_type": "code",
   "execution_count": 2,
   "id": "345b2073",
   "metadata": {},
   "outputs": [],
   "source": [
    "lst1=[]\n",
    "def lst_square(lst):\n",
    "    for i in lst:\n",
    "        lst1.append(i*i)\n",
    "    return lst1"
   ]
  },
  {
   "cell_type": "code",
   "execution_count": 3,
   "id": "74f6b49f",
   "metadata": {},
   "outputs": [
    {
     "data": {
      "text/plain": [
       "[1, 4, 9, 16, 25, 36, 49, 64, 81]"
      ]
     },
     "execution_count": 3,
     "metadata": {},
     "output_type": "execute_result"
    }
   ],
   "source": [
    "lst_square([1,2,3,4,5,6,7,8,9])"
   ]
  },
  {
   "cell_type": "code",
   "execution_count": 5,
   "id": "94472d16",
   "metadata": {},
   "outputs": [],
   "source": [
    "# now we use list comprehnesion we use it to upper code and we do it in one line lets see   \n",
    "\n",
    "lst=[1,2,3,4,5,6,7,8,9]"
   ]
  },
  {
   "cell_type": "code",
   "execution_count": 14,
   "id": "f319a33f",
   "metadata": {},
   "outputs": [],
   "source": [
    "lst1=[i*i for i in lst] #list comprehesnion we use there"
   ]
  },
  {
   "cell_type": "code",
   "execution_count": 15,
   "id": "57f8bf88",
   "metadata": {},
   "outputs": [
    {
     "name": "stdout",
     "output_type": "stream",
     "text": [
      "[1, 4, 9, 16, 25, 36, 49, 64, 81]\n"
     ]
    }
   ],
   "source": [
    "print(lst1)"
   ]
  },
  {
   "cell_type": "code",
   "execution_count": 16,
   "id": "9100c756",
   "metadata": {},
   "outputs": [],
   "source": [
    "# now we just want to square only even numbers list comprehesnion we use there\n",
    "lst1=[i*i for i in lst if i%2==0]"
   ]
  },
  {
   "cell_type": "code",
   "execution_count": 17,
   "id": "346af2bd",
   "metadata": {},
   "outputs": [
    {
     "name": "stdout",
     "output_type": "stream",
     "text": [
      "[4, 16, 36, 64]\n"
     ]
    }
   ],
   "source": [
    "print(lst1)"
   ]
  },
  {
   "cell_type": "code",
   "execution_count": 18,
   "id": "6dbf4b32",
   "metadata": {},
   "outputs": [],
   "source": [
    "# now we just want to square only odd numbers list comprehesnion we use there\n",
    "lst1=[i*i for i in lst if i%2!=0]"
   ]
  },
  {
   "cell_type": "code",
   "execution_count": 19,
   "id": "c8f6fd52",
   "metadata": {},
   "outputs": [
    {
     "name": "stdout",
     "output_type": "stream",
     "text": [
      "[1, 9, 25, 49, 81]\n"
     ]
    }
   ],
   "source": [
    "print(lst1)"
   ]
  },
  {
   "cell_type": "code",
   "execution_count": null,
   "id": "7bbbb42c",
   "metadata": {},
   "outputs": [],
   "source": []
  }
 ],
 "metadata": {
  "kernelspec": {
   "display_name": "Python 3 (ipykernel)",
   "language": "python",
   "name": "python3"
  },
  "language_info": {
   "codemirror_mode": {
    "name": "ipython",
    "version": 3
   },
   "file_extension": ".py",
   "mimetype": "text/x-python",
   "name": "python",
   "nbconvert_exporter": "python",
   "pygments_lexer": "ipython3",
   "version": "3.9.7"
  }
 },
 "nbformat": 4,
 "nbformat_minor": 5
}
