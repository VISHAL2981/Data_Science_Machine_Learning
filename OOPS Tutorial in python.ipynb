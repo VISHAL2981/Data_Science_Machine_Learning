{
 "cells": [
  {
   "cell_type": "markdown",
   "id": "1ce93d97",
   "metadata": {},
   "source": [
    "# OOPS Tutorial in python"
   ]
  },
  {
   "cell_type": "code",
   "execution_count": 1,
   "id": "4e4a72ea",
   "metadata": {},
   "outputs": [],
   "source": [
    "class car:\n",
    "    pass\n"
   ]
  },
  {
   "cell_type": "code",
   "execution_count": 2,
   "id": "4c6c49e5",
   "metadata": {},
   "outputs": [],
   "source": [
    "car1=car()"
   ]
  },
  {
   "cell_type": "code",
   "execution_count": 3,
   "id": "b6967ed4",
   "metadata": {},
   "outputs": [
    {
     "data": {
      "text/plain": [
       "<__main__.car at 0x198c75a60a0>"
      ]
     },
     "execution_count": 3,
     "metadata": {},
     "output_type": "execute_result"
    }
   ],
   "source": [
    "car1"
   ]
  },
  {
   "cell_type": "code",
   "execution_count": 4,
   "id": "818bf256",
   "metadata": {},
   "outputs": [],
   "source": [
    "car1.windows=4\n",
    "car1.seats=2\n",
    "car1.airbags=5\n",
    "car1.doors=4"
   ]
  },
  {
   "cell_type": "code",
   "execution_count": 5,
   "id": "91545756",
   "metadata": {},
   "outputs": [
    {
     "name": "stdout",
     "output_type": "stream",
     "text": [
      "4\n"
     ]
    }
   ],
   "source": [
    "print(car1.windows)"
   ]
  },
  {
   "cell_type": "code",
   "execution_count": 6,
   "id": "37e8f5d4",
   "metadata": {},
   "outputs": [],
   "source": [
    "car2=car()"
   ]
  },
  {
   "cell_type": "code",
   "execution_count": 7,
   "id": "701af760",
   "metadata": {},
   "outputs": [],
   "source": [
    "car2.windows=8\n",
    "car2.seats=5\n",
    "car2.airbags=6\n",
    "car2.doors=2\n",
    "car2.enginetype=petrol"
   ]
  },
  {
   "cell_type": "code",
   "execution_count": 8,
   "id": "a6930aaf",
   "metadata": {},
   "outputs": [
    {
     "name": "stdout",
     "output_type": "stream",
     "text": [
      "2\n"
     ]
    }
   ],
   "source": [
    "print(car2.doors)"
   ]
  },
  {
   "cell_type": "code",
   "execution_count": 10,
   "id": "075c5fde",
   "metadata": {},
   "outputs": [],
   "source": [
    "car2.enginetype=\"petrol\""
   ]
  },
  {
   "cell_type": "code",
   "execution_count": 11,
   "id": "f8872d64",
   "metadata": {},
   "outputs": [
    {
     "name": "stdout",
     "output_type": "stream",
     "text": [
      "petrol\n"
     ]
    }
   ],
   "source": [
    "print(car2.enginetype)"
   ]
  },
  {
   "cell_type": "code",
   "execution_count": 12,
   "id": "cb56e80c",
   "metadata": {},
   "outputs": [],
   "source": [
    "#this is bad approach to make attributes\n"
   ]
  },
  {
   "cell_type": "code",
   "execution_count": 17,
   "id": "c2506359",
   "metadata": {},
   "outputs": [
    {
     "data": {
      "text/plain": [
       "['__class__',\n",
       " '__delattr__',\n",
       " '__dict__',\n",
       " '__dir__',\n",
       " '__doc__',\n",
       " '__eq__',\n",
       " '__format__',\n",
       " '__ge__',\n",
       " '__getattribute__',\n",
       " '__gt__',\n",
       " '__hash__',\n",
       " '__init__',\n",
       " '__init_subclass__',\n",
       " '__le__',\n",
       " '__lt__',\n",
       " '__module__',\n",
       " '__ne__',\n",
       " '__new__',\n",
       " '__reduce__',\n",
       " '__reduce_ex__',\n",
       " '__repr__',\n",
       " '__setattr__',\n",
       " '__sizeof__',\n",
       " '__str__',\n",
       " '__subclasshook__',\n",
       " '__weakref__',\n",
       " 'airbags',\n",
       " 'doors',\n",
       " 'seats',\n",
       " 'windows']"
      ]
     },
     "execution_count": 17,
     "metadata": {},
     "output_type": "execute_result"
    }
   ],
   "source": [
    "#best way\n",
    "dir(car1) "
   ]
  },
  {
   "cell_type": "code",
   "execution_count": 42,
   "id": "217a89bd",
   "metadata": {},
   "outputs": [],
   "source": [
    "#see upper there is __init__ it is a cconstructor it is used for instalize how many no of properties is using in particular function\n",
    "class car:\n",
    "    def __init__(self,window,seat,door,enginetype):\n",
    "        self.windows=window\n",
    "        self.doors=door\n",
    "        self.enginetypes=enginetype\n",
    "        self.seats=seat\n",
    "    def self_driving(self):\n",
    "        return \"this is a {} car\".format(self.enginetypes)\n",
    "    \n"
   ]
  },
  {
   "cell_type": "code",
   "execution_count": 54,
   "id": "362a4305",
   "metadata": {},
   "outputs": [],
   "source": [
    "car1=car(4,5,9,\"petrol\")\n"
   ]
  },
  {
   "cell_type": "code",
   "execution_count": 55,
   "id": "b1a46b2f",
   "metadata": {},
   "outputs": [
    {
     "data": {
      "text/plain": [
       "'this is a petrol car'"
      ]
     },
     "execution_count": 55,
     "metadata": {},
     "output_type": "execute_result"
    }
   ],
   "source": [
    "car1.self_driving()"
   ]
  },
  {
   "cell_type": "code",
   "execution_count": 56,
   "id": "53e74533",
   "metadata": {},
   "outputs": [],
   "source": [
    "car2=car(5,8,5,\"Diesel\")"
   ]
  },
  {
   "cell_type": "code",
   "execution_count": 57,
   "id": "83989bea",
   "metadata": {},
   "outputs": [
    {
     "data": {
      "text/plain": [
       "'this is a Diesel car'"
      ]
     },
     "execution_count": 57,
     "metadata": {},
     "output_type": "execute_result"
    }
   ],
   "source": [
    "car2.self_driving()"
   ]
  },
  {
   "cell_type": "code",
   "execution_count": 58,
   "id": "b78d0bdf",
   "metadata": {},
   "outputs": [
    {
     "name": "stdout",
     "output_type": "stream",
     "text": [
      "4\n"
     ]
    }
   ],
   "source": [
    "print(car1.windows)\n"
   ]
  },
  {
   "cell_type": "code",
   "execution_count": 59,
   "id": "29167478",
   "metadata": {},
   "outputs": [
    {
     "name": "stdout",
     "output_type": "stream",
     "text": [
      "petrol\n"
     ]
    }
   ],
   "source": [
    "print(car1.enginetypes)"
   ]
  },
  {
   "cell_type": "code",
   "execution_count": 60,
   "id": "63395b0c",
   "metadata": {},
   "outputs": [
    {
     "name": "stdout",
     "output_type": "stream",
     "text": [
      "5\n"
     ]
    }
   ],
   "source": [
    "print(car2.windows)"
   ]
  },
  {
   "cell_type": "code",
   "execution_count": 61,
   "id": "1b8f1bf3",
   "metadata": {},
   "outputs": [
    {
     "name": "stdout",
     "output_type": "stream",
     "text": [
      "5\n"
     ]
    }
   ],
   "source": [
    "print(car2.doors)"
   ]
  },
  {
   "cell_type": "code",
   "execution_count": 62,
   "id": "1fef7f05",
   "metadata": {},
   "outputs": [
    {
     "name": "stdout",
     "output_type": "stream",
     "text": [
      "Diesel\n"
     ]
    }
   ],
   "source": [
    "print(car2.enginetypes)"
   ]
  },
  {
   "cell_type": "code",
   "execution_count": 63,
   "id": "0aeee09c",
   "metadata": {},
   "outputs": [
    {
     "name": "stdout",
     "output_type": "stream",
     "text": [
      "8\n"
     ]
    }
   ],
   "source": [
    "print(car2.seats)"
   ]
  },
  {
   "cell_type": "code",
   "execution_count": null,
   "id": "8d116ebb",
   "metadata": {},
   "outputs": [],
   "source": []
  },
  {
   "cell_type": "code",
   "execution_count": null,
   "id": "1efcc89b",
   "metadata": {},
   "outputs": [],
   "source": []
  }
 ],
 "metadata": {
  "kernelspec": {
   "display_name": "Python 3 (ipykernel)",
   "language": "python",
   "name": "python3"
  },
  "language_info": {
   "codemirror_mode": {
    "name": "ipython",
    "version": 3
   },
   "file_extension": ".py",
   "mimetype": "text/x-python",
   "name": "python",
   "nbconvert_exporter": "python",
   "pygments_lexer": "ipython3",
   "version": "3.9.7"
  }
 },
 "nbformat": 4,
 "nbformat_minor": 5
}
