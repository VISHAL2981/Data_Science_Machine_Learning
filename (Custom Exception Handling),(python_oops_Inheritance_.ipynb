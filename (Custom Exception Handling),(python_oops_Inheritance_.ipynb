{
 "cells": [
  {
   "cell_type": "markdown",
   "id": "115ca9e5",
   "metadata": {},
   "source": [
    "# Custom Exception Handling| python oops- Inheritance"
   ]
  },
  {
   "cell_type": "code",
   "execution_count": 1,
   "id": "696807e7",
   "metadata": {},
   "outputs": [],
   "source": [
    "class Error(Exception):\n",
    "    pass\n",
    "class dobException(Error):\n",
    "    pass"
   ]
  },
  {
   "cell_type": "code",
   "execution_count": 12,
   "id": "e09d7d62",
   "metadata": {},
   "outputs": [
    {
     "name": "stdout",
     "output_type": "stream",
     "text": [
      "year of Birth is1998\n",
      "[welcome] you are eligible\n"
     ]
    }
   ],
   "source": [
    "year=int(input(\"year of Birth is\"))\n",
    "age=2022-year\n",
    "try:\n",
    "        \n",
    "    if age<=30 & age>20:\n",
    "        print(\"[welcome] you are eligible\")\n",
    "    else:\n",
    "        raise dobException\n",
    "except dobException:\n",
    "    print(\"you are not eligible to Fill this Form \")\n"
   ]
  },
  {
   "cell_type": "markdown",
   "id": "f095c273",
   "metadata": {},
   "source": [
    "# python oops inheritance"
   ]
  },
  {
   "cell_type": "code",
   "execution_count": 19,
   "id": "1ce860eb",
   "metadata": {},
   "outputs": [],
   "source": [
    "## all the class varibales are public\n",
    "##blue print\n",
    "class Car():\n",
    "    def __init__(self,windows,doors,enginetype):\n",
    "        self.windows=windows\n",
    "        self.doors=doors\n",
    "        self.enginetype=enginetype\n",
    "    ##public method its functionality present inside the car\n",
    "    def drive(self):\n",
    "        print(\"the person drives the car\")\n",
    "\n",
    "        \n",
    "    "
   ]
  },
  {
   "cell_type": "code",
   "execution_count": 20,
   "id": "7e409c47",
   "metadata": {},
   "outputs": [],
   "source": [
    "car=Car(4,5,\"diesel\")"
   ]
  },
  {
   "cell_type": "code",
   "execution_count": 21,
   "id": "71b3c746",
   "metadata": {},
   "outputs": [
    {
     "data": {
      "text/plain": [
       "4"
      ]
     },
     "execution_count": 21,
     "metadata": {},
     "output_type": "execute_result"
    }
   ],
   "source": [
    "car.windows"
   ]
  },
  {
   "cell_type": "code",
   "execution_count": 22,
   "id": "6da8ba67",
   "metadata": {},
   "outputs": [
    {
     "data": {
      "text/plain": [
       "['__class__',\n",
       " '__delattr__',\n",
       " '__dict__',\n",
       " '__dir__',\n",
       " '__doc__',\n",
       " '__eq__',\n",
       " '__format__',\n",
       " '__ge__',\n",
       " '__getattribute__',\n",
       " '__gt__',\n",
       " '__hash__',\n",
       " '__init__',\n",
       " '__init_subclass__',\n",
       " '__le__',\n",
       " '__lt__',\n",
       " '__module__',\n",
       " '__ne__',\n",
       " '__new__',\n",
       " '__reduce__',\n",
       " '__reduce_ex__',\n",
       " '__repr__',\n",
       " '__setattr__',\n",
       " '__sizeof__',\n",
       " '__str__',\n",
       " '__subclasshook__',\n",
       " '__weakref__',\n",
       " 'doors',\n",
       " 'drive',\n",
       " 'enginetype',\n",
       " 'windows']"
      ]
     },
     "execution_count": 22,
     "metadata": {},
     "output_type": "execute_result"
    }
   ],
   "source": [
    "dir(car) ## we can see here  our all public varibales\n"
   ]
  },
  {
   "cell_type": "code",
   "execution_count": 17,
   "id": "2667c857",
   "metadata": {},
   "outputs": [
    {
     "data": {
      "text/plain": [
       "'diesel'"
      ]
     },
     "execution_count": 17,
     "metadata": {},
     "output_type": "execute_result"
    }
   ],
   "source": [
    "car.enginetype"
   ]
  },
  {
   "cell_type": "code",
   "execution_count": 23,
   "id": "3528cb0c",
   "metadata": {},
   "outputs": [
    {
     "name": "stdout",
     "output_type": "stream",
     "text": [
      "the person drives the car\n"
     ]
    }
   ],
   "source": [
    "car.drive()"
   ]
  },
  {
   "cell_type": "code",
   "execution_count": 24,
   "id": "9d7906be",
   "metadata": {},
   "outputs": [],
   "source": [
    "class audi(Car):\n",
    "    def __init__(self,windows,doors,enginetype,enableAi):\n",
    "        super().__init__(windows,doors,enginetype)\n",
    "        self.enableAi=enableAi\n",
    "##we use blue print here of car and put new elemnt\n",
    "##Ai SO WE USE THIS METHOD TO ADD NEW FEATURES \n",
    "    def selfdriving(self):\n",
    "        print(\"audi support auto drive\")"
   ]
  },
  {
   "cell_type": "code",
   "execution_count": 25,
   "id": "4c0c1a6d",
   "metadata": {},
   "outputs": [],
   "source": [
    "audiq7=audi(5,5,\"diesel\",True)"
   ]
  },
  {
   "cell_type": "code",
   "execution_count": 26,
   "id": "66289f44",
   "metadata": {},
   "outputs": [
    {
     "data": {
      "text/plain": [
       "5"
      ]
     },
     "execution_count": 26,
     "metadata": {},
     "output_type": "execute_result"
    }
   ],
   "source": [
    "audiq7.doors"
   ]
  },
  {
   "cell_type": "code",
   "execution_count": 27,
   "id": "00009d6b",
   "metadata": {},
   "outputs": [
    {
     "data": {
      "text/plain": [
       "True"
      ]
     },
     "execution_count": 27,
     "metadata": {},
     "output_type": "execute_result"
    }
   ],
   "source": [
    "audiq7.enableAi"
   ]
  },
  {
   "cell_type": "code",
   "execution_count": 29,
   "id": "6f89451e",
   "metadata": {},
   "outputs": [
    {
     "name": "stdout",
     "output_type": "stream",
     "text": [
      "audi support auto drive\n"
     ]
    }
   ],
   "source": [
    "audiq7.selfdriving()"
   ]
  },
  {
   "cell_type": "code",
   "execution_count": null,
   "id": "458fd455",
   "metadata": {},
   "outputs": [],
   "source": []
  }
 ],
 "metadata": {
  "kernelspec": {
   "display_name": "Python 3 (ipykernel)",
   "language": "python",
   "name": "python3"
  },
  "language_info": {
   "codemirror_mode": {
    "name": "ipython",
    "version": 3
   },
   "file_extension": ".py",
   "mimetype": "text/x-python",
   "name": "python",
   "nbconvert_exporter": "python",
   "pygments_lexer": "ipython3",
   "version": "3.9.7"
  }
 },
 "nbformat": 4,
 "nbformat_minor": 5
}
