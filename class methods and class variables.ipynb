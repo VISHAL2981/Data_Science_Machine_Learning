{
 "cells": [
  {
   "cell_type": "markdown",
   "id": "b3bec1c1",
   "metadata": {},
   "source": [
    "# class methods and class variables"
   ]
  },
  {
   "cell_type": "code",
   "execution_count": 1,
   "id": "aeb9d920",
   "metadata": {},
   "outputs": [],
   "source": [
    "class car:\n",
    "    baseprice=10000 ##class vaariables\n",
    "    def __init__(self,windows,doors,power):\n",
    "        self.windows=windows\n",
    "        self.doors=doors\n",
    "        self.power=power\n",
    "        \n",
    "    def what_the_base_price(self):\n",
    "        print(\"the base price is{}\".format(self.baseprice))"
   ]
  },
  {
   "cell_type": "code",
   "execution_count": 2,
   "id": "c48383fb",
   "metadata": {},
   "outputs": [
    {
     "data": {
      "text/plain": [
       "10000"
      ]
     },
     "execution_count": 2,
     "metadata": {},
     "output_type": "execute_result"
    }
   ],
   "source": [
    "car1=car(4,5,2000)\n",
    "car1.baseprice"
   ]
  },
  {
   "cell_type": "code",
   "execution_count": 3,
   "id": "4fa28152",
   "metadata": {},
   "outputs": [
    {
     "data": {
      "text/plain": [
       "10000"
      ]
     },
     "execution_count": 3,
     "metadata": {},
     "output_type": "execute_result"
    }
   ],
   "source": [
    "car.baseprice"
   ]
  },
  {
   "cell_type": "markdown",
   "id": "9c2fa9e8",
   "metadata": {},
   "source": [
    "# one best way to do this is given below\n"
   ]
  },
  {
   "cell_type": "markdown",
   "id": "c4fc8008",
   "metadata": {},
   "source": [
    "every year my value increases by 10% so we use class instead of changing code it chage automTICALLY\n"
   ]
  },
  {
   "cell_type": "code",
   "execution_count": 8,
   "id": "2ab2988f",
   "metadata": {},
   "outputs": [],
   "source": [
    "class car:\n",
    "    baseprice=10000 ##class vaariables\n",
    "    def __init__(self,windows,doors,power):\n",
    "        self.windows=windows\n",
    "        self.doors=doors\n",
    "        self.power=power\n",
    "        \n",
    "    def what_the_base_price(self):\n",
    "        print(\"the base price is{}\".format(self.baseprice))\n",
    "    @classmethod\n",
    "    def revise_baseprice(cls,inflation):\n",
    "        cls.baseprice=cls.baseprice+cls.baseprice*inflation\n",
    "        "
   ]
  },
  {
   "cell_type": "code",
   "execution_count": 9,
   "id": "8e44a71f",
   "metadata": {},
   "outputs": [],
   "source": [
    "car.revise_baseprice(0.10) #best practise to do this with this code ignore car1=car(4,5,2000)\n",
    "                           #car1.baseprice value get changed after every run so we use only upper code that we use here "
   ]
  },
  {
   "cell_type": "code",
   "execution_count": 10,
   "id": "bffa9d79",
   "metadata": {},
   "outputs": [
    {
     "data": {
      "text/plain": [
       "11000.0"
      ]
     },
     "execution_count": 10,
     "metadata": {},
     "output_type": "execute_result"
    }
   ],
   "source": [
    "car.baseprice"
   ]
  },
  {
   "cell_type": "code",
   "execution_count": null,
   "id": "9bf60f8f",
   "metadata": {},
   "outputs": [],
   "source": []
  }
 ],
 "metadata": {
  "kernelspec": {
   "display_name": "Python 3 (ipykernel)",
   "language": "python",
   "name": "python3"
  },
  "language_info": {
   "codemirror_mode": {
    "name": "ipython",
    "version": 3
   },
   "file_extension": ".py",
   "mimetype": "text/x-python",
   "name": "python",
   "nbconvert_exporter": "python",
   "pygments_lexer": "ipython3",
   "version": "3.9.7"
  }
 },
 "nbformat": 4,
 "nbformat_minor": 5
}
