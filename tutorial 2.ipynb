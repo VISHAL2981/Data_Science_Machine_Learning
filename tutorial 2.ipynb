{
 "cells": [
  {
   "cell_type": "code",
   "execution_count": 2,
   "id": "66a26e25",
   "metadata": {},
   "outputs": [
    {
     "data": {
      "text/plain": [
       "bool"
      ]
     },
     "execution_count": 2,
     "metadata": {},
     "output_type": "execute_result"
    }
   ],
   "source": [
    "type(True)"
   ]
  },
  {
   "cell_type": "code",
   "execution_count": 11,
   "id": "cc7fbb7d",
   "metadata": {},
   "outputs": [],
   "source": [
    "my_str=\"vishal nimesh\""
   ]
  },
  {
   "cell_type": "code",
   "execution_count": 13,
   "id": "ce3c847c",
   "metadata": {},
   "outputs": [
    {
     "name": "stdout",
     "output_type": "stream",
     "text": [
      "Vishal nimesh\n",
      "False\n",
      "False\n",
      "False\n",
      "False\n",
      "False\n",
      "True\n",
      "False\n",
      "True\n",
      "True\n"
     ]
    }
   ],
   "source": [
    "print(my_str.capitalize())\n",
    "print(my_str.isalnum())#check if all char are numbers\n",
    "print(my_str.isalpha())#check if all char in the string are alphabetic\n",
    "print(my_str.isdigit())#test if string contain digit\n",
    "print(my_str.istitle())#test iuf string contain title word\n",
    "print(my_str.isupper())#test if string contain upper case\n",
    "print(my_str.islower())#test if string contain lower case\n",
    "print(my_str.isspace())#test if string contain space\n",
    "print(my_str.endswith('h'))#test if string end with h\n",
    "print(my_str.startswith('v'))#test if string start with v"
   ]
  },
  {
   "cell_type": "markdown",
   "id": "6ca637b9",
   "metadata": {},
   "source": [
    "# boolean and logical operators\n",
    "\n"
   ]
  },
  {
   "cell_type": "code",
   "execution_count": 16,
   "id": "97c9bf3f",
   "metadata": {},
   "outputs": [
    {
     "data": {
      "text/plain": [
       "True"
      ]
     },
     "execution_count": 16,
     "metadata": {},
     "output_type": "execute_result"
    }
   ],
   "source": [
    "True and True \n"
   ]
  },
  {
   "cell_type": "code",
   "execution_count": 21,
   "id": "bfa9c0de",
   "metadata": {},
   "outputs": [
    {
     "data": {
      "text/plain": [
       "False"
      ]
     },
     "execution_count": 21,
     "metadata": {},
     "output_type": "execute_result"
    }
   ],
   "source": [
    "False and True"
   ]
  },
  {
   "cell_type": "code",
   "execution_count": 22,
   "id": "ea678984",
   "metadata": {},
   "outputs": [
    {
     "data": {
      "text/plain": [
       "False"
      ]
     },
     "execution_count": 22,
     "metadata": {},
     "output_type": "execute_result"
    }
   ],
   "source": [
    "True and False\n"
   ]
  },
  {
   "cell_type": "code",
   "execution_count": 19,
   "id": "0e481ecb",
   "metadata": {},
   "outputs": [
    {
     "data": {
      "text/plain": [
       "True"
      ]
     },
     "execution_count": 19,
     "metadata": {},
     "output_type": "execute_result"
    }
   ],
   "source": [
    "False or True # both values should be false only then it will give false\n"
   ]
  },
  {
   "cell_type": "code",
   "execution_count": 23,
   "id": "a8894911",
   "metadata": {},
   "outputs": [
    {
     "data": {
      "text/plain": [
       "False"
      ]
     },
     "execution_count": 23,
     "metadata": {},
     "output_type": "execute_result"
    }
   ],
   "source": [
    "False or False"
   ]
  },
  {
   "cell_type": "code",
   "execution_count": 24,
   "id": "2738ca77",
   "metadata": {},
   "outputs": [
    {
     "data": {
      "text/plain": [
       "True"
      ]
     },
     "execution_count": 24,
     "metadata": {},
     "output_type": "execute_result"
    }
   ],
   "source": [
    "True or True"
   ]
  },
  {
   "cell_type": "code",
   "execution_count": 25,
   "id": "4b27c250",
   "metadata": {},
   "outputs": [],
   "source": [
    "#use of bool in code\n",
    "\n",
    "str_example='Hello world'\n",
    "my_str='vishal'\n"
   ]
  },
  {
   "cell_type": "code",
   "execution_count": 26,
   "id": "a5b6c3dd",
   "metadata": {},
   "outputs": [
    {
     "data": {
      "text/plain": [
       "True"
      ]
     },
     "execution_count": 26,
     "metadata": {},
     "output_type": "execute_result"
    }
   ],
   "source": [
    "my_str.isalpha() or str_example.isnum()"
   ]
  },
  {
   "cell_type": "markdown",
   "id": "d2cc8098",
   "metadata": {},
   "source": [
    "# lists\n",
    "\n",
    "a list is a data structure in python that is mutable or changebale ordered sequence of elements. each element or value that is inside a list is called an item just as strings is defined as character between quotes. lists are defined by having values between square brackets\n"
   ]
  },
  {
   "cell_type": "code",
   "execution_count": 27,
   "id": "49b22250",
   "metadata": {},
   "outputs": [
    {
     "data": {
      "text/plain": [
       "list"
      ]
     },
     "execution_count": 27,
     "metadata": {},
     "output_type": "execute_result"
    }
   ],
   "source": [
    "type([])"
   ]
  },
  {
   "cell_type": "code",
   "execution_count": 7,
   "id": "e8dc0b2d",
   "metadata": {},
   "outputs": [],
   "source": [
    "lst=['maths','vishal',100,2,3,56,34]\n"
   ]
  },
  {
   "cell_type": "code",
   "execution_count": 6,
   "id": "e054ece4",
   "metadata": {},
   "outputs": [
    {
     "data": {
      "text/plain": [
       "7"
      ]
     },
     "execution_count": 6,
     "metadata": {},
     "output_type": "execute_result"
    }
   ],
   "source": [
    "len(lst)"
   ]
  },
  {
   "cell_type": "code",
   "execution_count": 30,
   "id": "21c9e0ab",
   "metadata": {},
   "outputs": [
    {
     "data": {
      "text/plain": [
       "list"
      ]
     },
     "execution_count": 30,
     "metadata": {},
     "output_type": "execute_result"
    }
   ],
   "source": [
    "type(lst)"
   ]
  },
  {
   "cell_type": "markdown",
   "id": "803c595f",
   "metadata": {},
   "source": [
    "# append\n"
   ]
  },
  {
   "cell_type": "code",
   "execution_count": 8,
   "id": "3f1220ac",
   "metadata": {},
   "outputs": [],
   "source": [
    "#append is used to add elements in the list\n",
    "lst.append('vishu')"
   ]
  },
  {
   "cell_type": "code",
   "execution_count": 14,
   "id": "cf6bec0d",
   "metadata": {},
   "outputs": [],
   "source": [
    "lst.append([\"john\",\"vishnim\"])"
   ]
  },
  {
   "cell_type": "code",
   "execution_count": 15,
   "id": "0b61e9fd",
   "metadata": {},
   "outputs": [
    {
     "data": {
      "text/plain": [
       "['maths', 'vishal', 100, 2, 3, 56, 34, 'vishu', ['john', 'vishnim']]"
      ]
     },
     "execution_count": 15,
     "metadata": {},
     "output_type": "execute_result"
    }
   ],
   "source": [
    "lst"
   ]
  },
  {
   "cell_type": "code",
   "execution_count": 10,
   "id": "0a9f53e9",
   "metadata": {},
   "outputs": [
    {
     "data": {
      "text/plain": [
       "'maths'"
      ]
     },
     "execution_count": 10,
     "metadata": {},
     "output_type": "execute_result"
    }
   ],
   "source": [
    "##indexing in list\n",
    "lst[0]"
   ]
  },
  {
   "cell_type": "code",
   "execution_count": 11,
   "id": "2862656c",
   "metadata": {},
   "outputs": [
    {
     "data": {
      "text/plain": [
       "'vishu'"
      ]
     },
     "execution_count": 11,
     "metadata": {},
     "output_type": "execute_result"
    }
   ],
   "source": [
    "lst[7]"
   ]
  },
  {
   "cell_type": "code",
   "execution_count": 12,
   "id": "71f88bbc",
   "metadata": {},
   "outputs": [
    {
     "data": {
      "text/plain": [
       "[100, 2, 3, 56]"
      ]
     },
     "execution_count": 12,
     "metadata": {},
     "output_type": "execute_result"
    }
   ],
   "source": [
    "lst[2:6]"
   ]
  },
  {
   "cell_type": "code",
   "execution_count": 13,
   "id": "9275ebe7",
   "metadata": {},
   "outputs": [
    {
     "data": {
      "text/plain": [
       "[2, 3, 56, 34]"
      ]
     },
     "execution_count": 13,
     "metadata": {},
     "output_type": "execute_result"
    }
   ],
   "source": [
    "lst[3:7]"
   ]
  },
  {
   "cell_type": "markdown",
   "id": "d95b37b3",
   "metadata": {},
   "source": [
    "# insert"
   ]
  },
  {
   "cell_type": "code",
   "execution_count": 16,
   "id": "eb1e184e",
   "metadata": {},
   "outputs": [],
   "source": [
    "##insert in a specific order\n",
    "lst.insert(2,\"nimesh\")"
   ]
  },
  {
   "cell_type": "code",
   "execution_count": 17,
   "id": "bcd51e43",
   "metadata": {},
   "outputs": [
    {
     "data": {
      "text/plain": [
       "['maths', 'vishal', 'nimesh', 100, 2, 3, 56, 34, 'vishu', ['john', 'vishnim']]"
      ]
     },
     "execution_count": 17,
     "metadata": {},
     "output_type": "execute_result"
    }
   ],
   "source": [
    "lst"
   ]
  },
  {
   "cell_type": "markdown",
   "id": "e9ec4f4b",
   "metadata": {},
   "source": [
    "# extend method\n"
   ]
  },
  {
   "cell_type": "code",
   "execution_count": 18,
   "id": "2c481be7",
   "metadata": {},
   "outputs": [],
   "source": [
    "lst=[1,2,3,4,5,6,7,8]\n"
   ]
  },
  {
   "cell_type": "code",
   "execution_count": 20,
   "id": "16de03bf",
   "metadata": {},
   "outputs": [],
   "source": [
    "lst.extend([10,100,1000])"
   ]
  },
  {
   "cell_type": "code",
   "execution_count": 41,
   "id": "ed2c11d4",
   "metadata": {},
   "outputs": [
    {
     "data": {
      "text/plain": [
       "(1, 2, 3, 1, 2, 3, 1, 1, 1, 4, 5)"
      ]
     },
     "execution_count": 41,
     "metadata": {},
     "output_type": "execute_result"
    }
   ],
   "source": [
    "lst\n"
   ]
  },
  {
   "cell_type": "markdown",
   "id": "73d9c024",
   "metadata": {},
   "source": [
    "# various operators that we can perform in list\n"
   ]
  },
  {
   "cell_type": "code",
   "execution_count": 43,
   "id": "b7a0665c",
   "metadata": {},
   "outputs": [],
   "source": [
    "lst=[1,2,3,4,5]\n"
   ]
  },
  {
   "cell_type": "code",
   "execution_count": 44,
   "id": "d0343505",
   "metadata": {},
   "outputs": [
    {
     "data": {
      "text/plain": [
       "15"
      ]
     },
     "execution_count": 44,
     "metadata": {},
     "output_type": "execute_result"
    }
   ],
   "source": [
    "sum(lst)"
   ]
  },
  {
   "cell_type": "code",
   "execution_count": 45,
   "id": "1d060e4d",
   "metadata": {},
   "outputs": [
    {
     "data": {
      "text/plain": [
       "[1, 2, 3, 4, 5, 1, 2, 3, 4, 5]"
      ]
     },
     "execution_count": 45,
     "metadata": {},
     "output_type": "execute_result"
    }
   ],
   "source": [
    "lst*2"
   ]
  },
  {
   "cell_type": "code",
   "execution_count": 46,
   "id": "bc3f5079",
   "metadata": {},
   "outputs": [
    {
     "data": {
      "text/plain": [
       "[1, 2, 3, 4, 5, 1, 2, 3, 4, 5, 1, 2, 3, 4, 5, 1, 2, 3, 4, 5, 1, 2, 3, 4, 5]"
      ]
     },
     "execution_count": 46,
     "metadata": {},
     "output_type": "execute_result"
    }
   ],
   "source": [
    "lst*5"
   ]
  },
  {
   "cell_type": "markdown",
   "id": "729c26fd",
   "metadata": {},
   "source": [
    "# pop() method"
   ]
  },
  {
   "cell_type": "code",
   "execution_count": 24,
   "id": "4c52b12b",
   "metadata": {},
   "outputs": [
    {
     "data": {
      "text/plain": [
       "5"
      ]
     },
     "execution_count": 24,
     "metadata": {},
     "output_type": "execute_result"
    }
   ],
   "source": [
    "lst.pop()\n"
   ]
  },
  {
   "cell_type": "code",
   "execution_count": 25,
   "id": "c856e9f3",
   "metadata": {},
   "outputs": [
    {
     "data": {
      "text/plain": [
       "[1, 2, 3, 4]"
      ]
     },
     "execution_count": 25,
     "metadata": {},
     "output_type": "execute_result"
    }
   ],
   "source": [
    "lst\n"
   ]
  },
  {
   "cell_type": "code",
   "execution_count": 26,
   "id": "072d3ad0",
   "metadata": {},
   "outputs": [
    {
     "data": {
      "text/plain": [
       "1"
      ]
     },
     "execution_count": 26,
     "metadata": {},
     "output_type": "execute_result"
    }
   ],
   "source": [
    "lst.pop(0)"
   ]
  },
  {
   "cell_type": "code",
   "execution_count": 27,
   "id": "92e6c9a7",
   "metadata": {},
   "outputs": [
    {
     "data": {
      "text/plain": [
       "[2, 3, 4]"
      ]
     },
     "execution_count": 27,
     "metadata": {},
     "output_type": "execute_result"
    }
   ],
   "source": [
    "lst"
   ]
  },
  {
   "cell_type": "markdown",
   "id": "40de1dd6",
   "metadata": {},
   "source": [
    "# count():calculate total occurence of given element of list"
   ]
  },
  {
   "cell_type": "code",
   "execution_count": 28,
   "id": "545e874d",
   "metadata": {},
   "outputs": [
    {
     "data": {
      "text/plain": [
       "5"
      ]
     },
     "execution_count": 28,
     "metadata": {},
     "output_type": "execute_result"
    }
   ],
   "source": [
    "lst=(1,2,3,1,2,3,1,1,1,4,5)\n",
    "lst.count(1)"
   ]
  },
  {
   "cell_type": "code",
   "execution_count": 36,
   "id": "b4f20c60",
   "metadata": {},
   "outputs": [
    {
     "data": {
      "text/plain": [
       "3"
      ]
     },
     "execution_count": 36,
     "metadata": {},
     "output_type": "execute_result"
    }
   ],
   "source": [
    "#index():return the occurence of first index\n",
    "lst.index(1,1,4)\n"
   ]
  },
  {
   "cell_type": "code",
   "execution_count": 38,
   "id": "72da1d8f",
   "metadata": {},
   "outputs": [
    {
     "data": {
      "text/plain": [
       "2"
      ]
     },
     "execution_count": 38,
     "metadata": {},
     "output_type": "execute_result"
    }
   ],
   "source": [
    "lst.index(3,1,6)"
   ]
  },
  {
   "cell_type": "code",
   "execution_count": 39,
   "id": "55c683fd",
   "metadata": {},
   "outputs": [
    {
     "data": {
      "text/plain": [
       "1"
      ]
     },
     "execution_count": 39,
     "metadata": {},
     "output_type": "execute_result"
    }
   ],
   "source": [
    "min(lst)"
   ]
  },
  {
   "cell_type": "code",
   "execution_count": 40,
   "id": "7e980c78",
   "metadata": {},
   "outputs": [
    {
     "data": {
      "text/plain": [
       "5"
      ]
     },
     "execution_count": 40,
     "metadata": {},
     "output_type": "execute_result"
    }
   ],
   "source": [
    "max(lst)"
   ]
  },
  {
   "cell_type": "code",
   "execution_count": null,
   "id": "39f2df6f",
   "metadata": {},
   "outputs": [],
   "source": []
  }
 ],
 "metadata": {
  "kernelspec": {
   "display_name": "Python 3 (ipykernel)",
   "language": "python",
   "name": "python3"
  },
  "language_info": {
   "codemirror_mode": {
    "name": "ipython",
    "version": 3
   },
   "file_extension": ".py",
   "mimetype": "text/x-python",
   "name": "python",
   "nbconvert_exporter": "python",
   "pygments_lexer": "ipython3",
   "version": "3.9.7"
  }
 },
 "nbformat": 4,
 "nbformat_minor": 5
}
