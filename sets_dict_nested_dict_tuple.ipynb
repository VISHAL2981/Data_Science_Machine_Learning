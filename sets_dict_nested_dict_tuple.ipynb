{
 "cells": [
  {
   "cell_type": "markdown",
   "id": "9d9210e7",
   "metadata": {},
   "source": [
    "# sets\n",
    "a set is an unordered collection data type that is iterable,mutable,and has no duplicate elements python sets class represents the mathematical notion of a set this is based on a dats structure known as a hash table"
   ]
  },
  {
   "cell_type": "code",
   "execution_count": 1,
   "id": "5533bb65",
   "metadata": {},
   "outputs": [],
   "source": [
    "set_var={1,2,3,2,3,4,1,2,4,4}"
   ]
  },
  {
   "cell_type": "code",
   "execution_count": 2,
   "id": "5320a6f8",
   "metadata": {},
   "outputs": [
    {
     "data": {
      "text/plain": [
       "{1, 2, 3, 4}"
      ]
     },
     "execution_count": 2,
     "metadata": {},
     "output_type": "execute_result"
    }
   ],
   "source": [
    "set_var\n"
   ]
  },
  {
   "cell_type": "code",
   "execution_count": 3,
   "id": "9653034c",
   "metadata": {},
   "outputs": [
    {
     "data": {
      "text/plain": [
       "set"
      ]
     },
     "execution_count": 3,
     "metadata": {},
     "output_type": "execute_result"
    }
   ],
   "source": [
    "set_var={\"avenger\",\"endgame\",\"infinty\",\"stones\"}\n",
    "\n",
    "type(set_var)"
   ]
  },
  {
   "cell_type": "code",
   "execution_count": 4,
   "id": "56c7fa63",
   "metadata": {},
   "outputs": [
    {
     "data": {
      "text/plain": [
       "{'avenger', 'endgame', 'infinty', 'stones'}"
      ]
     },
     "execution_count": 4,
     "metadata": {},
     "output_type": "execute_result"
    }
   ],
   "source": [
    "set_var"
   ]
  },
  {
   "cell_type": "code",
   "execution_count": 5,
   "id": "cf7f6c35",
   "metadata": {},
   "outputs": [
    {
     "ename": "NameError",
     "evalue": "name 'avenger' is not defined",
     "output_type": "error",
     "traceback": [
      "\u001b[1;31m---------------------------------------------------------------------------\u001b[0m",
      "\u001b[1;31mNameError\u001b[0m                                 Traceback (most recent call last)",
      "\u001b[1;32mC:\\Users\\VISHAL~1\\AppData\\Local\\Temp/ipykernel_14300/3024574358.py\u001b[0m in \u001b[0;36m<module>\u001b[1;34m\u001b[0m\n\u001b[0;32m      1\u001b[0m \u001b[1;31m#indexing\u001b[0m\u001b[1;33m\u001b[0m\u001b[1;33m\u001b[0m\u001b[0m\n\u001b[1;32m----> 2\u001b[1;33m \u001b[0mset_var\u001b[0m\u001b[1;33m[\u001b[0m\u001b[0mavenger\u001b[0m\u001b[1;33m]\u001b[0m\u001b[1;33m\u001b[0m\u001b[1;33m\u001b[0m\u001b[0m\n\u001b[0m\u001b[0;32m      3\u001b[0m \u001b[1;33m\u001b[0m\u001b[0m\n\u001b[0;32m      4\u001b[0m \u001b[1;33m\u001b[0m\u001b[0m\n\u001b[0;32m      5\u001b[0m \u001b[1;31m# we cannot do indexing in sets with this methode\u001b[0m\u001b[1;33m\u001b[0m\u001b[1;33m\u001b[0m\u001b[0m\n",
      "\u001b[1;31mNameError\u001b[0m: name 'avenger' is not defined"
     ]
    }
   ],
   "source": [
    "#indexing\n",
    "set_var[avenger]\n",
    "\n",
    "\n",
    "# we cannot do indexing in sets with this methode\n",
    "\n"
   ]
  },
  {
   "cell_type": "code",
   "execution_count": 6,
   "id": "2301862e",
   "metadata": {},
   "outputs": [],
   "source": [
    "##inbuilt function in sets\n",
    "set_var.add(\"Hulk\")\n"
   ]
  },
  {
   "cell_type": "code",
   "execution_count": 7,
   "id": "cd749c07",
   "metadata": {},
   "outputs": [
    {
     "data": {
      "text/plain": [
       "{'Hulk', 'avenger', 'endgame', 'infinty', 'stones'}"
      ]
     },
     "execution_count": 7,
     "metadata": {},
     "output_type": "execute_result"
    }
   ],
   "source": [
    "set_var"
   ]
  },
  {
   "cell_type": "code",
   "execution_count": 13,
   "id": "7716c195",
   "metadata": {},
   "outputs": [],
   "source": [
    "set1={\"avenger\",\"endgame\",\"infinty\",\"stones\"}\n",
    "set2={\"avenger\",\"endgame\",\"infinty\",\"stones\",\"tony\",\"caption ameriCA\"}"
   ]
  },
  {
   "cell_type": "code",
   "execution_count": 9,
   "id": "ccda4f5d",
   "metadata": {},
   "outputs": [
    {
     "data": {
      "text/plain": [
       "{'caption ameriCA', 'tony'}"
      ]
     },
     "execution_count": 9,
     "metadata": {},
     "output_type": "execute_result"
    }
   ],
   "source": [
    "set2.difference(set1)"
   ]
  },
  {
   "cell_type": "code",
   "execution_count": 10,
   "id": "0544434a",
   "metadata": {},
   "outputs": [],
   "source": [
    "set2.difference_update(set1)"
   ]
  },
  {
   "cell_type": "code",
   "execution_count": 11,
   "id": "6ae20cd2",
   "metadata": {},
   "outputs": [
    {
     "data": {
      "text/plain": [
       "{'caption ameriCA', 'tony'}"
      ]
     },
     "execution_count": 11,
     "metadata": {},
     "output_type": "execute_result"
    }
   ],
   "source": [
    "set2"
   ]
  },
  {
   "cell_type": "code",
   "execution_count": 14,
   "id": "fe2a2003",
   "metadata": {},
   "outputs": [
    {
     "data": {
      "text/plain": [
       "{'avenger', 'endgame', 'infinty', 'stones'}"
      ]
     },
     "execution_count": 14,
     "metadata": {},
     "output_type": "execute_result"
    }
   ],
   "source": [
    "set2.intersection(set1)"
   ]
  },
  {
   "cell_type": "code",
   "execution_count": 15,
   "id": "9b365c5c",
   "metadata": {},
   "outputs": [],
   "source": [
    "set2.intersection_update(set1)"
   ]
  },
  {
   "cell_type": "code",
   "execution_count": 16,
   "id": "68146c01",
   "metadata": {},
   "outputs": [
    {
     "data": {
      "text/plain": [
       "{'avenger', 'endgame', 'infinty', 'stones'}"
      ]
     },
     "execution_count": 16,
     "metadata": {},
     "output_type": "execute_result"
    }
   ],
   "source": [
    "set2"
   ]
  },
  {
   "cell_type": "markdown",
   "id": "24d1cc7c",
   "metadata": {},
   "source": [
    "# dictionaries\n",
    "\n",
    "a dictionary os collection which is unordered changeable and indexed.in python dictionaries are written with curly brackets and they have keys and values "
   ]
  },
  {
   "cell_type": "markdown",
   "id": "4580b294",
   "metadata": {},
   "source": [
    "dic={}"
   ]
  },
  {
   "cell_type": "code",
   "execution_count": 17,
   "id": "1b3c36af",
   "metadata": {},
   "outputs": [],
   "source": [
    "dic={}"
   ]
  },
  {
   "cell_type": "code",
   "execution_count": 19,
   "id": "5e3143f6",
   "metadata": {},
   "outputs": [
    {
     "data": {
      "text/plain": [
       "dict"
      ]
     },
     "execution_count": 19,
     "metadata": {},
     "output_type": "execute_result"
    }
   ],
   "source": [
    "type(dic)"
   ]
  },
  {
   "cell_type": "code",
   "execution_count": 20,
   "id": "5ff1c843",
   "metadata": {},
   "outputs": [],
   "source": [
    "dic={1,2,3,4,5,6}\n"
   ]
  },
  {
   "cell_type": "code",
   "execution_count": 22,
   "id": "0db1738d",
   "metadata": {},
   "outputs": [
    {
     "data": {
      "text/plain": [
       "set"
      ]
     },
     "execution_count": 22,
     "metadata": {},
     "output_type": "execute_result"
    }
   ],
   "source": [
    "type(dic)#its the diffrence btw sets and dictionary in sets we provide an elemnts and in dictionary we have key values"
   ]
  },
  {
   "cell_type": "code",
   "execution_count": 23,
   "id": "009b6a18",
   "metadata": {},
   "outputs": [],
   "source": [
    "#lets create a dictionary\n",
    "\n",
    "my_dict={\"vishal\":\"ias\",\"nimesh\":\"ips\",\"mom\":\"proud\"}"
   ]
  },
  {
   "cell_type": "code",
   "execution_count": 24,
   "id": "15bc5426",
   "metadata": {},
   "outputs": [
    {
     "data": {
      "text/plain": [
       "dict"
      ]
     },
     "execution_count": 24,
     "metadata": {},
     "output_type": "execute_result"
    }
   ],
   "source": [
    "type(my_dict)"
   ]
  },
  {
   "cell_type": "code",
   "execution_count": 25,
   "id": "c70810f3",
   "metadata": {},
   "outputs": [
    {
     "data": {
      "text/plain": [
       "'ias'"
      ]
     },
     "execution_count": 25,
     "metadata": {},
     "output_type": "execute_result"
    }
   ],
   "source": [
    "## access the item values based on keys\n",
    "\n",
    "my_dict['vishal']"
   ]
  },
  {
   "cell_type": "code",
   "execution_count": 26,
   "id": "d5c846f5",
   "metadata": {},
   "outputs": [
    {
     "name": "stdout",
     "output_type": "stream",
     "text": [
      "vishal\n",
      "nimesh\n",
      "mom\n"
     ]
    }
   ],
   "source": [
    "## we cane even loop through out the dictionary key\n",
    "for x in my_dict:\n",
    "    print(x)"
   ]
  },
  {
   "cell_type": "code",
   "execution_count": 27,
   "id": "a90ec3be",
   "metadata": {},
   "outputs": [
    {
     "name": "stdout",
     "output_type": "stream",
     "text": [
      "ias\n",
      "ips\n",
      "proud\n"
     ]
    }
   ],
   "source": [
    "## we can even loop through out the dictionary values\n",
    "\n",
    "for x in my_dict.values():\n",
    "    print(x)"
   ]
  },
  {
   "cell_type": "code",
   "execution_count": 28,
   "id": "6529d9ae",
   "metadata": {},
   "outputs": [
    {
     "name": "stdout",
     "output_type": "stream",
     "text": [
      "('vishal', 'ias')\n",
      "('nimesh', 'ips')\n",
      "('mom', 'proud')\n"
     ]
    }
   ],
   "source": [
    "## we can even aslo check both values and keys\n",
    "\n",
    "for x in my_dict.items():\n",
    "    print(x)"
   ]
  },
  {
   "cell_type": "code",
   "execution_count": 35,
   "id": "b4d78523",
   "metadata": {},
   "outputs": [],
   "source": [
    "##adding itmes in dictionary\n",
    "my_dict['vishal2']='IAS'"
   ]
  },
  {
   "cell_type": "code",
   "execution_count": 37,
   "id": "0e02fb40",
   "metadata": {},
   "outputs": [
    {
     "data": {
      "text/plain": [
       "{'vishal': 'IAS', 'nimesh': 'ips', 'mom': 'proud', 'vishal2': 'IAS'}"
      ]
     },
     "execution_count": 37,
     "metadata": {},
     "output_type": "execute_result"
    }
   ],
   "source": [
    "my_dict"
   ]
  },
  {
   "cell_type": "code",
   "execution_count": 38,
   "id": "7e1c0df0",
   "metadata": {},
   "outputs": [],
   "source": [
    "##over ridden values in dictionary\n",
    "my_dict['vishal']='IAS,IPS'"
   ]
  },
  {
   "cell_type": "code",
   "execution_count": 39,
   "id": "29b651ec",
   "metadata": {},
   "outputs": [
    {
     "data": {
      "text/plain": [
       "{'vishal': 'IAS,IPS', 'nimesh': 'ips', 'mom': 'proud', 'vishal2': 'IAS'}"
      ]
     },
     "execution_count": 39,
     "metadata": {},
     "output_type": "execute_result"
    }
   ],
   "source": [
    "my_dict\n"
   ]
  },
  {
   "cell_type": "markdown",
   "id": "1cbbbc30",
   "metadata": {},
   "source": [
    "# nested dictionary"
   ]
  },
  {
   "cell_type": "code",
   "execution_count": 43,
   "id": "edfefe41",
   "metadata": {},
   "outputs": [],
   "source": [
    "car1_model={'Mercedes':1960}\n",
    "car2_model={'nano':1966}\n",
    "car3_model={'bmw':1964}\n",
    "car4_model={'lexus':1962}\n",
    "\n",
    "car_type={'car1':car1_model,'car2':car2_model,'car3':car3_model,'car4':car4_model}"
   ]
  },
  {
   "cell_type": "code",
   "execution_count": 44,
   "id": "5a9002ad",
   "metadata": {},
   "outputs": [
    {
     "data": {
      "text/plain": [
       "{'car1': {'Mercedes': 1960},\n",
       " 'car2': {'nano': 1966},\n",
       " 'car3': {'bmw': 1964},\n",
       " 'car4': {'lexus': 1962}}"
      ]
     },
     "execution_count": 44,
     "metadata": {},
     "output_type": "execute_result"
    }
   ],
   "source": [
    "car_type"
   ]
  },
  {
   "cell_type": "code",
   "execution_count": 45,
   "id": "289eef17",
   "metadata": {},
   "outputs": [
    {
     "data": {
      "text/plain": [
       "{'Mercedes': 1960}"
      ]
     },
     "execution_count": 45,
     "metadata": {},
     "output_type": "execute_result"
    }
   ],
   "source": [
    "car_type['car1']"
   ]
  },
  {
   "cell_type": "code",
   "execution_count": 48,
   "id": "8fe114e1",
   "metadata": {},
   "outputs": [
    {
     "data": {
      "text/plain": [
       "1960"
      ]
     },
     "execution_count": 48,
     "metadata": {},
     "output_type": "execute_result"
    }
   ],
   "source": [
    "car_type['car1']['Mercedes']"
   ]
  },
  {
   "cell_type": "markdown",
   "id": "02fb488e",
   "metadata": {},
   "source": [
    "# tuple\n",
    "\n",
    "tuple is not mutable,once we defined a tuple we cannot changed its elements when we use use tuple we use round braces()\n"
   ]
  },
  {
   "cell_type": "code",
   "execution_count": 49,
   "id": "06b2de59",
   "metadata": {},
   "outputs": [],
   "source": [
    "##create an empty tuples\n",
    "my_tuple=tuple()"
   ]
  },
  {
   "cell_type": "code",
   "execution_count": 50,
   "id": "5fa5213b",
   "metadata": {},
   "outputs": [
    {
     "data": {
      "text/plain": [
       "tuple"
      ]
     },
     "execution_count": 50,
     "metadata": {},
     "output_type": "execute_result"
    }
   ],
   "source": [
    "type(my_tuple)"
   ]
  },
  {
   "cell_type": "code",
   "execution_count": 51,
   "id": "374d3063",
   "metadata": {},
   "outputs": [],
   "source": [
    "my_tuple=()"
   ]
  },
  {
   "cell_type": "code",
   "execution_count": 52,
   "id": "a25b47e4",
   "metadata": {},
   "outputs": [
    {
     "data": {
      "text/plain": [
       "tuple"
      ]
     },
     "execution_count": 52,
     "metadata": {},
     "output_type": "execute_result"
    }
   ],
   "source": [
    "type(my_tuple)"
   ]
  },
  {
   "cell_type": "code",
   "execution_count": 62,
   "id": "3084f716",
   "metadata": {},
   "outputs": [],
   "source": [
    "my_tuple=(\"vishal\",\"ramgopal\",\"kamala\")\n"
   ]
  },
  {
   "cell_type": "code",
   "execution_count": 57,
   "id": "06f80ca5",
   "metadata": {},
   "outputs": [
    {
     "ename": "TypeError",
     "evalue": "'tuple' object does not support item assignment",
     "output_type": "error",
     "traceback": [
      "\u001b[1;31m---------------------------------------------------------------------------\u001b[0m",
      "\u001b[1;31mTypeError\u001b[0m                                 Traceback (most recent call last)",
      "\u001b[1;32mC:\\Users\\VISHAL~1\\AppData\\Local\\Temp/ipykernel_14300/3099490596.py\u001b[0m in \u001b[0;36m<module>\u001b[1;34m\u001b[0m\n\u001b[1;32m----> 1\u001b[1;33m \u001b[0mmy_tuple\u001b[0m\u001b[1;33m[\u001b[0m\u001b[1;36m0\u001b[0m\u001b[1;33m]\u001b[0m\u001b[1;33m=\u001b[0m\u001b[1;34m'naik'\u001b[0m\u001b[1;33m\u001b[0m\u001b[1;33m\u001b[0m\u001b[0m\n\u001b[0m",
      "\u001b[1;31mTypeError\u001b[0m: 'tuple' object does not support item assignment"
     ]
    }
   ],
   "source": [
    "my_tuple[0]='naik'## item naem cannot be changed whole item can be changedwe cannot assign item after the code written and compile"
   ]
  },
  {
   "cell_type": "code",
   "execution_count": 60,
   "id": "b2b8ce43",
   "metadata": {},
   "outputs": [],
   "source": [
    "my_tuple=('hello','world')## here we changed the entire tuple ekemnts\n"
   ]
  },
  {
   "cell_type": "code",
   "execution_count": 61,
   "id": "bde5517b",
   "metadata": {},
   "outputs": [
    {
     "name": "stdout",
     "output_type": "stream",
     "text": [
      "<class 'tuple'>\n",
      "('hello', 'world')\n"
     ]
    }
   ],
   "source": [
    "print(type(my_tuple))\n",
    "print(my_tuple)"
   ]
  },
  {
   "cell_type": "code",
   "execution_count": 64,
   "id": "5c62f287",
   "metadata": {},
   "outputs": [
    {
     "data": {
      "text/plain": [
       "1"
      ]
     },
     "execution_count": 64,
     "metadata": {},
     "output_type": "execute_result"
    }
   ],
   "source": [
    " ##inbuilt function\n",
    "my_tuple.count('vishal')\n",
    "    "
   ]
  },
  {
   "cell_type": "code",
   "execution_count": 66,
   "id": "ca28c4eb",
   "metadata": {},
   "outputs": [
    {
     "data": {
      "text/plain": [
       "1"
      ]
     },
     "execution_count": 66,
     "metadata": {},
     "output_type": "execute_result"
    }
   ],
   "source": [
    "my_tuple.index('ramgopal')"
   ]
  },
  {
   "cell_type": "code",
   "execution_count": null,
   "id": "723fd2eb",
   "metadata": {},
   "outputs": [],
   "source": []
  }
 ],
 "metadata": {
  "kernelspec": {
   "display_name": "Python 3 (ipykernel)",
   "language": "python",
   "name": "python3"
  },
  "language_info": {
   "codemirror_mode": {
    "name": "ipython",
    "version": 3
   },
   "file_extension": ".py",
   "mimetype": "text/x-python",
   "name": "python",
   "nbconvert_exporter": "python",
   "pygments_lexer": "ipython3",
   "version": "3.9.7"
  }
 },
 "nbformat": 4,
 "nbformat_minor": 5
}
