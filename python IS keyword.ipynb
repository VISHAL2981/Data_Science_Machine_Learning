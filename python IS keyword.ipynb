{
 "cells": [
  {
   "cell_type": "markdown",
   "id": "4010cf18",
   "metadata": {},
   "source": [
    "# is vs =="
   ]
  },
  {
   "cell_type": "code",
   "execution_count": 12,
   "id": "cc1f87d1",
   "metadata": {},
   "outputs": [
    {
     "data": {
      "text/plain": [
       "True"
      ]
     },
     "execution_count": 12,
     "metadata": {},
     "output_type": "execute_result"
    }
   ],
   "source": [
    "\n",
    "lst1=[\"vishu\",\"vishu1\",\"vishu2\"]\n",
    "lst2=[\"vishu\",\"vishu1\",\"vishu2\"]\n",
    "lst1==lst2  ##== thios sign compares if in both\n",
    "#elements same value then it retrun true"
   ]
  },
  {
   "cell_type": "code",
   "execution_count": 3,
   "id": "735ecd6a",
   "metadata": {},
   "outputs": [
    {
     "data": {
      "text/plain": [
       "False"
      ]
     },
     "execution_count": 3,
     "metadata": {},
     "output_type": "execute_result"
    }
   ],
   "source": [
    "lst1=[\"vishu\",\"vishu1\",\"vishu2\"]\n",
    "lst2=[\"vishu4\",\"vishu1\",\"vishu2\"]\n",
    "lst1==lst2"
   ]
  },
  {
   "cell_type": "code",
   "execution_count": 5,
   "id": "d7c534bb",
   "metadata": {},
   "outputs": [
    {
     "data": {
      "text/plain": [
       "True"
      ]
     },
     "execution_count": 5,
     "metadata": {},
     "output_type": "execute_result"
    }
   ],
   "source": [
    "a=\"vishal\"\n",
    "b=\"vishal\"\n",
    "a==b"
   ]
  },
  {
   "cell_type": "code",
   "execution_count": 7,
   "id": "fc2502ad",
   "metadata": {},
   "outputs": [
    {
     "data": {
      "text/plain": [
       "True"
      ]
     },
     "execution_count": 7,
     "metadata": {},
     "output_type": "execute_result"
    }
   ],
   "source": [
    "lst1=[\"vishu\",\"vishu1\",\"vishu2\"]\n",
    "lst2=lst1\n",
    "lst1 is lst2"
   ]
  },
  {
   "cell_type": "code",
   "execution_count": 8,
   "id": "3923dc6a",
   "metadata": {},
   "outputs": [
    {
     "data": {
      "text/plain": [
       "True"
      ]
     },
     "execution_count": 8,
     "metadata": {},
     "output_type": "execute_result"
    }
   ],
   "source": [
    "lst2 is lst1"
   ]
  },
  {
   "cell_type": "code",
   "execution_count": 9,
   "id": "7e03cced",
   "metadata": {},
   "outputs": [],
   "source": [
    "lst2[0]=\"vishnim\"\n"
   ]
  },
  {
   "cell_type": "code",
   "execution_count": 10,
   "id": "cb4a6361",
   "metadata": {},
   "outputs": [
    {
     "data": {
      "text/plain": [
       "['vishnim', 'vishu1', 'vishu2']"
      ]
     },
     "execution_count": 10,
     "metadata": {},
     "output_type": "execute_result"
    }
   ],
   "source": [
    "lst2"
   ]
  },
  {
   "cell_type": "code",
   "execution_count": 11,
   "id": "d60d97ca",
   "metadata": {},
   "outputs": [
    {
     "data": {
      "text/plain": [
       "['vishnim', 'vishu1', 'vishu2']"
      ]
     },
     "execution_count": 11,
     "metadata": {},
     "output_type": "execute_result"
    }
   ],
   "source": [
    "lst1"
   ]
  },
  {
   "cell_type": "code",
   "execution_count": null,
   "id": "fd0b7f6f",
   "metadata": {},
   "outputs": [],
   "source": [
    "# #how ever we cgange the value of fucntion and \n",
    "# this function is taking value from first function then \n",
    "# change reflect in first funstion and also\n",
    "# in second function bcoz it is copy of first function"
   ]
  }
 ],
 "metadata": {
  "kernelspec": {
   "display_name": "Python 3 (ipykernel)",
   "language": "python",
   "name": "python3"
  },
  "language_info": {
   "codemirror_mode": {
    "name": "ipython",
    "version": 3
   },
   "file_extension": ".py",
   "mimetype": "text/x-python",
   "name": "python",
   "nbconvert_exporter": "python",
   "pygments_lexer": "ipython3",
   "version": "3.9.7"
  }
 },
 "nbformat": 4,
 "nbformat_minor": 5
}
