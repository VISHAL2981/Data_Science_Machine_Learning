{
 "cells": [
  {
   "cell_type": "markdown",
   "id": "eafbb7c4",
   "metadata": {},
   "source": [
    "# python list iterable and iterators"
   ]
  },
  {
   "cell_type": "code",
   "execution_count": 1,
   "id": "7117010f",
   "metadata": {},
   "outputs": [
    {
     "name": "stdout",
     "output_type": "stream",
     "text": [
      "1\n",
      "2\n",
      "3\n",
      "4\n",
      "5\n",
      "6\n",
      "7\n",
      "8\n",
      "9\n"
     ]
    }
   ],
   "source": [
    "#list is iterable\n",
    "lst=[1,2,3,4,5,6,7,8,9]\n",
    "\n",
    "for i in lst:\n",
    "    print(i)"
   ]
  },
  {
   "cell_type": "code",
   "execution_count": 2,
   "id": "a583f568",
   "metadata": {},
   "outputs": [],
   "source": [
    "lst1=iter(lst)"
   ]
  },
  {
   "cell_type": "code",
   "execution_count": 3,
   "id": "55c6d9f4",
   "metadata": {},
   "outputs": [
    {
     "data": {
      "text/plain": [
       "<list_iterator at 0x17cfa42ad90>"
      ]
     },
     "execution_count": 3,
     "metadata": {},
     "output_type": "execute_result"
    }
   ],
   "source": [
    "lst1"
   ]
  },
  {
   "cell_type": "code",
   "execution_count": 7,
   "id": "5cc486df",
   "metadata": {},
   "outputs": [
    {
     "data": {
      "text/plain": [
       "4"
      ]
     },
     "execution_count": 7,
     "metadata": {},
     "output_type": "execute_result"
    }
   ],
   "source": [
    "# in case of iterator (this function print ine by one lst1 values run it again and again and you see magic it takes one values at a time)\n",
    "next(lst1)"
   ]
  },
  {
   "cell_type": "code",
   "execution_count": 8,
   "id": "34e7f8b3",
   "metadata": {},
   "outputs": [
    {
     "name": "stdout",
     "output_type": "stream",
     "text": [
      "5\n",
      "6\n",
      "7\n",
      "8\n",
      "9\n"
     ]
    }
   ],
   "source": [
    "#if i run this code here see upper code executed at 4 so now when i run code it give value from 5 to 9\n",
    "for i in lst1:\n",
    "    print(i)"
   ]
  },
  {
   "cell_type": "code",
   "execution_count": null,
   "id": "aef8d928",
   "metadata": {},
   "outputs": [],
   "source": [
    "##Iterable is an object, which one can iterate over.\n",
    "#It generates an Iterator when passed to iter()\n",
    "#method. Iterator is an object, which is used to \n",
    "#iterate over an iterable object using __next__()\n",
    "#method. Iterators have __next__() method, \n",
    "#which returns the next item of the object.\n",
    "\n",
    "#Note that every iterator is also an iterable, but not every \n",
    "#iterable is an iterator. For example, a list \n",
    "#is iterable but a list is not an iterator. \n",
    "#An iterator can be created from an iterable \n",
    "#by using the function iter(). To make this possible, \n",
    "#the class of an object needs either a \n",
    "#method __iter__, which returns an iterator, or a __getitem__ method with sequential\n",
    "#indexes starting with 0."
   ]
  }
 ],
 "metadata": {
  "kernelspec": {
   "display_name": "Python 3 (ipykernel)",
   "language": "python",
   "name": "python3"
  },
  "language_info": {
   "codemirror_mode": {
    "name": "ipython",
    "version": 3
   },
   "file_extension": ".py",
   "mimetype": "text/x-python",
   "name": "python",
   "nbconvert_exporter": "python",
   "pygments_lexer": "ipython3",
   "version": "3.9.7"
  }
 },
 "nbformat": 4,
 "nbformat_minor": 5
}
