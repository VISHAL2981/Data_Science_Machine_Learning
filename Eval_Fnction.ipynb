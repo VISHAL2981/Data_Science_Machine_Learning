{
 "cells": [
  {
   "cell_type": "markdown",
   "id": "ce54f7e3",
   "metadata": {},
   "source": [
    "# Python Eval Function -- Evaluating Expressions Dynamically"
   ]
  },
  {
   "cell_type": "code",
   "execution_count": 1,
   "id": "79f2270d",
   "metadata": {},
   "outputs": [
    {
     "data": {
      "text/plain": [
       "25"
      ]
     },
     "execution_count": 1,
     "metadata": {},
     "output_type": "execute_result"
    }
   ],
   "source": [
    "5*5"
   ]
  },
  {
   "cell_type": "code",
   "execution_count": 4,
   "id": "9a9ee0a3",
   "metadata": {},
   "outputs": [
    {
     "data": {
      "text/plain": [
       "28.5"
      ]
     },
     "execution_count": 4,
     "metadata": {},
     "output_type": "execute_result"
    }
   ],
   "source": [
    "#eval function evaluate python exression which are written as strings\n",
    "eval(\"5*5+7/2\")"
   ]
  },
  {
   "cell_type": "code",
   "execution_count": 5,
   "id": "70ebe516",
   "metadata": {},
   "outputs": [
    {
     "name": "stdout",
     "output_type": "stream",
     "text": [
      "enter the expression5*6\n"
     ]
    },
    {
     "data": {
      "text/plain": [
       "30"
      ]
     },
     "execution_count": 5,
     "metadata": {},
     "output_type": "execute_result"
    }
   ],
   "source": [
    "eval(input(\"enter the expression\"))"
   ]
  },
  {
   "cell_type": "code",
   "execution_count": 6,
   "id": "4425ea27",
   "metadata": {},
   "outputs": [
    {
     "name": "stdout",
     "output_type": "stream",
     "text": [
      "enter the expressionlen([1,2,3,4,5,6,7,8])\n"
     ]
    },
    {
     "data": {
      "text/plain": [
       "8"
      ]
     },
     "execution_count": 6,
     "metadata": {},
     "output_type": "execute_result"
    }
   ],
   "source": [
    "eval(input(\"enter the expression\"))"
   ]
  },
  {
   "cell_type": "code",
   "execution_count": 7,
   "id": "9ca2c790",
   "metadata": {},
   "outputs": [
    {
     "name": "stdout",
     "output_type": "stream",
     "text": [
      "enter the expressionsum([1,2,3,4,5,6])\n"
     ]
    },
    {
     "data": {
      "text/plain": [
       "21"
      ]
     },
     "execution_count": 7,
     "metadata": {},
     "output_type": "execute_result"
    }
   ],
   "source": [
    "eval(input(\"enter the expression\"))"
   ]
  },
  {
   "cell_type": "code",
   "execution_count": 9,
   "id": "4e5018bc",
   "metadata": {},
   "outputs": [],
   "source": [
    "def square_num(num):\n",
    "    return num**2"
   ]
  },
  {
   "cell_type": "code",
   "execution_count": 10,
   "id": "79bab9a4",
   "metadata": {},
   "outputs": [
    {
     "data": {
      "text/plain": [
       "4"
      ]
     },
     "execution_count": 10,
     "metadata": {},
     "output_type": "execute_result"
    }
   ],
   "source": [
    "eval(\"square_num(2)\")"
   ]
  },
  {
   "cell_type": "markdown",
   "id": "fb9ba56f",
   "metadata": {},
   "source": [
    "# how does eval work\n",
    "1 parse python expression\n",
    "2 compile into byte code\n",
    "3 evaluate the python expression\n",
    "4 it will return the result"
   ]
  },
  {
   "cell_type": "code",
   "execution_count": 11,
   "id": "efaac21c",
   "metadata": {},
   "outputs": [],
   "source": [
    "var=compile(\"5*5\",\"<string>\",\"eval\")"
   ]
  },
  {
   "cell_type": "code",
   "execution_count": 12,
   "id": "3044f2a6",
   "metadata": {},
   "outputs": [
    {
     "data": {
      "text/plain": [
       "25"
      ]
     },
     "execution_count": 12,
     "metadata": {},
     "output_type": "execute_result"
    }
   ],
   "source": [
    "eval(var)"
   ]
  },
  {
   "cell_type": "code",
   "execution_count": 13,
   "id": "a339679d",
   "metadata": {},
   "outputs": [
    {
     "ename": "NameError",
     "evalue": "name 'x' is not defined",
     "output_type": "error",
     "traceback": [
      "\u001b[1;31m---------------------------------------------------------------------------\u001b[0m",
      "\u001b[1;31mNameError\u001b[0m                                 Traceback (most recent call last)",
      "\u001b[1;32mC:\\Users\\VISHAL~1\\AppData\\Local\\Temp/ipykernel_1196/2115620358.py\u001b[0m in \u001b[0;36m<module>\u001b[1;34m\u001b[0m\n\u001b[0;32m      1\u001b[0m \u001b[1;31m#global parameter\u001b[0m\u001b[1;33m\u001b[0m\u001b[1;33m\u001b[0m\u001b[0m\n\u001b[1;32m----> 2\u001b[1;33m \u001b[0meval\u001b[0m\u001b[1;33m(\u001b[0m\u001b[1;34m\"x+50+x**2\"\u001b[0m\u001b[1;33m)\u001b[0m\u001b[1;33m\u001b[0m\u001b[1;33m\u001b[0m\u001b[0m\n\u001b[0m",
      "\u001b[1;32m<string>\u001b[0m in \u001b[0;36m<module>\u001b[1;34m\u001b[0m\n",
      "\u001b[1;31mNameError\u001b[0m: name 'x' is not defined"
     ]
    }
   ],
   "source": [
    "#global parameter\n",
    "eval(\"x+50+x**2\")"
   ]
  },
  {
   "cell_type": "code",
   "execution_count": 14,
   "id": "6cb05f9a",
   "metadata": {},
   "outputs": [
    {
     "data": {
      "text/plain": [
       "160"
      ]
     },
     "execution_count": 14,
     "metadata": {},
     "output_type": "execute_result"
    }
   ],
   "source": [
    "#global parameter\n",
    "eval(\"x+50+x**2\",{\"x\":10})"
   ]
  },
  {
   "cell_type": "code",
   "execution_count": 15,
   "id": "19b543fc",
   "metadata": {},
   "outputs": [
    {
     "data": {
      "text/plain": [
       "160"
      ]
     },
     "execution_count": 15,
     "metadata": {},
     "output_type": "execute_result"
    }
   ],
   "source": [
    "#global parameter\n",
    "x=10\n",
    "eval(\"x+50+x**2\",{\"x\":x})"
   ]
  },
  {
   "cell_type": "code",
   "execution_count": 16,
   "id": "7af75c43",
   "metadata": {},
   "outputs": [
    {
     "data": {
      "text/plain": [
       "850"
      ]
     },
     "execution_count": 16,
     "metadata": {},
     "output_type": "execute_result"
    }
   ],
   "source": [
    "x=100\n",
    "z=500\n",
    "eval(\"x+z+w\",{\"x\":x,\"z\":z,\"w\":250})"
   ]
  },
  {
   "cell_type": "code",
   "execution_count": 19,
   "id": "62d8d944",
   "metadata": {},
   "outputs": [
    {
     "data": {
      "text/plain": [
       "600"
      ]
     },
     "execution_count": 19,
     "metadata": {},
     "output_type": "execute_result"
    }
   ],
   "source": [
    "x=100\n",
    "z=500\n",
    "eval(\"x+z\")"
   ]
  },
  {
   "cell_type": "code",
   "execution_count": 20,
   "id": "c8304674",
   "metadata": {},
   "outputs": [
    {
     "data": {
      "text/plain": [
       "899"
      ]
     },
     "execution_count": 20,
     "metadata": {},
     "output_type": "execute_result"
    }
   ],
   "source": [
    "eval(\"x+z+w\",{\"x\":350,\"z\":290,\"w\":259})"
   ]
  },
  {
   "cell_type": "code",
   "execution_count": 22,
   "id": "911f6a66",
   "metadata": {},
   "outputs": [
    {
     "data": {
      "text/plain": [
       "False"
      ]
     },
     "execution_count": 22,
     "metadata": {},
     "output_type": "execute_result"
    }
   ],
   "source": [
    "x=100\n",
    "z=500\n",
    "eval(\"x>z\")"
   ]
  },
  {
   "cell_type": "markdown",
   "id": "e298dbb3",
   "metadata": {},
   "source": [
    "# but because of securities issues we dont use this but with diffrent methods we minimize the security issues"
   ]
  },
  {
   "cell_type": "code",
   "execution_count": null,
   "id": "1c801d84",
   "metadata": {},
   "outputs": [],
   "source": []
  }
 ],
 "metadata": {
  "kernelspec": {
   "display_name": "Python 3 (ipykernel)",
   "language": "python",
   "name": "python3"
  },
  "language_info": {
   "codemirror_mode": {
    "name": "ipython",
    "version": 3
   },
   "file_extension": ".py",
   "mimetype": "text/x-python",
   "name": "python",
   "nbconvert_exporter": "python",
   "pygments_lexer": "ipython3",
   "version": "3.9.7"
  }
 },
 "nbformat": 4,
 "nbformat_minor": 5
}
