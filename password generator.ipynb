{
 "cells": [
  {
   "cell_type": "code",
   "execution_count": 1,
   "id": "6877fba0",
   "metadata": {},
   "outputs": [],
   "source": [
    "##very first thing we do is to import required modules for the project.\n",
    "#In this case, since we need to create random strings\n",
    "import random"
   ]
  },
  {
   "cell_type": "code",
   "execution_count": 18,
   "id": "52c63004",
   "metadata": {},
   "outputs": [
    {
     "name": "stdout",
     "output_type": "stream",
     "text": [
      "Enter your password lenght :29\n"
     ]
    }
   ],
   "source": [
    "## we are making use of int() function. That's because\n",
    "#the input we get from the user will be in string\n",
    "#datatype but to make use of this input we first need \n",
    "#to convert it into an int datatype. int() will convert\n",
    "#our input from string to int.\n",
    "\n",
    "\n",
    "\n",
    "pass_len=int(input(\"Enter your password lenght :\"))"
   ]
  },
  {
   "cell_type": "code",
   "execution_count": 19,
   "id": "6a81dfb9",
   "metadata": {},
   "outputs": [],
   "source": [
    "pass_data = \"qwertyuiopasdfgjklzxcvbnm1234567890[];',./!@#$%^&*()_+:<>?\"\n",
    "#Here we have simply defined a string which consists of all the alphabets, numbers & symbols which will be used to generate the password. You can customize this variable as per your wish. If you want to create a password consisting only of alphabets then you can get rid of symbols and numbers from this variable and the resulting password will be consisting only of alphabets."
   ]
  },
  {
   "cell_type": "code",
   "execution_count": 20,
   "id": "8cb8878f",
   "metadata": {},
   "outputs": [],
   "source": [
    "password=\"\".join(random.sample(pass_data,pass_len))\n",
    "#join() function which will join our generated password to an empty string on the left.\n",
    "\n",
    "#Within join(), we have random.sample() function which does the main job of generating a password.\n",
    "\n",
    "#random.sample() takes in our pass_data variable which consists of our raw password characters and \n",
    "#the pass_len variable which is the user input from the user regarding the length of the password. Basically what it will do is that it will take random characters from pass_data variable of length"
   ]
  },
  {
   "cell_type": "code",
   "execution_count": 21,
   "id": "7ac11c9a",
   "metadata": {},
   "outputs": [
    {
     "name": "stdout",
     "output_type": "stream",
     "text": [
      ")*km3f[<^98q2'v01:]7c@i!#d>%p\n"
     ]
    }
   ],
   "source": [
    "print(password)"
   ]
  },
  {
   "cell_type": "code",
   "execution_count": null,
   "id": "ed3861f1",
   "metadata": {},
   "outputs": [],
   "source": []
  }
 ],
 "metadata": {
  "kernelspec": {
   "display_name": "Python 3 (ipykernel)",
   "language": "python",
   "name": "python3"
  },
  "language_info": {
   "codemirror_mode": {
    "name": "ipython",
    "version": 3
   },
   "file_extension": ".py",
   "mimetype": "text/x-python",
   "name": "python",
   "nbconvert_exporter": "python",
   "pygments_lexer": "ipython3",
   "version": "3.9.7"
  }
 },
 "nbformat": 4,
 "nbformat_minor": 5
}
