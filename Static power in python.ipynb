{
 "cells": [
  {
   "cell_type": "markdown",
   "id": "c07cfef0",
   "metadata": {},
   "source": [
    "# static method"
   ]
  },
  {
   "cell_type": "code",
   "execution_count": 2,
   "id": "5e0390e7",
   "metadata": {},
   "outputs": [],
   "source": [
    "import datetime\n",
    "now=datetime.datetime.now()"
   ]
  },
  {
   "cell_type": "code",
   "execution_count": 3,
   "id": "a8dac141",
   "metadata": {},
   "outputs": [
    {
     "data": {
      "text/plain": [
       "2022"
      ]
     },
     "execution_count": 3,
     "metadata": {},
     "output_type": "execute_result"
    }
   ],
   "source": [
    "now.year"
   ]
  },
  {
   "cell_type": "code",
   "execution_count": 5,
   "id": "8a9b08c5",
   "metadata": {},
   "outputs": [],
   "source": [
    "class car:\n",
    "    baseprice=10000 ##class vaariables\n",
    "    def __init__(self,windows,doors,power):\n",
    "        self.windows=windows\n",
    "        self.doors=doors\n",
    "        self.power=power\n",
    "        \n",
    "    def what_the_base_price(self):\n",
    "        print(\"the base price is{}\".format(self.baseprice))\n",
    "    @classmethod\n",
    "    def revise_baseprice(cls,inflation):\n",
    "        cls.baseprice=cls.baseprice+cls.baseprice*inflation\n",
    "    @staticmethod\n",
    "    def check_year():\n",
    "        if now.year==2022:\n",
    "            return True\n",
    "        else:\n",
    "            return False\n",
    "        \n",
    "##is code sai hpga yeh li nultiple copies mhi bnegi\n",
    "#jab 2022 ya 2023 hi tb vo value check hogi and \n",
    "#base price mai value ad hojyegi"
   ]
  },
  {
   "cell_type": "code",
   "execution_count": 6,
   "id": "48dbb9bf",
   "metadata": {},
   "outputs": [],
   "source": [
    "car1=car(4,5,3000)"
   ]
  },
  {
   "cell_type": "code",
   "execution_count": 7,
   "id": "c50076e7",
   "metadata": {},
   "outputs": [
    {
     "data": {
      "text/plain": [
       "True"
      ]
     },
     "execution_count": 7,
     "metadata": {},
     "output_type": "execute_result"
    }
   ],
   "source": [
    "car1.check_year()"
   ]
  },
  {
   "cell_type": "code",
   "execution_count": 8,
   "id": "f699674d",
   "metadata": {},
   "outputs": [],
   "source": [
    "if(car1.check_year()):\n",
    "    pass\n",
    "else:\n",
    "    car.revise_base_price"
   ]
  },
  {
   "cell_type": "code",
   "execution_count": 9,
   "id": "43210408",
   "metadata": {},
   "outputs": [
    {
     "data": {
      "text/plain": [
       "10000"
      ]
     },
     "execution_count": 9,
     "metadata": {},
     "output_type": "execute_result"
    }
   ],
   "source": [
    "car1.baseprice"
   ]
  },
  {
   "cell_type": "code",
   "execution_count": null,
   "id": "51491cb9",
   "metadata": {},
   "outputs": [],
   "source": []
  }
 ],
 "metadata": {
  "kernelspec": {
   "display_name": "Python 3 (ipykernel)",
   "language": "python",
   "name": "python3"
  },
  "language_info": {
   "codemirror_mode": {
    "name": "ipython",
    "version": 3
   },
   "file_extension": ".py",
   "mimetype": "text/x-python",
   "name": "python",
   "nbconvert_exporter": "python",
   "pygments_lexer": "ipython3",
   "version": "3.9.7"
  }
 },
 "nbformat": 4,
 "nbformat_minor": 5
}
