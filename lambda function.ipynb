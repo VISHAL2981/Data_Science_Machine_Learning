{
 "cells": [
  {
   "cell_type": "markdown",
   "id": "f2a61506",
   "metadata": {},
   "source": [
    "# lambda functions\n",
    "\n",
    "anonymous function,A function with no name\n",
    "\n",
    "this usually work faster than other function"
   ]
  },
  {
   "cell_type": "code",
   "execution_count": 1,
   "id": "ef7fcecf",
   "metadata": {},
   "outputs": [],
   "source": [
    "def addition(a,b):\n",
    "    return a+b"
   ]
  },
  {
   "cell_type": "code",
   "execution_count": 2,
   "id": "c526391d",
   "metadata": {},
   "outputs": [
    {
     "data": {
      "text/plain": [
       "100"
      ]
     },
     "execution_count": 2,
     "metadata": {},
     "output_type": "execute_result"
    }
   ],
   "source": [
    "addition(43,57)"
   ]
  },
  {
   "cell_type": "code",
   "execution_count": 3,
   "id": "9cd224da",
   "metadata": {},
   "outputs": [],
   "source": [
    "addition=lambda a,b:a+b \n"
   ]
  },
  {
   "cell_type": "code",
   "execution_count": 4,
   "id": "bb229d58",
   "metadata": {},
   "outputs": [
    {
     "data": {
      "text/plain": [
       "100"
      ]
     },
     "execution_count": 4,
     "metadata": {},
     "output_type": "execute_result"
    }
   ],
   "source": [
    "addition(43,57)"
   ]
  },
  {
   "cell_type": "code",
   "execution_count": 5,
   "id": "840d2302",
   "metadata": {},
   "outputs": [],
   "source": [
    "#it will only be possible when we have a single expression"
   ]
  },
  {
   "cell_type": "code",
   "execution_count": 6,
   "id": "31b14ec9",
   "metadata": {},
   "outputs": [],
   "source": [
    "def even(num):\n",
    "    if num%2==0:\n",
    "        return True"
   ]
  },
  {
   "cell_type": "code",
   "execution_count": 7,
   "id": "00e0bcb5",
   "metadata": {},
   "outputs": [],
   "source": [
    "even(23)"
   ]
  },
  {
   "cell_type": "code",
   "execution_count": 8,
   "id": "7269aad5",
   "metadata": {},
   "outputs": [
    {
     "data": {
      "text/plain": [
       "True"
      ]
     },
     "execution_count": 8,
     "metadata": {},
     "output_type": "execute_result"
    }
   ],
   "source": [
    "even(24)"
   ]
  },
  {
   "cell_type": "code",
   "execution_count": 11,
   "id": "e57d3b50",
   "metadata": {},
   "outputs": [],
   "source": [
    "even1=lambda a:a%2==0"
   ]
  },
  {
   "cell_type": "code",
   "execution_count": 12,
   "id": "7b79d827",
   "metadata": {},
   "outputs": [
    {
     "data": {
      "text/plain": [
       "True"
      ]
     },
     "execution_count": 12,
     "metadata": {},
     "output_type": "execute_result"
    }
   ],
   "source": [
    "even1(26)"
   ]
  },
  {
   "cell_type": "code",
   "execution_count": 13,
   "id": "52acae3e",
   "metadata": {},
   "outputs": [],
   "source": [
    "def addition(x,y,z):\n",
    "    return x+y+z\n"
   ]
  },
  {
   "cell_type": "code",
   "execution_count": 14,
   "id": "678a11b4",
   "metadata": {},
   "outputs": [
    {
     "data": {
      "text/plain": [
       "100"
      ]
     },
     "execution_count": 14,
     "metadata": {},
     "output_type": "execute_result"
    }
   ],
   "source": [
    "addition(23,27,50)"
   ]
  },
  {
   "cell_type": "code",
   "execution_count": 15,
   "id": "cf4809e6",
   "metadata": {},
   "outputs": [],
   "source": [
    "addition=lambda x,y,z:x+y+z"
   ]
  },
  {
   "cell_type": "code",
   "execution_count": 16,
   "id": "5e3e23cc",
   "metadata": {},
   "outputs": [
    {
     "data": {
      "text/plain": [
       "100"
      ]
     },
     "execution_count": 16,
     "metadata": {},
     "output_type": "execute_result"
    }
   ],
   "source": [
    "addition(23,27,50)"
   ]
  },
  {
   "cell_type": "code",
   "execution_count": null,
   "id": "3c9814ee",
   "metadata": {},
   "outputs": [],
   "source": []
  }
 ],
 "metadata": {
  "kernelspec": {
   "display_name": "Python 3 (ipykernel)",
   "language": "python",
   "name": "python3"
  },
  "language_info": {
   "codemirror_mode": {
    "name": "ipython",
    "version": 3
   },
   "file_extension": ".py",
   "mimetype": "text/x-python",
   "name": "python",
   "nbconvert_exporter": "python",
   "pygments_lexer": "ipython3",
   "version": "3.9.7"
  }
 },
 "nbformat": 4,
 "nbformat_minor": 5
}
