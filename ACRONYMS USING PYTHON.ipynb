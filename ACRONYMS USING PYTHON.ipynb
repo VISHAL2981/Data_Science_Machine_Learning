{
 "cells": [
  {
   "cell_type": "code",
   "execution_count": 1,
   "id": "219a6cff",
   "metadata": {},
   "outputs": [
    {
     "name": "stdout",
     "output_type": "stream",
     "text": [
      "enter a phrase:vishal nimesh\n",
      " VN\n"
     ]
    }
   ],
   "source": [
    "user_input=str(input(\"enter a phrase:\"))\n",
    "text=user_input.split()\n",
    "\n",
    "a=\" \"\n",
    "\n",
    "for i in text:\n",
    "    a=a+str(i[0]).upper()\n",
    "print(a)    "
   ]
  },
  {
   "cell_type": "markdown",
   "id": "4d0000a9",
   "metadata": {},
   "source": [
    "#To create acronyms using Python, you need to write a python program that generates a short form of a word from a given sentence. You can do this by splitting and indexing to get the first word and then combine it. Let’s see how to create an acronym using Python:In the above code, I am first taking a string user input, then I am using the split() function in Python for splitting the sentence. Then I declared a new variable ‘a’ to store the acronym of a phrase Then at the end, I am running a for loop over the variable ‘text’ which represents the split of user input. While running the for loop we are storing the index value of str[0] of every word after a split and turning it into an uppercase format by using the upper() function."
   ]
  },
  {
   "cell_type": "markdown",
   "id": "06e320fb",
   "metadata": {},
   "source": [
    "# Basics #How split function work"
   ]
  },
  {
   "cell_type": "code",
   "execution_count": 2,
   "id": "898e0aa2",
   "metadata": {},
   "outputs": [
    {
     "name": "stdout",
     "output_type": "stream",
     "text": [
      "['this', 'is', 'string', 'example....wow!!!']\n",
      "['th', 's is string example....wow!!!']\n",
      "['th', 's ', 's string example....wow!!!']\n",
      "['th', 's ', 's str', 'ng example....wow!!!']\n",
      "['th', 's ', 's str', 'ng example....wow!!!']\n",
      "['this is string example....', 'o', '!!!']\n"
     ]
    }
   ],
   "source": [
    "str = \"this is string example....wow!!!\"\n",
    "print (str.split( ))\n",
    "\n",
    "\n",
    "print (str.split('i',1))\n",
    "\n",
    "\n",
    "print (str.split('i',2))\n",
    "\n",
    "\n",
    "print (str.split('i',3))\n",
    "\n",
    "\n",
    "print (str.split('i',4))\n",
    "\n",
    "\n",
    "print (str.split('w'))"
   ]
  },
  {
   "cell_type": "code",
   "execution_count": null,
   "id": "1813ad8a",
   "metadata": {},
   "outputs": [],
   "source": []
  },
  {
   "cell_type": "code",
   "execution_count": null,
   "id": "5ceda391",
   "metadata": {},
   "outputs": [],
   "source": []
  }
 ],
 "metadata": {
  "kernelspec": {
   "display_name": "Python 3 (ipykernel)",
   "language": "python",
   "name": "python3"
  },
  "language_info": {
   "codemirror_mode": {
    "name": "ipython",
    "version": 3
   },
   "file_extension": ".py",
   "mimetype": "text/x-python",
   "name": "python",
   "nbconvert_exporter": "python",
   "pygments_lexer": "ipython3",
   "version": "3.9.7"
  }
 },
 "nbformat": 4,
 "nbformat_minor": 5
}
