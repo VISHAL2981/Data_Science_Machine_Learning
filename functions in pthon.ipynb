{
 "cells": [
  {
   "cell_type": "markdown",
   "id": "3564e628",
   "metadata": {},
   "source": [
    "# functions in python\n",
    "\n",
    "why functions ?\n",
    "function definition?\n",
    "positonal and keyword arguments in function?"
   ]
  },
  {
   "cell_type": "code",
   "execution_count": 1,
   "id": "34e63e79",
   "metadata": {},
   "outputs": [
    {
     "name": "stdout",
     "output_type": "stream",
     "text": [
      "the no is even\n"
     ]
    }
   ],
   "source": [
    "num=24\n",
    "if num%2==0:\n",
    "    print(\"the no is even\")\n",
    "else:\n",
    "    print(\"the no is odd\")"
   ]
  },
  {
   "cell_type": "code",
   "execution_count": 3,
   "id": "03a87183",
   "metadata": {},
   "outputs": [],
   "source": [
    "def even_odd(num):\n",
    "    if num%2==0:\n",
    "        print(\"the no is even\")\n",
    "    else:\n",
    "        print(\"the no is odd\")"
   ]
  },
  {
   "cell_type": "code",
   "execution_count": 4,
   "id": "a4a5957b",
   "metadata": {},
   "outputs": [
    {
     "name": "stdout",
     "output_type": "stream",
     "text": [
      "the no is odd\n"
     ]
    }
   ],
   "source": [
    "even_odd(3)# 3 is a positional argument"
   ]
  },
  {
   "cell_type": "code",
   "execution_count": 5,
   "id": "0314ca9f",
   "metadata": {},
   "outputs": [
    {
     "name": "stdout",
     "output_type": "stream",
     "text": [
      "the no is even\n"
     ]
    }
   ],
   "source": [
    "even_odd(722)"
   ]
  },
  {
   "cell_type": "code",
   "execution_count": 8,
   "id": "a60c874f",
   "metadata": {},
   "outputs": [],
   "source": [
    "# #print vs return\n",
    "# def hello_world():\n",
    "#     print(\"Hello radhika\")"
   ]
  },
  {
   "cell_type": "code",
   "execution_count": 13,
   "id": "0872604b",
   "metadata": {},
   "outputs": [],
   "source": [
    "#print vs return\n",
    "def hello_world():\n",
    "    return(\"Hello radhika\")"
   ]
  },
  {
   "cell_type": "code",
   "execution_count": 14,
   "id": "39a2eb15",
   "metadata": {},
   "outputs": [],
   "source": [
    "val=hello_world()"
   ]
  },
  {
   "cell_type": "code",
   "execution_count": 16,
   "id": "2dfaee10",
   "metadata": {},
   "outputs": [
    {
     "name": "stdout",
     "output_type": "stream",
     "text": [
      "Hello radhika\n"
     ]
    }
   ],
   "source": [
    "#they just print the value if want to store this in var\n",
    "print(val)#this function does not return anything\n",
    "\n",
    "#now if i use return function at line 13 we get the value\n",
    "\n",
    "#this is the diffremce btw return or print\n",
    "\n",
    "\n",
    "\n"
   ]
  },
  {
   "cell_type": "code",
   "execution_count": 17,
   "id": "8e4db79f",
   "metadata": {},
   "outputs": [],
   "source": [
    "def add_number(num1,num2):\n",
    "    return num1+num2"
   ]
  },
  {
   "cell_type": "code",
   "execution_count": 18,
   "id": "8fb02ebe",
   "metadata": {},
   "outputs": [],
   "source": [
    "val=add_number(24,36)"
   ]
  },
  {
   "cell_type": "code",
   "execution_count": 19,
   "id": "7e3801cb",
   "metadata": {},
   "outputs": [
    {
     "data": {
      "text/plain": [
       "60"
      ]
     },
     "execution_count": 19,
     "metadata": {},
     "output_type": "execute_result"
    }
   ],
   "source": [
    "val"
   ]
  },
  {
   "cell_type": "code",
   "execution_count": 21,
   "id": "0948695b",
   "metadata": {},
   "outputs": [],
   "source": [
    "#the diffrence btw positional arguments and keyword arguments\n",
    "## 1 is positional argument\n",
    "## 2 is keyword argument\n",
    "\n",
    "def Hello(name,age=22):\n",
    "    print(\"my name is {} and age is {}\".format(name,age))"
   ]
  },
  {
   "cell_type": "code",
   "execution_count": 22,
   "id": "eab09f5d",
   "metadata": {},
   "outputs": [
    {
     "name": "stdout",
     "output_type": "stream",
     "text": [
      "my name is Vishal Nimesh and age is 22\n"
     ]
    }
   ],
   "source": [
    "Hello('Vishal Nimesh')"
   ]
  },
  {
   "cell_type": "code",
   "execution_count": 23,
   "id": "0a3f2419",
   "metadata": {},
   "outputs": [],
   "source": [
    "def hello(*args,**kwargs):\n",
    "        print(args)# it trake positional arguments\n",
    "        print(kwargs)#it takes keyword arguments\n",
    "        \n",
    "        "
   ]
  },
  {
   "cell_type": "code",
   "execution_count": 24,
   "id": "125e35f1",
   "metadata": {},
   "outputs": [
    {
     "name": "stdout",
     "output_type": "stream",
     "text": [
      "('Vishal', 'nimesh')\n",
      "{'age': 22, 'dob': 1999}\n"
     ]
    }
   ],
   "source": [
    "hello(\"Vishal\",\"nimesh\",age=22,dob=1999)"
   ]
  },
  {
   "cell_type": "code",
   "execution_count": 27,
   "id": "33209f50",
   "metadata": {},
   "outputs": [],
   "source": [
    "lst=['vishal','nimesh']\n",
    "dict_args={'age':29,'dob':1999}\n"
   ]
  },
  {
   "cell_type": "code",
   "execution_count": 28,
   "id": "7f0473b0",
   "metadata": {},
   "outputs": [
    {
     "name": "stdout",
     "output_type": "stream",
     "text": [
      "(['vishal', 'nimesh'], {'age': 29, 'dob': 1999})\n",
      "{}\n"
     ]
    }
   ],
   "source": [
    "hello(lst,dict_args)"
   ]
  },
  {
   "cell_type": "code",
   "execution_count": 29,
   "id": "f26e11e0",
   "metadata": {},
   "outputs": [
    {
     "name": "stdout",
     "output_type": "stream",
     "text": [
      "('vishal', 'nimesh')\n",
      "{'age': 29, 'dob': 1999}\n"
     ]
    }
   ],
   "source": [
    "# its wrong bow we have to specify whic is postional and keyword arguments\n",
    "hello(*lst,**dict_args)"
   ]
  },
  {
   "cell_type": "code",
   "execution_count": 30,
   "id": "d5a35b43",
   "metadata": {},
   "outputs": [],
   "source": [
    "# now its right way to do this code \n"
   ]
  },
  {
   "cell_type": "code",
   "execution_count": 36,
   "id": "478a66c9",
   "metadata": {},
   "outputs": [],
   "source": [
    "lst=[1,2,3,4]\n"
   ]
  },
  {
   "cell_type": "code",
   "execution_count": 37,
   "id": "2f7a6d81",
   "metadata": {},
   "outputs": [],
   "source": [
    "def evenoddsum(lst):\n",
    "    even_sum=0\n",
    "    odd_sum=0\n",
    "    for i in lst:\n",
    "        if i%2==0:\n",
    "            even_sum=even_sum+i\n",
    "        else:\n",
    "            odd_sum=odd_sum+i\n",
    "    return even_sum,odd_sum"
   ]
  },
  {
   "cell_type": "code",
   "execution_count": 38,
   "id": "a9cb56fb",
   "metadata": {},
   "outputs": [
    {
     "data": {
      "text/plain": [
       "(6, 4)"
      ]
     },
     "execution_count": 38,
     "metadata": {},
     "output_type": "execute_result"
    }
   ],
   "source": [
    "evenoddsum(lst)"
   ]
  },
  {
   "cell_type": "code",
   "execution_count": null,
   "id": "8ce179d7",
   "metadata": {},
   "outputs": [],
   "source": []
  }
 ],
 "metadata": {
  "kernelspec": {
   "display_name": "Python 3 (ipykernel)",
   "language": "python",
   "name": "python3"
  },
  "language_info": {
   "codemirror_mode": {
    "name": "ipython",
    "version": 3
   },
   "file_extension": ".py",
   "mimetype": "text/x-python",
   "name": "python",
   "nbconvert_exporter": "python",
   "pygments_lexer": "ipython3",
   "version": "3.9.7"
  }
 },
 "nbformat": 4,
 "nbformat_minor": 5
}
