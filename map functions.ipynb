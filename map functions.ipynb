{
 "cells": [
  {
   "cell_type": "markdown",
   "id": "e6f33b2a",
   "metadata": {},
   "source": [
    "# Map function in python"
   ]
  },
  {
   "cell_type": "code",
   "execution_count": 1,
   "id": "a69447dc",
   "metadata": {},
   "outputs": [],
   "source": [
    "def even_or_odd(num):\n",
    "    if num%2==0:\n",
    "        return \"The number {} is Even\".format(num)\n",
    "    else:\n",
    "        return \"The number {} is Odd\".format(num)"
   ]
  },
  {
   "cell_type": "code",
   "execution_count": 2,
   "id": "73ae00c8",
   "metadata": {},
   "outputs": [
    {
     "data": {
      "text/plain": [
       "'The number 23 is Odd'"
      ]
     },
     "execution_count": 2,
     "metadata": {},
     "output_type": "execute_result"
    }
   ],
   "source": [
    "even_or_odd(23)"
   ]
  },
  {
   "cell_type": "code",
   "execution_count": 3,
   "id": "be392bba",
   "metadata": {},
   "outputs": [],
   "source": [
    "lst=[1,2,3,52,44,42,45,56,456,32,42,435,675,56,82,63,62,33]"
   ]
  },
  {
   "cell_type": "code",
   "execution_count": 5,
   "id": "a720d59b",
   "metadata": {},
   "outputs": [],
   "source": [
    "# map(even_or_odd,lst)"
   ]
  },
  {
   "cell_type": "code",
   "execution_count": 7,
   "id": "b649a3bb",
   "metadata": {},
   "outputs": [],
   "source": [
    "# memory is not intansiated by map to intansiated it we have to convert it in list"
   ]
  },
  {
   "cell_type": "code",
   "execution_count": 8,
   "id": "663c15d1",
   "metadata": {},
   "outputs": [
    {
     "data": {
      "text/plain": [
       "['The number 1 is Odd',\n",
       " 'The number 2 is Even',\n",
       " 'The number 3 is Odd',\n",
       " 'The number 52 is Even',\n",
       " 'The number 44 is Even',\n",
       " 'The number 42 is Even',\n",
       " 'The number 45 is Odd',\n",
       " 'The number 56 is Even',\n",
       " 'The number 456 is Even',\n",
       " 'The number 32 is Even',\n",
       " 'The number 42 is Even',\n",
       " 'The number 435 is Odd',\n",
       " 'The number 675 is Odd',\n",
       " 'The number 56 is Even',\n",
       " 'The number 82 is Even',\n",
       " 'The number 63 is Odd',\n",
       " 'The number 62 is Even',\n",
       " 'The number 33 is Odd']"
      ]
     },
     "execution_count": 8,
     "metadata": {},
     "output_type": "execute_result"
    }
   ],
   "source": [
    "list(map(even_or_odd,lst))"
   ]
  },
  {
   "cell_type": "code",
   "execution_count": null,
   "id": "f9b8a1d2",
   "metadata": {},
   "outputs": [],
   "source": []
  }
 ],
 "metadata": {
  "kernelspec": {
   "display_name": "Python 3 (ipykernel)",
   "language": "python",
   "name": "python3"
  },
  "language_info": {
   "codemirror_mode": {
    "name": "ipython",
    "version": 3
   },
   "file_extension": ".py",
   "mimetype": "text/x-python",
   "name": "python",
   "nbconvert_exporter": "python",
   "pygments_lexer": "ipython3",
   "version": "3.9.7"
  }
 },
 "nbformat": 4,
 "nbformat_minor": 5
}
