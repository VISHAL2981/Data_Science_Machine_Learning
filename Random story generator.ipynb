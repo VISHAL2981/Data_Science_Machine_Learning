{
 "cells": [
  {
   "cell_type": "code",
   "execution_count": 6,
   "id": "be6bd1b5",
   "metadata": {},
   "outputs": [
    {
     "name": "stdout",
     "output_type": "stream",
     "text": [
      "Before you were born,Captain America went toBat Cave to dance.\n"
     ]
    }
   ],
   "source": [
    "#importing random module\n",
    "import random\n",
    "\n",
    "#storing random data into lists to create story\n",
    "\n",
    "when = ['A long time ago', 'Yesterday', 'Before you were born', 'In future', 'Before Thanos arrived']\n",
    "who = ['Shazam', 'Iron Man', 'Batman', 'Superman', 'Captain America']\n",
    "went = ['Arkham Asylum', 'Gotham City', 'Stark Tower', 'Bat Cave', 'Avengers HQ']\n",
    "what = ['to eat a lot of cakes', 'to fight for justice', 'to steal ice cream', 'to dance']\n",
    "\n",
    "\n",
    "# Using string concatenition & randome.choice() to print a random element from all the lists \n",
    "\n",
    "print(random.choice(when) + ',' + random.choice(who) + ' went to' +  random.choice( went) + ' '+random.choice(what)+ '.')"
   ]
  },
  {
   "cell_type": "code",
   "execution_count": null,
   "id": "46bf944c",
   "metadata": {},
   "outputs": [],
   "source": []
  },
  {
   "cell_type": "code",
   "execution_count": null,
   "id": "1a32fce7",
   "metadata": {},
   "outputs": [],
   "source": []
  }
 ],
 "metadata": {
  "kernelspec": {
   "display_name": "Python 3 (ipykernel)",
   "language": "python",
   "name": "python3"
  },
  "language_info": {
   "codemirror_mode": {
    "name": "ipython",
    "version": 3
   },
   "file_extension": ".py",
   "mimetype": "text/x-python",
   "name": "python",
   "nbconvert_exporter": "python",
   "pygments_lexer": "ipython3",
   "version": "3.9.7"
  }
 },
 "nbformat": 4,
 "nbformat_minor": 5
}
