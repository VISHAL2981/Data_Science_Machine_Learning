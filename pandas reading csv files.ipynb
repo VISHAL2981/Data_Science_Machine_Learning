{
 "cells": [
  {
   "cell_type": "code",
   "execution_count": 27,
   "id": "ed23d7f7",
   "metadata": {},
   "outputs": [],
   "source": [
    "import numpy as np\n",
    "import pandas as pd"
   ]
  },
  {
   "cell_type": "markdown",
   "id": "a0301e94",
   "metadata": {},
   "source": [
    "## import pandas as pd\n",
    "import numpy as np"
   ]
  },
  {
   "cell_type": "code",
   "execution_count": 28,
   "id": "d9101752",
   "metadata": {},
   "outputs": [],
   "source": [
    "test_df=pd.read_csv(\"Test1.csv\",sep=';')# if we change seprator value in our created or download file sepratror is just symbol we usually use (.) if we change  this symbol (;) or in any form then we must use seprator function with read filecode "
   ]
  },
  {
   "cell_type": "code",
   "execution_count": 29,
   "id": "13ca0804",
   "metadata": {},
   "outputs": [
    {
     "data": {
      "text/html": [
       "<div>\n",
       "<style scoped>\n",
       "    .dataframe tbody tr th:only-of-type {\n",
       "        vertical-align: middle;\n",
       "    }\n",
       "\n",
       "    .dataframe tbody tr th {\n",
       "        vertical-align: top;\n",
       "    }\n",
       "\n",
       "    .dataframe thead th {\n",
       "        text-align: right;\n",
       "    }\n",
       "</style>\n",
       "<table border=\"1\" class=\"dataframe\">\n",
       "  <thead>\n",
       "    <tr style=\"text-align: right;\">\n",
       "      <th></th>\n",
       "      <th>,columns1</th>\n",
       "      <th>columns2</th>\n",
       "      <th>columns3</th>\n",
       "      <th>columns4</th>\n",
       "    </tr>\n",
       "  </thead>\n",
       "  <tbody>\n",
       "    <tr>\n",
       "      <th>row1</th>\n",
       "      <td>0</td>\n",
       "      <td>1</td>\n",
       "      <td>2</td>\n",
       "      <td>3</td>\n",
       "    </tr>\n",
       "    <tr>\n",
       "      <th>row2</th>\n",
       "      <td>2</td>\n",
       "      <td>3</td>\n",
       "      <td>6</td>\n",
       "      <td>7</td>\n",
       "    </tr>\n",
       "    <tr>\n",
       "      <th>row3</th>\n",
       "      <td>8</td>\n",
       "      <td>9</td>\n",
       "      <td>10</td>\n",
       "      <td>11</td>\n",
       "    </tr>\n",
       "    <tr>\n",
       "      <th>row4</th>\n",
       "      <td>12</td>\n",
       "      <td>13</td>\n",
       "      <td>14</td>\n",
       "      <td>15</td>\n",
       "    </tr>\n",
       "    <tr>\n",
       "      <th>row5</th>\n",
       "      <td>16</td>\n",
       "      <td>17</td>\n",
       "      <td>18</td>\n",
       "      <td>19</td>\n",
       "    </tr>\n",
       "  </tbody>\n",
       "</table>\n",
       "</div>"
      ],
      "text/plain": [
       "       ,columns1  columns2  columns3  columns4\n",
       "row1           0         1         2         3\n",
       "row2           2         3         6         7\n",
       "row3           8         9        10        11\n",
       "row4          12        13        14        15\n",
       "row5          16        17        18        19"
      ]
     },
     "execution_count": 29,
     "metadata": {},
     "output_type": "execute_result"
    }
   ],
   "source": [
    "test_df.head()"
   ]
  },
  {
   "cell_type": "code",
   "execution_count": 30,
   "id": "1e37cf12",
   "metadata": {},
   "outputs": [],
   "source": [
    "df= pd.read_csv('esm-csv.csv')"
   ]
  },
  {
   "cell_type": "code",
   "execution_count": 31,
   "id": "5d65bbea",
   "metadata": {},
   "outputs": [
    {
     "data": {
      "text/html": [
       "<div>\n",
       "<style scoped>\n",
       "    .dataframe tbody tr th:only-of-type {\n",
       "        vertical-align: middle;\n",
       "    }\n",
       "\n",
       "    .dataframe tbody tr th {\n",
       "        vertical-align: top;\n",
       "    }\n",
       "\n",
       "    .dataframe thead th {\n",
       "        text-align: right;\n",
       "    }\n",
       "</style>\n",
       "<table border=\"1\" class=\"dataframe\">\n",
       "  <thead>\n",
       "    <tr style=\"text-align: right;\">\n",
       "      <th></th>\n",
       "      <th>Series_reference</th>\n",
       "      <th>Period</th>\n",
       "      <th>Data_value</th>\n",
       "      <th>Suppressed</th>\n",
       "      <th>STATUS</th>\n",
       "      <th>UNITS</th>\n",
       "      <th>Magnitude</th>\n",
       "      <th>Subject</th>\n",
       "      <th>Group</th>\n",
       "      <th>Series_title_1</th>\n",
       "      <th>Series_title_2</th>\n",
       "      <th>Series_title_3</th>\n",
       "      <th>Series_title_4</th>\n",
       "      <th>Series_title_5</th>\n",
       "    </tr>\n",
       "  </thead>\n",
       "  <tbody>\n",
       "    <tr>\n",
       "      <th>0</th>\n",
       "      <td>MFGQ.SFA1CA</td>\n",
       "      <td>1992.12</td>\n",
       "      <td>2493.37</td>\n",
       "      <td>NaN</td>\n",
       "      <td>F</td>\n",
       "      <td>Dollars</td>\n",
       "      <td>6</td>\n",
       "      <td>Manufacturing Survey (ANZSIC06) - MFG</td>\n",
       "      <td>Industry by variable - Subannual Financial Col...</td>\n",
       "      <td>Meat and dairy product manufacturing</td>\n",
       "      <td>Sales (operating income)</td>\n",
       "      <td>Current prices</td>\n",
       "      <td>Unadjusted</td>\n",
       "      <td>NaN</td>\n",
       "    </tr>\n",
       "    <tr>\n",
       "      <th>1</th>\n",
       "      <td>MFGQ.SFA1CA</td>\n",
       "      <td>1993.03</td>\n",
       "      <td>3209.20</td>\n",
       "      <td>NaN</td>\n",
       "      <td>F</td>\n",
       "      <td>Dollars</td>\n",
       "      <td>6</td>\n",
       "      <td>Manufacturing Survey (ANZSIC06) - MFG</td>\n",
       "      <td>Industry by variable - Subannual Financial Col...</td>\n",
       "      <td>Meat and dairy product manufacturing</td>\n",
       "      <td>Sales (operating income)</td>\n",
       "      <td>Current prices</td>\n",
       "      <td>Unadjusted</td>\n",
       "      <td>NaN</td>\n",
       "    </tr>\n",
       "    <tr>\n",
       "      <th>2</th>\n",
       "      <td>MFGQ.SFA1CA</td>\n",
       "      <td>1993.06</td>\n",
       "      <td>2780.17</td>\n",
       "      <td>NaN</td>\n",
       "      <td>F</td>\n",
       "      <td>Dollars</td>\n",
       "      <td>6</td>\n",
       "      <td>Manufacturing Survey (ANZSIC06) - MFG</td>\n",
       "      <td>Industry by variable - Subannual Financial Col...</td>\n",
       "      <td>Meat and dairy product manufacturing</td>\n",
       "      <td>Sales (operating income)</td>\n",
       "      <td>Current prices</td>\n",
       "      <td>Unadjusted</td>\n",
       "      <td>NaN</td>\n",
       "    </tr>\n",
       "    <tr>\n",
       "      <th>3</th>\n",
       "      <td>MFGQ.SFA1CA</td>\n",
       "      <td>1993.09</td>\n",
       "      <td>1933.01</td>\n",
       "      <td>NaN</td>\n",
       "      <td>F</td>\n",
       "      <td>Dollars</td>\n",
       "      <td>6</td>\n",
       "      <td>Manufacturing Survey (ANZSIC06) - MFG</td>\n",
       "      <td>Industry by variable - Subannual Financial Col...</td>\n",
       "      <td>Meat and dairy product manufacturing</td>\n",
       "      <td>Sales (operating income)</td>\n",
       "      <td>Current prices</td>\n",
       "      <td>Unadjusted</td>\n",
       "      <td>NaN</td>\n",
       "    </tr>\n",
       "    <tr>\n",
       "      <th>4</th>\n",
       "      <td>MFGQ.SFA1CA</td>\n",
       "      <td>1993.12</td>\n",
       "      <td>2692.92</td>\n",
       "      <td>NaN</td>\n",
       "      <td>F</td>\n",
       "      <td>Dollars</td>\n",
       "      <td>6</td>\n",
       "      <td>Manufacturing Survey (ANZSIC06) - MFG</td>\n",
       "      <td>Industry by variable - Subannual Financial Col...</td>\n",
       "      <td>Meat and dairy product manufacturing</td>\n",
       "      <td>Sales (operating income)</td>\n",
       "      <td>Current prices</td>\n",
       "      <td>Unadjusted</td>\n",
       "      <td>NaN</td>\n",
       "    </tr>\n",
       "  </tbody>\n",
       "</table>\n",
       "</div>"
      ],
      "text/plain": [
       "  Series_reference   Period  Data_value Suppressed STATUS    UNITS  Magnitude  \\\n",
       "0      MFGQ.SFA1CA  1992.12     2493.37        NaN      F  Dollars          6   \n",
       "1      MFGQ.SFA1CA  1993.03     3209.20        NaN      F  Dollars          6   \n",
       "2      MFGQ.SFA1CA  1993.06     2780.17        NaN      F  Dollars          6   \n",
       "3      MFGQ.SFA1CA  1993.09     1933.01        NaN      F  Dollars          6   \n",
       "4      MFGQ.SFA1CA  1993.12     2692.92        NaN      F  Dollars          6   \n",
       "\n",
       "                                 Subject  \\\n",
       "0  Manufacturing Survey (ANZSIC06) - MFG   \n",
       "1  Manufacturing Survey (ANZSIC06) - MFG   \n",
       "2  Manufacturing Survey (ANZSIC06) - MFG   \n",
       "3  Manufacturing Survey (ANZSIC06) - MFG   \n",
       "4  Manufacturing Survey (ANZSIC06) - MFG   \n",
       "\n",
       "                                               Group  \\\n",
       "0  Industry by variable - Subannual Financial Col...   \n",
       "1  Industry by variable - Subannual Financial Col...   \n",
       "2  Industry by variable - Subannual Financial Col...   \n",
       "3  Industry by variable - Subannual Financial Col...   \n",
       "4  Industry by variable - Subannual Financial Col...   \n",
       "\n",
       "                         Series_title_1            Series_title_2  \\\n",
       "0  Meat and dairy product manufacturing  Sales (operating income)   \n",
       "1  Meat and dairy product manufacturing  Sales (operating income)   \n",
       "2  Meat and dairy product manufacturing  Sales (operating income)   \n",
       "3  Meat and dairy product manufacturing  Sales (operating income)   \n",
       "4  Meat and dairy product manufacturing  Sales (operating income)   \n",
       "\n",
       "   Series_title_3 Series_title_4 Series_title_5  \n",
       "0  Current prices     Unadjusted            NaN  \n",
       "1  Current prices     Unadjusted            NaN  \n",
       "2  Current prices     Unadjusted            NaN  \n",
       "3  Current prices     Unadjusted            NaN  \n",
       "4  Current prices     Unadjusted            NaN  "
      ]
     },
     "execution_count": 31,
     "metadata": {},
     "output_type": "execute_result"
    }
   ],
   "source": [
    "df.head()"
   ]
  },
  {
   "cell_type": "code",
   "execution_count": 32,
   "id": "cb314f6c",
   "metadata": {},
   "outputs": [
    {
     "name": "stdout",
     "output_type": "stream",
     "text": [
      "<class 'pandas.core.frame.DataFrame'>\n",
      "RangeIndex: 26742 entries, 0 to 26741\n",
      "Data columns (total 14 columns):\n",
      " #   Column            Non-Null Count  Dtype  \n",
      "---  ------            --------------  -----  \n",
      " 0   Series_reference  26742 non-null  object \n",
      " 1   Period            26742 non-null  float64\n",
      " 2   Data_value        25771 non-null  float64\n",
      " 3   Suppressed        224 non-null    object \n",
      " 4   STATUS            26742 non-null  object \n",
      " 5   UNITS             26742 non-null  object \n",
      " 6   Magnitude         26742 non-null  int64  \n",
      " 7   Subject           26742 non-null  object \n",
      " 8   Group             26742 non-null  object \n",
      " 9   Series_title_1    26742 non-null  object \n",
      " 10  Series_title_2    26742 non-null  object \n",
      " 11  Series_title_3    26742 non-null  object \n",
      " 12  Series_title_4    26742 non-null  object \n",
      " 13  Series_title_5    1290 non-null   object \n",
      "dtypes: float64(2), int64(1), object(11)\n",
      "memory usage: 2.9+ MB\n"
     ]
    }
   ],
   "source": [
    "df.info()# helps to find how many row column are there and many more things"
   ]
  },
  {
   "cell_type": "code",
   "execution_count": 33,
   "id": "05433e68",
   "metadata": {},
   "outputs": [
    {
     "data": {
      "text/html": [
       "<div>\n",
       "<style scoped>\n",
       "    .dataframe tbody tr th:only-of-type {\n",
       "        vertical-align: middle;\n",
       "    }\n",
       "\n",
       "    .dataframe tbody tr th {\n",
       "        vertical-align: top;\n",
       "    }\n",
       "\n",
       "    .dataframe thead th {\n",
       "        text-align: right;\n",
       "    }\n",
       "</style>\n",
       "<table border=\"1\" class=\"dataframe\">\n",
       "  <thead>\n",
       "    <tr style=\"text-align: right;\">\n",
       "      <th></th>\n",
       "      <th>Period</th>\n",
       "      <th>Data_value</th>\n",
       "      <th>Magnitude</th>\n",
       "    </tr>\n",
       "  </thead>\n",
       "  <tbody>\n",
       "    <tr>\n",
       "      <th>count</th>\n",
       "      <td>26742.000000</td>\n",
       "      <td>25771.000000</td>\n",
       "      <td>26742.000000</td>\n",
       "    </tr>\n",
       "    <tr>\n",
       "      <th>mean</th>\n",
       "      <td>2007.208831</td>\n",
       "      <td>2912.451731</td>\n",
       "      <td>5.710568</td>\n",
       "    </tr>\n",
       "    <tr>\n",
       "      <th>std</th>\n",
       "      <td>8.168575</td>\n",
       "      <td>5126.674846</td>\n",
       "      <td>1.285646</td>\n",
       "    </tr>\n",
       "    <tr>\n",
       "      <th>min</th>\n",
       "      <td>1992.120000</td>\n",
       "      <td>-26.000000</td>\n",
       "      <td>0.000000</td>\n",
       "    </tr>\n",
       "    <tr>\n",
       "      <th>25%</th>\n",
       "      <td>2000.090000</td>\n",
       "      <td>388.884500</td>\n",
       "      <td>6.000000</td>\n",
       "    </tr>\n",
       "    <tr>\n",
       "      <th>50%</th>\n",
       "      <td>2007.090000</td>\n",
       "      <td>957.800000</td>\n",
       "      <td>6.000000</td>\n",
       "    </tr>\n",
       "    <tr>\n",
       "      <th>75%</th>\n",
       "      <td>2014.090000</td>\n",
       "      <td>2147.463500</td>\n",
       "      <td>6.000000</td>\n",
       "    </tr>\n",
       "    <tr>\n",
       "      <th>max</th>\n",
       "      <td>2021.090000</td>\n",
       "      <td>31667.450000</td>\n",
       "      <td>6.000000</td>\n",
       "    </tr>\n",
       "  </tbody>\n",
       "</table>\n",
       "</div>"
      ],
      "text/plain": [
       "             Period    Data_value     Magnitude\n",
       "count  26742.000000  25771.000000  26742.000000\n",
       "mean    2007.208831   2912.451731      5.710568\n",
       "std        8.168575   5126.674846      1.285646\n",
       "min     1992.120000    -26.000000      0.000000\n",
       "25%     2000.090000    388.884500      6.000000\n",
       "50%     2007.090000    957.800000      6.000000\n",
       "75%     2014.090000   2147.463500      6.000000\n",
       "max     2021.090000  31667.450000      6.000000"
      ]
     },
     "execution_count": 33,
     "metadata": {},
     "output_type": "execute_result"
    }
   ],
   "source": [
    "df.describe()# actually help to provide muh more value only integer and floating point taking inti consideration\n"
   ]
  },
  {
   "cell_type": "code",
   "execution_count": 34,
   "id": "e236672c",
   "metadata": {},
   "outputs": [
    {
     "data": {
      "text/plain": [
       "MFGQ.SFA1CA      116\n",
       "MFGQ.SFF4CA      116\n",
       "MFGQ.SFH1CA      116\n",
       "MFGQ.SFG5CA      116\n",
       "MFGQ.SFG4CA      116\n",
       "                ... \n",
       "MFGQ.SFA1KSPC    106\n",
       "MFGQ.SFY1KSPC    106\n",
       "MFGQ.SFA1KAAC    106\n",
       "MFGQ.SFA1CSPC    106\n",
       "MFGQ.SFZ1KAAC    106\n",
       "Name: Series_reference, Length: 237, dtype: int64"
      ]
     },
     "execution_count": 34,
     "metadata": {},
     "output_type": "execute_result"
    }
   ],
   "source": [
    "# get the unique category count with the file one value like i am using there\"Series_reference\" lets code\n",
    "df['Series_reference'].value_counts()"
   ]
  },
  {
   "cell_type": "code",
   "execution_count": 35,
   "id": "5ca9a2a4",
   "metadata": {},
   "outputs": [
    {
     "data": {
      "text/plain": [
       "1.300        26\n",
       "1.800        24\n",
       "1.000        23\n",
       "0.500        22\n",
       "0.800        21\n",
       "             ..\n",
       "387.523       1\n",
       "352.412       1\n",
       "362.619       1\n",
       "354.084       1\n",
       "10118.879     1\n",
       "Name: Data_value, Length: 23777, dtype: int64"
      ]
     },
     "execution_count": 35,
     "metadata": {},
     "output_type": "execute_result"
    }
   ],
   "source": [
    "df['Data_value'].value_counts()"
   ]
  },
  {
   "cell_type": "code",
   "execution_count": 36,
   "id": "08571384",
   "metadata": {},
   "outputs": [
    {
     "data": {
      "text/plain": [
       "Meat and dairy product manufacturing                           2128\n",
       "All manufacturing excluding meat and dairy                     2128\n",
       "All manufacturing                                              2128\n",
       "Seafood processing                                             1698\n",
       "Fruit, oil, cereal, and other food manufacturing               1698\n",
       "Beverage and tobacco product manufacturing                     1698\n",
       "Textile, leather, clothing, and footwear manufacturing         1698\n",
       "Wood and paper product manufacturing                           1698\n",
       "Printing                                                       1698\n",
       "Chemical, polymer, and rubber product manufacturing            1698\n",
       "Non-metallic mineral product manufacturing                     1698\n",
       "Metal product manufacturing                                    1698\n",
       "Transport equipment, machinery, and equipment manufacturing    1698\n",
       "Furniture and other manufacturing                              1698\n",
       "Petroleum and coal product manufacturing                       1680\n",
       "Name: Series_title_1, dtype: int64"
      ]
     },
     "execution_count": 36,
     "metadata": {},
     "output_type": "execute_result"
    }
   ],
   "source": [
    "df['Series_title_1'].value_counts()"
   ]
  },
  {
   "cell_type": "code",
   "execution_count": 37,
   "id": "a015342f",
   "metadata": {},
   "outputs": [
    {
     "data": {
      "text/html": [
       "<div>\n",
       "<style scoped>\n",
       "    .dataframe tbody tr th:only-of-type {\n",
       "        vertical-align: middle;\n",
       "    }\n",
       "\n",
       "    .dataframe tbody tr th {\n",
       "        vertical-align: top;\n",
       "    }\n",
       "\n",
       "    .dataframe thead th {\n",
       "        text-align: right;\n",
       "    }\n",
       "</style>\n",
       "<table border=\"1\" class=\"dataframe\">\n",
       "  <thead>\n",
       "    <tr style=\"text-align: right;\">\n",
       "      <th></th>\n",
       "      <th>Series_reference</th>\n",
       "      <th>Period</th>\n",
       "      <th>Data_value</th>\n",
       "      <th>Suppressed</th>\n",
       "      <th>STATUS</th>\n",
       "      <th>UNITS</th>\n",
       "      <th>Magnitude</th>\n",
       "      <th>Subject</th>\n",
       "      <th>Group</th>\n",
       "      <th>Series_title_1</th>\n",
       "      <th>Series_title_2</th>\n",
       "      <th>Series_title_3</th>\n",
       "      <th>Series_title_4</th>\n",
       "      <th>Series_title_5</th>\n",
       "    </tr>\n",
       "  </thead>\n",
       "  <tbody>\n",
       "    <tr>\n",
       "      <th>1</th>\n",
       "      <td>MFGQ.SFA1CA</td>\n",
       "      <td>1993.03</td>\n",
       "      <td>3209.200</td>\n",
       "      <td>NaN</td>\n",
       "      <td>F</td>\n",
       "      <td>Dollars</td>\n",
       "      <td>6</td>\n",
       "      <td>Manufacturing Survey (ANZSIC06) - MFG</td>\n",
       "      <td>Industry by variable - Subannual Financial Col...</td>\n",
       "      <td>Meat and dairy product manufacturing</td>\n",
       "      <td>Sales (operating income)</td>\n",
       "      <td>Current prices</td>\n",
       "      <td>Unadjusted</td>\n",
       "      <td>NaN</td>\n",
       "    </tr>\n",
       "    <tr>\n",
       "      <th>5</th>\n",
       "      <td>MFGQ.SFA1CA</td>\n",
       "      <td>1994.03</td>\n",
       "      <td>3079.610</td>\n",
       "      <td>NaN</td>\n",
       "      <td>F</td>\n",
       "      <td>Dollars</td>\n",
       "      <td>6</td>\n",
       "      <td>Manufacturing Survey (ANZSIC06) - MFG</td>\n",
       "      <td>Industry by variable - Subannual Financial Col...</td>\n",
       "      <td>Meat and dairy product manufacturing</td>\n",
       "      <td>Sales (operating income)</td>\n",
       "      <td>Current prices</td>\n",
       "      <td>Unadjusted</td>\n",
       "      <td>NaN</td>\n",
       "    </tr>\n",
       "    <tr>\n",
       "      <th>9</th>\n",
       "      <td>MFGQ.SFA1CA</td>\n",
       "      <td>1995.03</td>\n",
       "      <td>3119.330</td>\n",
       "      <td>NaN</td>\n",
       "      <td>F</td>\n",
       "      <td>Dollars</td>\n",
       "      <td>6</td>\n",
       "      <td>Manufacturing Survey (ANZSIC06) - MFG</td>\n",
       "      <td>Industry by variable - Subannual Financial Col...</td>\n",
       "      <td>Meat and dairy product manufacturing</td>\n",
       "      <td>Sales (operating income)</td>\n",
       "      <td>Current prices</td>\n",
       "      <td>Unadjusted</td>\n",
       "      <td>NaN</td>\n",
       "    </tr>\n",
       "    <tr>\n",
       "      <th>12</th>\n",
       "      <td>MFGQ.SFA1CA</td>\n",
       "      <td>1995.12</td>\n",
       "      <td>3087.450</td>\n",
       "      <td>NaN</td>\n",
       "      <td>F</td>\n",
       "      <td>Dollars</td>\n",
       "      <td>6</td>\n",
       "      <td>Manufacturing Survey (ANZSIC06) - MFG</td>\n",
       "      <td>Industry by variable - Subannual Financial Col...</td>\n",
       "      <td>Meat and dairy product manufacturing</td>\n",
       "      <td>Sales (operating income)</td>\n",
       "      <td>Current prices</td>\n",
       "      <td>Unadjusted</td>\n",
       "      <td>NaN</td>\n",
       "    </tr>\n",
       "    <tr>\n",
       "      <th>13</th>\n",
       "      <td>MFGQ.SFA1CA</td>\n",
       "      <td>1996.03</td>\n",
       "      <td>3698.420</td>\n",
       "      <td>NaN</td>\n",
       "      <td>F</td>\n",
       "      <td>Dollars</td>\n",
       "      <td>6</td>\n",
       "      <td>Manufacturing Survey (ANZSIC06) - MFG</td>\n",
       "      <td>Industry by variable - Subannual Financial Col...</td>\n",
       "      <td>Meat and dairy product manufacturing</td>\n",
       "      <td>Sales (operating income)</td>\n",
       "      <td>Current prices</td>\n",
       "      <td>Unadjusted</td>\n",
       "      <td>NaN</td>\n",
       "    </tr>\n",
       "    <tr>\n",
       "      <th>...</th>\n",
       "      <td>...</td>\n",
       "      <td>...</td>\n",
       "      <td>...</td>\n",
       "      <td>...</td>\n",
       "      <td>...</td>\n",
       "      <td>...</td>\n",
       "      <td>...</td>\n",
       "      <td>...</td>\n",
       "      <td>...</td>\n",
       "      <td>...</td>\n",
       "      <td>...</td>\n",
       "      <td>...</td>\n",
       "      <td>...</td>\n",
       "      <td>...</td>\n",
       "    </tr>\n",
       "    <tr>\n",
       "      <th>26737</th>\n",
       "      <td>MFGQ.SFZ5KA</td>\n",
       "      <td>2020.09</td>\n",
       "      <td>9138.880</td>\n",
       "      <td>NaN</td>\n",
       "      <td>F</td>\n",
       "      <td>Dollars</td>\n",
       "      <td>6</td>\n",
       "      <td>Manufacturing Survey (ANZSIC06) - MFG</td>\n",
       "      <td>Industry by variable - Subannual Financial Col...</td>\n",
       "      <td>All manufacturing</td>\n",
       "      <td>Stocks of finished goods, trading goods and wo...</td>\n",
       "      <td>Deflated, at September 2010 quarter prices</td>\n",
       "      <td>Unadjusted</td>\n",
       "      <td>NaN</td>\n",
       "    </tr>\n",
       "    <tr>\n",
       "      <th>26738</th>\n",
       "      <td>MFGQ.SFZ5KA</td>\n",
       "      <td>2020.12</td>\n",
       "      <td>11103.146</td>\n",
       "      <td>NaN</td>\n",
       "      <td>F</td>\n",
       "      <td>Dollars</td>\n",
       "      <td>6</td>\n",
       "      <td>Manufacturing Survey (ANZSIC06) - MFG</td>\n",
       "      <td>Industry by variable - Subannual Financial Col...</td>\n",
       "      <td>All manufacturing</td>\n",
       "      <td>Stocks of finished goods, trading goods and wo...</td>\n",
       "      <td>Deflated, at September 2010 quarter prices</td>\n",
       "      <td>Unadjusted</td>\n",
       "      <td>NaN</td>\n",
       "    </tr>\n",
       "    <tr>\n",
       "      <th>26739</th>\n",
       "      <td>MFGQ.SFZ5KA</td>\n",
       "      <td>2021.03</td>\n",
       "      <td>12022.349</td>\n",
       "      <td>NaN</td>\n",
       "      <td>F</td>\n",
       "      <td>Dollars</td>\n",
       "      <td>6</td>\n",
       "      <td>Manufacturing Survey (ANZSIC06) - MFG</td>\n",
       "      <td>Industry by variable - Subannual Financial Col...</td>\n",
       "      <td>All manufacturing</td>\n",
       "      <td>Stocks of finished goods, trading goods and wo...</td>\n",
       "      <td>Deflated, at September 2010 quarter prices</td>\n",
       "      <td>Unadjusted</td>\n",
       "      <td>NaN</td>\n",
       "    </tr>\n",
       "    <tr>\n",
       "      <th>26740</th>\n",
       "      <td>MFGQ.SFZ5KA</td>\n",
       "      <td>2021.06</td>\n",
       "      <td>9841.624</td>\n",
       "      <td>NaN</td>\n",
       "      <td>F</td>\n",
       "      <td>Dollars</td>\n",
       "      <td>6</td>\n",
       "      <td>Manufacturing Survey (ANZSIC06) - MFG</td>\n",
       "      <td>Industry by variable - Subannual Financial Col...</td>\n",
       "      <td>All manufacturing</td>\n",
       "      <td>Stocks of finished goods, trading goods and wo...</td>\n",
       "      <td>Deflated, at September 2010 quarter prices</td>\n",
       "      <td>Unadjusted</td>\n",
       "      <td>NaN</td>\n",
       "    </tr>\n",
       "    <tr>\n",
       "      <th>26741</th>\n",
       "      <td>MFGQ.SFZ5KA</td>\n",
       "      <td>2021.09</td>\n",
       "      <td>10118.879</td>\n",
       "      <td>NaN</td>\n",
       "      <td>F</td>\n",
       "      <td>Dollars</td>\n",
       "      <td>6</td>\n",
       "      <td>Manufacturing Survey (ANZSIC06) - MFG</td>\n",
       "      <td>Industry by variable - Subannual Financial Col...</td>\n",
       "      <td>All manufacturing</td>\n",
       "      <td>Stocks of finished goods, trading goods and wo...</td>\n",
       "      <td>Deflated, at September 2010 quarter prices</td>\n",
       "      <td>Unadjusted</td>\n",
       "      <td>NaN</td>\n",
       "    </tr>\n",
       "  </tbody>\n",
       "</table>\n",
       "<p>4601 rows × 14 columns</p>\n",
       "</div>"
      ],
      "text/plain": [
       "      Series_reference   Period  Data_value Suppressed STATUS    UNITS  \\\n",
       "1          MFGQ.SFA1CA  1993.03    3209.200        NaN      F  Dollars   \n",
       "5          MFGQ.SFA1CA  1994.03    3079.610        NaN      F  Dollars   \n",
       "9          MFGQ.SFA1CA  1995.03    3119.330        NaN      F  Dollars   \n",
       "12         MFGQ.SFA1CA  1995.12    3087.450        NaN      F  Dollars   \n",
       "13         MFGQ.SFA1CA  1996.03    3698.420        NaN      F  Dollars   \n",
       "...                ...      ...         ...        ...    ...      ...   \n",
       "26737      MFGQ.SFZ5KA  2020.09    9138.880        NaN      F  Dollars   \n",
       "26738      MFGQ.SFZ5KA  2020.12   11103.146        NaN      F  Dollars   \n",
       "26739      MFGQ.SFZ5KA  2021.03   12022.349        NaN      F  Dollars   \n",
       "26740      MFGQ.SFZ5KA  2021.06    9841.624        NaN      F  Dollars   \n",
       "26741      MFGQ.SFZ5KA  2021.09   10118.879        NaN      F  Dollars   \n",
       "\n",
       "       Magnitude                                Subject  \\\n",
       "1              6  Manufacturing Survey (ANZSIC06) - MFG   \n",
       "5              6  Manufacturing Survey (ANZSIC06) - MFG   \n",
       "9              6  Manufacturing Survey (ANZSIC06) - MFG   \n",
       "12             6  Manufacturing Survey (ANZSIC06) - MFG   \n",
       "13             6  Manufacturing Survey (ANZSIC06) - MFG   \n",
       "...          ...                                    ...   \n",
       "26737          6  Manufacturing Survey (ANZSIC06) - MFG   \n",
       "26738          6  Manufacturing Survey (ANZSIC06) - MFG   \n",
       "26739          6  Manufacturing Survey (ANZSIC06) - MFG   \n",
       "26740          6  Manufacturing Survey (ANZSIC06) - MFG   \n",
       "26741          6  Manufacturing Survey (ANZSIC06) - MFG   \n",
       "\n",
       "                                                   Group  \\\n",
       "1      Industry by variable - Subannual Financial Col...   \n",
       "5      Industry by variable - Subannual Financial Col...   \n",
       "9      Industry by variable - Subannual Financial Col...   \n",
       "12     Industry by variable - Subannual Financial Col...   \n",
       "13     Industry by variable - Subannual Financial Col...   \n",
       "...                                                  ...   \n",
       "26737  Industry by variable - Subannual Financial Col...   \n",
       "26738  Industry by variable - Subannual Financial Col...   \n",
       "26739  Industry by variable - Subannual Financial Col...   \n",
       "26740  Industry by variable - Subannual Financial Col...   \n",
       "26741  Industry by variable - Subannual Financial Col...   \n",
       "\n",
       "                             Series_title_1  \\\n",
       "1      Meat and dairy product manufacturing   \n",
       "5      Meat and dairy product manufacturing   \n",
       "9      Meat and dairy product manufacturing   \n",
       "12     Meat and dairy product manufacturing   \n",
       "13     Meat and dairy product manufacturing   \n",
       "...                                     ...   \n",
       "26737                     All manufacturing   \n",
       "26738                     All manufacturing   \n",
       "26739                     All manufacturing   \n",
       "26740                     All manufacturing   \n",
       "26741                     All manufacturing   \n",
       "\n",
       "                                          Series_title_2  \\\n",
       "1                               Sales (operating income)   \n",
       "5                               Sales (operating income)   \n",
       "9                               Sales (operating income)   \n",
       "12                              Sales (operating income)   \n",
       "13                              Sales (operating income)   \n",
       "...                                                  ...   \n",
       "26737  Stocks of finished goods, trading goods and wo...   \n",
       "26738  Stocks of finished goods, trading goods and wo...   \n",
       "26739  Stocks of finished goods, trading goods and wo...   \n",
       "26740  Stocks of finished goods, trading goods and wo...   \n",
       "26741  Stocks of finished goods, trading goods and wo...   \n",
       "\n",
       "                                   Series_title_3 Series_title_4  \\\n",
       "1                                  Current prices     Unadjusted   \n",
       "5                                  Current prices     Unadjusted   \n",
       "9                                  Current prices     Unadjusted   \n",
       "12                                 Current prices     Unadjusted   \n",
       "13                                 Current prices     Unadjusted   \n",
       "...                                           ...            ...   \n",
       "26737  Deflated, at September 2010 quarter prices     Unadjusted   \n",
       "26738  Deflated, at September 2010 quarter prices     Unadjusted   \n",
       "26739  Deflated, at September 2010 quarter prices     Unadjusted   \n",
       "26740  Deflated, at September 2010 quarter prices     Unadjusted   \n",
       "26741  Deflated, at September 2010 quarter prices     Unadjusted   \n",
       "\n",
       "      Series_title_5  \n",
       "1                NaN  \n",
       "5                NaN  \n",
       "9                NaN  \n",
       "12               NaN  \n",
       "13               NaN  \n",
       "...              ...  \n",
       "26737            NaN  \n",
       "26738            NaN  \n",
       "26739            NaN  \n",
       "26740            NaN  \n",
       "26741            NaN  \n",
       "\n",
       "[4601 rows x 14 columns]"
      ]
     },
     "execution_count": 37,
     "metadata": {},
     "output_type": "execute_result"
    }
   ],
   "source": [
    "#this function is use to find the value of csv file that suppose i have to find a list of students whose number is less than 200 \n",
    "df[df['Data_value']>3000]"
   ]
  },
  {
   "cell_type": "markdown",
   "id": "63578b61",
   "metadata": {},
   "source": [
    "# csv"
   ]
  },
  {
   "cell_type": "code",
   "execution_count": 52,
   "id": "1e9f1dfd",
   "metadata": {},
   "outputs": [],
   "source": [
    "from io import StringIO,BytesIO"
   ]
  },
  {
   "cell_type": "code",
   "execution_count": 53,
   "id": "37617290",
   "metadata": {},
   "outputs": [],
   "source": [
    "data = ('col1,col2,col3\\n'\n",
    "        'x,y,1\\n'\n",
    "        'a,b,2\\n'\n",
    "        'c,d,3')"
   ]
  },
  {
   "cell_type": "code",
   "execution_count": 54,
   "id": "f9eb1f71",
   "metadata": {},
   "outputs": [
    {
     "data": {
      "text/plain": [
       "str"
      ]
     },
     "execution_count": 54,
     "metadata": {},
     "output_type": "execute_result"
    }
   ],
   "source": [
    "type(data)"
   ]
  },
  {
   "cell_type": "code",
   "execution_count": 55,
   "id": "fc60f132",
   "metadata": {},
   "outputs": [
    {
     "data": {
      "text/html": [
       "<div>\n",
       "<style scoped>\n",
       "    .dataframe tbody tr th:only-of-type {\n",
       "        vertical-align: middle;\n",
       "    }\n",
       "\n",
       "    .dataframe tbody tr th {\n",
       "        vertical-align: top;\n",
       "    }\n",
       "\n",
       "    .dataframe thead th {\n",
       "        text-align: right;\n",
       "    }\n",
       "</style>\n",
       "<table border=\"1\" class=\"dataframe\">\n",
       "  <thead>\n",
       "    <tr style=\"text-align: right;\">\n",
       "      <th></th>\n",
       "      <th>col1</th>\n",
       "      <th>col2</th>\n",
       "      <th>col3</th>\n",
       "    </tr>\n",
       "  </thead>\n",
       "  <tbody>\n",
       "    <tr>\n",
       "      <th>0</th>\n",
       "      <td>x</td>\n",
       "      <td>y</td>\n",
       "      <td>1</td>\n",
       "    </tr>\n",
       "    <tr>\n",
       "      <th>1</th>\n",
       "      <td>a</td>\n",
       "      <td>b</td>\n",
       "      <td>2</td>\n",
       "    </tr>\n",
       "    <tr>\n",
       "      <th>2</th>\n",
       "      <td>c</td>\n",
       "      <td>d</td>\n",
       "      <td>3</td>\n",
       "    </tr>\n",
       "  </tbody>\n",
       "</table>\n",
       "</div>"
      ],
      "text/plain": [
       "  col1 col2  col3\n",
       "0    x    y     1\n",
       "1    a    b     2\n",
       "2    c    d     3"
      ]
     },
     "execution_count": 55,
     "metadata": {},
     "output_type": "execute_result"
    }
   ],
   "source": [
    "pd.read_csv(StringIO(data))"
   ]
  },
  {
   "cell_type": "code",
   "execution_count": 56,
   "id": "2a9c5ecb",
   "metadata": {},
   "outputs": [],
   "source": [
    "#df=pd.read_csv(StringIO(data),usecols=lambda x: x.upper() in ['COL1','COL3'])\n",
    "df=pd.read_csv(StringIO(data),usecols=['col1','col3'])"
   ]
  },
  {
   "cell_type": "code",
   "execution_count": 57,
   "id": "0cb90229",
   "metadata": {},
   "outputs": [
    {
     "data": {
      "text/html": [
       "<div>\n",
       "<style scoped>\n",
       "    .dataframe tbody tr th:only-of-type {\n",
       "        vertical-align: middle;\n",
       "    }\n",
       "\n",
       "    .dataframe tbody tr th {\n",
       "        vertical-align: top;\n",
       "    }\n",
       "\n",
       "    .dataframe thead th {\n",
       "        text-align: right;\n",
       "    }\n",
       "</style>\n",
       "<table border=\"1\" class=\"dataframe\">\n",
       "  <thead>\n",
       "    <tr style=\"text-align: right;\">\n",
       "      <th></th>\n",
       "      <th>col1</th>\n",
       "      <th>col3</th>\n",
       "    </tr>\n",
       "  </thead>\n",
       "  <tbody>\n",
       "    <tr>\n",
       "      <th>0</th>\n",
       "      <td>x</td>\n",
       "      <td>1</td>\n",
       "    </tr>\n",
       "    <tr>\n",
       "      <th>1</th>\n",
       "      <td>a</td>\n",
       "      <td>2</td>\n",
       "    </tr>\n",
       "    <tr>\n",
       "      <th>2</th>\n",
       "      <td>c</td>\n",
       "      <td>3</td>\n",
       "    </tr>\n",
       "  </tbody>\n",
       "</table>\n",
       "</div>"
      ],
      "text/plain": [
       "  col1  col3\n",
       "0    x     1\n",
       "1    a     2\n",
       "2    c     3"
      ]
     },
     "execution_count": 57,
     "metadata": {},
     "output_type": "execute_result"
    }
   ],
   "source": [
    "df"
   ]
  },
  {
   "cell_type": "code",
   "execution_count": 58,
   "id": "496e24bf",
   "metadata": {},
   "outputs": [],
   "source": [
    "# if i want to convert this back into data frame and make a nef file \n",
    "df.to_csv('test2.csv')"
   ]
  },
  {
   "cell_type": "code",
   "execution_count": 70,
   "id": "1a9933b4",
   "metadata": {},
   "outputs": [],
   "source": [
    " ##specifying column data types\n",
    "data = ('a,b,c,d\\n'\n",
    "             '1,2,3,4\\n'\n",
    "             '5,6,7,8\\n'\n",
    "             '9,10,11,12')"
   ]
  },
  {
   "cell_type": "code",
   "execution_count": 71,
   "id": "d59d7192",
   "metadata": {},
   "outputs": [
    {
     "name": "stdout",
     "output_type": "stream",
     "text": [
      "a,b,c,d\n",
      "1,2,3,4\n",
      "5,6,7,8\n",
      "9,10,11,12\n"
     ]
    }
   ],
   "source": [
    "print(data)"
   ]
  },
  {
   "cell_type": "code",
   "execution_count": 72,
   "id": "c41c55e5",
   "metadata": {},
   "outputs": [],
   "source": [
    "df=pd.read_csv(StringIO(data),dtype=object)#all column are now is objects we can make it integerand floating numbers too\n",
    "\n"
   ]
  },
  {
   "cell_type": "code",
   "execution_count": 73,
   "id": "c3889406",
   "metadata": {},
   "outputs": [
    {
     "data": {
      "text/html": [
       "<div>\n",
       "<style scoped>\n",
       "    .dataframe tbody tr th:only-of-type {\n",
       "        vertical-align: middle;\n",
       "    }\n",
       "\n",
       "    .dataframe tbody tr th {\n",
       "        vertical-align: top;\n",
       "    }\n",
       "\n",
       "    .dataframe thead th {\n",
       "        text-align: right;\n",
       "    }\n",
       "</style>\n",
       "<table border=\"1\" class=\"dataframe\">\n",
       "  <thead>\n",
       "    <tr style=\"text-align: right;\">\n",
       "      <th></th>\n",
       "      <th>a</th>\n",
       "      <th>b</th>\n",
       "      <th>c</th>\n",
       "      <th>d</th>\n",
       "    </tr>\n",
       "  </thead>\n",
       "  <tbody>\n",
       "    <tr>\n",
       "      <th>0</th>\n",
       "      <td>1</td>\n",
       "      <td>2</td>\n",
       "      <td>3</td>\n",
       "      <td>4</td>\n",
       "    </tr>\n",
       "    <tr>\n",
       "      <th>1</th>\n",
       "      <td>5</td>\n",
       "      <td>6</td>\n",
       "      <td>7</td>\n",
       "      <td>8</td>\n",
       "    </tr>\n",
       "    <tr>\n",
       "      <th>2</th>\n",
       "      <td>9</td>\n",
       "      <td>10</td>\n",
       "      <td>11</td>\n",
       "      <td>12</td>\n",
       "    </tr>\n",
       "  </tbody>\n",
       "</table>\n",
       "</div>"
      ],
      "text/plain": [
       "   a   b   c   d\n",
       "0  1   2   3   4\n",
       "1  5   6   7   8\n",
       "2  9  10  11  12"
      ]
     },
     "execution_count": 73,
     "metadata": {},
     "output_type": "execute_result"
    }
   ],
   "source": [
    "df"
   ]
  },
  {
   "cell_type": "code",
   "execution_count": 74,
   "id": "010b7524",
   "metadata": {},
   "outputs": [
    {
     "data": {
      "text/plain": [
       "0    1\n",
       "1    5\n",
       "2    9\n",
       "Name: a, dtype: object"
      ]
     },
     "execution_count": 74,
     "metadata": {},
     "output_type": "execute_result"
    }
   ],
   "source": [
    "df['a']"
   ]
  },
  {
   "cell_type": "code",
   "execution_count": 75,
   "id": "13877c24",
   "metadata": {},
   "outputs": [
    {
     "data": {
      "text/plain": [
       "'5'"
      ]
     },
     "execution_count": 75,
     "metadata": {},
     "output_type": "execute_result"
    }
   ],
   "source": [
    "df['a'][1]"
   ]
  },
  {
   "cell_type": "code",
   "execution_count": 76,
   "id": "003e2bb2",
   "metadata": {},
   "outputs": [],
   "source": [
    "df=pd.read_csv(StringIO(data),dtype=int)#all column are now is objects we can make it integerand floating numbers too"
   ]
  },
  {
   "cell_type": "code",
   "execution_count": 81,
   "id": "b9622d59",
   "metadata": {},
   "outputs": [
    {
     "data": {
      "text/html": [
       "<div>\n",
       "<style scoped>\n",
       "    .dataframe tbody tr th:only-of-type {\n",
       "        vertical-align: middle;\n",
       "    }\n",
       "\n",
       "    .dataframe tbody tr th {\n",
       "        vertical-align: top;\n",
       "    }\n",
       "\n",
       "    .dataframe thead th {\n",
       "        text-align: right;\n",
       "    }\n",
       "</style>\n",
       "<table border=\"1\" class=\"dataframe\">\n",
       "  <thead>\n",
       "    <tr style=\"text-align: right;\">\n",
       "      <th></th>\n",
       "      <th>a</th>\n",
       "      <th>b</th>\n",
       "      <th>c</th>\n",
       "      <th>d</th>\n",
       "    </tr>\n",
       "  </thead>\n",
       "  <tbody>\n",
       "    <tr>\n",
       "      <th>0</th>\n",
       "      <td>1.0</td>\n",
       "      <td>2.0</td>\n",
       "      <td>3.0</td>\n",
       "      <td>4.0</td>\n",
       "    </tr>\n",
       "    <tr>\n",
       "      <th>1</th>\n",
       "      <td>5.0</td>\n",
       "      <td>6.0</td>\n",
       "      <td>7.0</td>\n",
       "      <td>8.0</td>\n",
       "    </tr>\n",
       "    <tr>\n",
       "      <th>2</th>\n",
       "      <td>9.0</td>\n",
       "      <td>10.0</td>\n",
       "      <td>11.0</td>\n",
       "      <td>12.0</td>\n",
       "    </tr>\n",
       "  </tbody>\n",
       "</table>\n",
       "</div>"
      ],
      "text/plain": [
       "     a     b     c     d\n",
       "0  1.0   2.0   3.0   4.0\n",
       "1  5.0   6.0   7.0   8.0\n",
       "2  9.0  10.0  11.0  12.0"
      ]
     },
     "execution_count": 81,
     "metadata": {},
     "output_type": "execute_result"
    }
   ],
   "source": [
    "df"
   ]
  },
  {
   "cell_type": "code",
   "execution_count": 77,
   "id": "60844885",
   "metadata": {},
   "outputs": [
    {
     "data": {
      "text/plain": [
       "0    1\n",
       "1    5\n",
       "2    9\n",
       "Name: a, dtype: int32"
      ]
     },
     "execution_count": 77,
     "metadata": {},
     "output_type": "execute_result"
    }
   ],
   "source": [
    "df['a']"
   ]
  },
  {
   "cell_type": "code",
   "execution_count": 78,
   "id": "a8af1c42",
   "metadata": {},
   "outputs": [],
   "source": [
    "df=pd.read_csv(StringIO(data),dtype=float)"
   ]
  },
  {
   "cell_type": "code",
   "execution_count": 80,
   "id": "a052606f",
   "metadata": {},
   "outputs": [
    {
     "data": {
      "text/html": [
       "<div>\n",
       "<style scoped>\n",
       "    .dataframe tbody tr th:only-of-type {\n",
       "        vertical-align: middle;\n",
       "    }\n",
       "\n",
       "    .dataframe tbody tr th {\n",
       "        vertical-align: top;\n",
       "    }\n",
       "\n",
       "    .dataframe thead th {\n",
       "        text-align: right;\n",
       "    }\n",
       "</style>\n",
       "<table border=\"1\" class=\"dataframe\">\n",
       "  <thead>\n",
       "    <tr style=\"text-align: right;\">\n",
       "      <th></th>\n",
       "      <th>a</th>\n",
       "      <th>b</th>\n",
       "      <th>c</th>\n",
       "      <th>d</th>\n",
       "    </tr>\n",
       "  </thead>\n",
       "  <tbody>\n",
       "    <tr>\n",
       "      <th>0</th>\n",
       "      <td>1.0</td>\n",
       "      <td>2.0</td>\n",
       "      <td>3.0</td>\n",
       "      <td>4.0</td>\n",
       "    </tr>\n",
       "    <tr>\n",
       "      <th>1</th>\n",
       "      <td>5.0</td>\n",
       "      <td>6.0</td>\n",
       "      <td>7.0</td>\n",
       "      <td>8.0</td>\n",
       "    </tr>\n",
       "    <tr>\n",
       "      <th>2</th>\n",
       "      <td>9.0</td>\n",
       "      <td>10.0</td>\n",
       "      <td>11.0</td>\n",
       "      <td>12.0</td>\n",
       "    </tr>\n",
       "  </tbody>\n",
       "</table>\n",
       "</div>"
      ],
      "text/plain": [
       "     a     b     c     d\n",
       "0  1.0   2.0   3.0   4.0\n",
       "1  5.0   6.0   7.0   8.0\n",
       "2  9.0  10.0  11.0  12.0"
      ]
     },
     "execution_count": 80,
     "metadata": {},
     "output_type": "execute_result"
    }
   ],
   "source": [
    "df"
   ]
  },
  {
   "cell_type": "code",
   "execution_count": 79,
   "id": "a7840026",
   "metadata": {},
   "outputs": [
    {
     "data": {
      "text/plain": [
       "0    1.0\n",
       "1    5.0\n",
       "2    9.0\n",
       "Name: a, dtype: float64"
      ]
     },
     "execution_count": 79,
     "metadata": {},
     "output_type": "execute_result"
    }
   ],
   "source": [
    "df['a']"
   ]
  },
  {
   "cell_type": "code",
   "execution_count": 82,
   "id": "ff9e863a",
   "metadata": {},
   "outputs": [],
   "source": [
    "df=pd.read_csv(StringIO(data),dtype={\"b\":int,'c':float,'a':'int64'})"
   ]
  },
  {
   "cell_type": "code",
   "execution_count": 83,
   "id": "72941e75",
   "metadata": {},
   "outputs": [
    {
     "data": {
      "text/html": [
       "<div>\n",
       "<style scoped>\n",
       "    .dataframe tbody tr th:only-of-type {\n",
       "        vertical-align: middle;\n",
       "    }\n",
       "\n",
       "    .dataframe tbody tr th {\n",
       "        vertical-align: top;\n",
       "    }\n",
       "\n",
       "    .dataframe thead th {\n",
       "        text-align: right;\n",
       "    }\n",
       "</style>\n",
       "<table border=\"1\" class=\"dataframe\">\n",
       "  <thead>\n",
       "    <tr style=\"text-align: right;\">\n",
       "      <th></th>\n",
       "      <th>a</th>\n",
       "      <th>b</th>\n",
       "      <th>c</th>\n",
       "      <th>d</th>\n",
       "    </tr>\n",
       "  </thead>\n",
       "  <tbody>\n",
       "    <tr>\n",
       "      <th>0</th>\n",
       "      <td>1</td>\n",
       "      <td>2</td>\n",
       "      <td>3.0</td>\n",
       "      <td>4</td>\n",
       "    </tr>\n",
       "    <tr>\n",
       "      <th>1</th>\n",
       "      <td>5</td>\n",
       "      <td>6</td>\n",
       "      <td>7.0</td>\n",
       "      <td>8</td>\n",
       "    </tr>\n",
       "    <tr>\n",
       "      <th>2</th>\n",
       "      <td>9</td>\n",
       "      <td>10</td>\n",
       "      <td>11.0</td>\n",
       "      <td>12</td>\n",
       "    </tr>\n",
       "  </tbody>\n",
       "</table>\n",
       "</div>"
      ],
      "text/plain": [
       "   a   b     c   d\n",
       "0  1   2   3.0   4\n",
       "1  5   6   7.0   8\n",
       "2  9  10  11.0  12"
      ]
     },
     "execution_count": 83,
     "metadata": {},
     "output_type": "execute_result"
    }
   ],
   "source": [
    "df"
   ]
  },
  {
   "cell_type": "code",
   "execution_count": 85,
   "id": "94af7188",
   "metadata": {},
   "outputs": [
    {
     "data": {
      "text/plain": [
       "numpy.int64"
      ]
     },
     "execution_count": 85,
     "metadata": {},
     "output_type": "execute_result"
    }
   ],
   "source": [
    "type(df['a'][1])"
   ]
  },
  {
   "cell_type": "code",
   "execution_count": 86,
   "id": "fe0dede3",
   "metadata": {},
   "outputs": [
    {
     "data": {
      "text/plain": [
       "a      int64\n",
       "b      int32\n",
       "c    float64\n",
       "d      int64\n",
       "dtype: object"
      ]
     },
     "execution_count": 86,
     "metadata": {},
     "output_type": "execute_result"
    }
   ],
   "source": [
    "## to check the data type\n",
    "df.dtypes"
   ]
  },
  {
   "cell_type": "code",
   "execution_count": 107,
   "id": "700687b2",
   "metadata": {},
   "outputs": [],
   "source": [
    "##index column and training deliminators\n",
    "data=('index,a,b,c\\n'\n",
    "     '10,bat,blood,15.92\\n'\n",
    "     '20,rat,cheese,13.20')"
   ]
  },
  {
   "cell_type": "code",
   "execution_count": 108,
   "id": "59bc3e9e",
   "metadata": {},
   "outputs": [
    {
     "data": {
      "text/html": [
       "<div>\n",
       "<style scoped>\n",
       "    .dataframe tbody tr th:only-of-type {\n",
       "        vertical-align: middle;\n",
       "    }\n",
       "\n",
       "    .dataframe tbody tr th {\n",
       "        vertical-align: top;\n",
       "    }\n",
       "\n",
       "    .dataframe thead th {\n",
       "        text-align: right;\n",
       "    }\n",
       "</style>\n",
       "<table border=\"1\" class=\"dataframe\">\n",
       "  <thead>\n",
       "    <tr style=\"text-align: right;\">\n",
       "      <th></th>\n",
       "      <th>index</th>\n",
       "      <th>a</th>\n",
       "      <th>b</th>\n",
       "      <th>c</th>\n",
       "    </tr>\n",
       "  </thead>\n",
       "  <tbody>\n",
       "    <tr>\n",
       "      <th>0</th>\n",
       "      <td>10</td>\n",
       "      <td>bat</td>\n",
       "      <td>blood</td>\n",
       "      <td>15.92</td>\n",
       "    </tr>\n",
       "    <tr>\n",
       "      <th>1</th>\n",
       "      <td>20</td>\n",
       "      <td>rat</td>\n",
       "      <td>cheese</td>\n",
       "      <td>13.20</td>\n",
       "    </tr>\n",
       "  </tbody>\n",
       "</table>\n",
       "</div>"
      ],
      "text/plain": [
       "   index    a       b      c\n",
       "0     10  bat   blood  15.92\n",
       "1     20  rat  cheese  13.20"
      ]
     },
     "execution_count": 108,
     "metadata": {},
     "output_type": "execute_result"
    }
   ],
   "source": [
    "pd.read_csv(StringIO(data))"
   ]
  },
  {
   "cell_type": "code",
   "execution_count": 109,
   "id": "43ab102e",
   "metadata": {},
   "outputs": [
    {
     "data": {
      "text/html": [
       "<div>\n",
       "<style scoped>\n",
       "    .dataframe tbody tr th:only-of-type {\n",
       "        vertical-align: middle;\n",
       "    }\n",
       "\n",
       "    .dataframe tbody tr th {\n",
       "        vertical-align: top;\n",
       "    }\n",
       "\n",
       "    .dataframe thead th {\n",
       "        text-align: right;\n",
       "    }\n",
       "</style>\n",
       "<table border=\"1\" class=\"dataframe\">\n",
       "  <thead>\n",
       "    <tr style=\"text-align: right;\">\n",
       "      <th></th>\n",
       "      <th>a</th>\n",
       "      <th>b</th>\n",
       "      <th>c</th>\n",
       "    </tr>\n",
       "    <tr>\n",
       "      <th>index</th>\n",
       "      <th></th>\n",
       "      <th></th>\n",
       "      <th></th>\n",
       "    </tr>\n",
       "  </thead>\n",
       "  <tbody>\n",
       "    <tr>\n",
       "      <th>10</th>\n",
       "      <td>bat</td>\n",
       "      <td>blood</td>\n",
       "      <td>15.92</td>\n",
       "    </tr>\n",
       "    <tr>\n",
       "      <th>20</th>\n",
       "      <td>rat</td>\n",
       "      <td>cheese</td>\n",
       "      <td>13.20</td>\n",
       "    </tr>\n",
       "  </tbody>\n",
       "</table>\n",
       "</div>"
      ],
      "text/plain": [
       "         a       b      c\n",
       "index                    \n",
       "10     bat   blood  15.92\n",
       "20     rat  cheese  13.20"
      ]
     },
     "execution_count": 109,
     "metadata": {},
     "output_type": "execute_result"
    }
   ],
   "source": [
    "## see above i want to make 10 20 as as my index number so we use this code\n",
    "pd.read_csv(StringIO(data),index_col=0)"
   ]
  },
  {
   "cell_type": "code",
   "execution_count": 110,
   "id": "6a9e5eea",
   "metadata": {},
   "outputs": [
    {
     "data": {
      "text/html": [
       "<div>\n",
       "<style scoped>\n",
       "    .dataframe tbody tr th:only-of-type {\n",
       "        vertical-align: middle;\n",
       "    }\n",
       "\n",
       "    .dataframe tbody tr th {\n",
       "        vertical-align: top;\n",
       "    }\n",
       "\n",
       "    .dataframe thead th {\n",
       "        text-align: right;\n",
       "    }\n",
       "</style>\n",
       "<table border=\"1\" class=\"dataframe\">\n",
       "  <thead>\n",
       "    <tr style=\"text-align: right;\">\n",
       "      <th></th>\n",
       "      <th>index</th>\n",
       "      <th>a</th>\n",
       "      <th>c</th>\n",
       "    </tr>\n",
       "    <tr>\n",
       "      <th>b</th>\n",
       "      <th></th>\n",
       "      <th></th>\n",
       "      <th></th>\n",
       "    </tr>\n",
       "  </thead>\n",
       "  <tbody>\n",
       "    <tr>\n",
       "      <th>blood</th>\n",
       "      <td>10</td>\n",
       "      <td>bat</td>\n",
       "      <td>15.92</td>\n",
       "    </tr>\n",
       "    <tr>\n",
       "      <th>cheese</th>\n",
       "      <td>20</td>\n",
       "      <td>rat</td>\n",
       "      <td>13.20</td>\n",
       "    </tr>\n",
       "  </tbody>\n",
       "</table>\n",
       "</div>"
      ],
      "text/plain": [
       "        index    a      c\n",
       "b                        \n",
       "blood      10  bat  15.92\n",
       "cheese     20  rat  13.20"
      ]
     },
     "execution_count": 110,
     "metadata": {},
     "output_type": "execute_result"
    }
   ],
   "source": [
    "pd.read_csv(StringIO(data),index_col=2)"
   ]
  },
  {
   "cell_type": "code",
   "execution_count": 111,
   "id": "854795aa",
   "metadata": {},
   "outputs": [
    {
     "data": {
      "text/html": [
       "<div>\n",
       "<style scoped>\n",
       "    .dataframe tbody tr th:only-of-type {\n",
       "        vertical-align: middle;\n",
       "    }\n",
       "\n",
       "    .dataframe tbody tr th {\n",
       "        vertical-align: top;\n",
       "    }\n",
       "\n",
       "    .dataframe thead th {\n",
       "        text-align: right;\n",
       "    }\n",
       "</style>\n",
       "<table border=\"1\" class=\"dataframe\">\n",
       "  <thead>\n",
       "    <tr style=\"text-align: right;\">\n",
       "      <th></th>\n",
       "      <th>index</th>\n",
       "      <th>b</th>\n",
       "      <th>c</th>\n",
       "    </tr>\n",
       "    <tr>\n",
       "      <th>a</th>\n",
       "      <th></th>\n",
       "      <th></th>\n",
       "      <th></th>\n",
       "    </tr>\n",
       "  </thead>\n",
       "  <tbody>\n",
       "    <tr>\n",
       "      <th>bat</th>\n",
       "      <td>10</td>\n",
       "      <td>blood</td>\n",
       "      <td>15.92</td>\n",
       "    </tr>\n",
       "    <tr>\n",
       "      <th>rat</th>\n",
       "      <td>20</td>\n",
       "      <td>cheese</td>\n",
       "      <td>13.20</td>\n",
       "    </tr>\n",
       "  </tbody>\n",
       "</table>\n",
       "</div>"
      ],
      "text/plain": [
       "     index       b      c\n",
       "a                        \n",
       "bat     10   blood  15.92\n",
       "rat     20  cheese  13.20"
      ]
     },
     "execution_count": 111,
     "metadata": {},
     "output_type": "execute_result"
    }
   ],
   "source": [
    "pd.read_csv(StringIO(data),index_col=1)"
   ]
  },
  {
   "cell_type": "code",
   "execution_count": 112,
   "id": "35d28e0e",
   "metadata": {},
   "outputs": [
    {
     "data": {
      "text/html": [
       "<div>\n",
       "<style scoped>\n",
       "    .dataframe tbody tr th:only-of-type {\n",
       "        vertical-align: middle;\n",
       "    }\n",
       "\n",
       "    .dataframe tbody tr th {\n",
       "        vertical-align: top;\n",
       "    }\n",
       "\n",
       "    .dataframe thead th {\n",
       "        text-align: right;\n",
       "    }\n",
       "</style>\n",
       "<table border=\"1\" class=\"dataframe\">\n",
       "  <thead>\n",
       "    <tr style=\"text-align: right;\">\n",
       "      <th></th>\n",
       "      <th>a</th>\n",
       "      <th>b</th>\n",
       "      <th>c</th>\n",
       "    </tr>\n",
       "    <tr>\n",
       "      <th>index</th>\n",
       "      <th></th>\n",
       "      <th></th>\n",
       "      <th></th>\n",
       "    </tr>\n",
       "  </thead>\n",
       "  <tbody>\n",
       "    <tr>\n",
       "      <th>10</th>\n",
       "      <td>bat</td>\n",
       "      <td>blood</td>\n",
       "      <td>15.92</td>\n",
       "    </tr>\n",
       "    <tr>\n",
       "      <th>20</th>\n",
       "      <td>rat</td>\n",
       "      <td>cheese</td>\n",
       "      <td>13.20</td>\n",
       "    </tr>\n",
       "  </tbody>\n",
       "</table>\n",
       "</div>"
      ],
      "text/plain": [
       "         a       b      c\n",
       "index                    \n",
       "10     bat   blood  15.92\n",
       "20     rat  cheese  13.20"
      ]
     },
     "execution_count": 112,
     "metadata": {},
     "output_type": "execute_result"
    }
   ],
   "source": [
    "pd.read_csv(StringIO(data),index_col=0)"
   ]
  },
  {
   "cell_type": "code",
   "execution_count": 113,
   "id": "48b6cc71",
   "metadata": {},
   "outputs": [],
   "source": [
    "data=('a,b,c\\n'\n",
    "         '10,bat,15.92\\n'\n",
    "         '20,rat,13.20')"
   ]
  },
  {
   "cell_type": "code",
   "execution_count": 115,
   "id": "73a27f91",
   "metadata": {},
   "outputs": [
    {
     "data": {
      "text/html": [
       "<div>\n",
       "<style scoped>\n",
       "    .dataframe tbody tr th:only-of-type {\n",
       "        vertical-align: middle;\n",
       "    }\n",
       "\n",
       "    .dataframe tbody tr th {\n",
       "        vertical-align: top;\n",
       "    }\n",
       "\n",
       "    .dataframe thead th {\n",
       "        text-align: right;\n",
       "    }\n",
       "</style>\n",
       "<table border=\"1\" class=\"dataframe\">\n",
       "  <thead>\n",
       "    <tr style=\"text-align: right;\">\n",
       "      <th></th>\n",
       "      <th>a</th>\n",
       "      <th>b</th>\n",
       "      <th>c</th>\n",
       "    </tr>\n",
       "  </thead>\n",
       "  <tbody>\n",
       "    <tr>\n",
       "      <th>0</th>\n",
       "      <td>10</td>\n",
       "      <td>bat</td>\n",
       "      <td>15.92</td>\n",
       "    </tr>\n",
       "    <tr>\n",
       "      <th>1</th>\n",
       "      <td>20</td>\n",
       "      <td>rat</td>\n",
       "      <td>13.20</td>\n",
       "    </tr>\n",
       "  </tbody>\n",
       "</table>\n",
       "</div>"
      ],
      "text/plain": [
       "    a    b      c\n",
       "0  10  bat  15.92\n",
       "1  20  rat  13.20"
      ]
     },
     "execution_count": 115,
     "metadata": {},
     "output_type": "execute_result"
    }
   ],
   "source": [
    "pd.read_csv(StringIO(data),index_col=False)"
   ]
  },
  {
   "cell_type": "code",
   "execution_count": 116,
   "id": "0d119d0a",
   "metadata": {},
   "outputs": [
    {
     "data": {
      "text/html": [
       "<div>\n",
       "<style scoped>\n",
       "    .dataframe tbody tr th:only-of-type {\n",
       "        vertical-align: middle;\n",
       "    }\n",
       "\n",
       "    .dataframe tbody tr th {\n",
       "        vertical-align: top;\n",
       "    }\n",
       "\n",
       "    .dataframe thead th {\n",
       "        text-align: right;\n",
       "    }\n",
       "</style>\n",
       "<table border=\"1\" class=\"dataframe\">\n",
       "  <thead>\n",
       "    <tr style=\"text-align: right;\">\n",
       "      <th></th>\n",
       "      <th>a</th>\n",
       "      <th>b</th>\n",
       "      <th>c</th>\n",
       "    </tr>\n",
       "  </thead>\n",
       "  <tbody>\n",
       "    <tr>\n",
       "      <th>0</th>\n",
       "      <td>10</td>\n",
       "      <td>bat</td>\n",
       "      <td>15.92</td>\n",
       "    </tr>\n",
       "    <tr>\n",
       "      <th>1</th>\n",
       "      <td>20</td>\n",
       "      <td>rat</td>\n",
       "      <td>13.20</td>\n",
       "    </tr>\n",
       "  </tbody>\n",
       "</table>\n",
       "</div>"
      ],
      "text/plain": [
       "    a    b      c\n",
       "0  10  bat  15.92\n",
       "1  20  rat  13.20"
      ]
     },
     "execution_count": 116,
     "metadata": {},
     "output_type": "execute_result"
    }
   ],
   "source": [
    "## see upper data if i want to put 10 ,20 in place of 0 and 1 we use this function or code\n",
    "## if i want to go back on the command i have given up {see upper code} we use this\n",
    "pd.read_csv(StringIO(data),index_col=False)"
   ]
  },
  {
   "cell_type": "code",
   "execution_count": 118,
   "id": "4626305b",
   "metadata": {},
   "outputs": [
    {
     "data": {
      "text/html": [
       "<div>\n",
       "<style scoped>\n",
       "    .dataframe tbody tr th:only-of-type {\n",
       "        vertical-align: middle;\n",
       "    }\n",
       "\n",
       "    .dataframe tbody tr th {\n",
       "        vertical-align: top;\n",
       "    }\n",
       "\n",
       "    .dataframe thead th {\n",
       "        text-align: right;\n",
       "    }\n",
       "</style>\n",
       "<table border=\"1\" class=\"dataframe\">\n",
       "  <thead>\n",
       "    <tr style=\"text-align: right;\">\n",
       "      <th></th>\n",
       "      <th>b</th>\n",
       "      <th>c</th>\n",
       "    </tr>\n",
       "  </thead>\n",
       "  <tbody>\n",
       "    <tr>\n",
       "      <th>0</th>\n",
       "      <td>bat</td>\n",
       "      <td>15.92</td>\n",
       "    </tr>\n",
       "    <tr>\n",
       "      <th>1</th>\n",
       "      <td>rat</td>\n",
       "      <td>13.20</td>\n",
       "    </tr>\n",
       "  </tbody>\n",
       "</table>\n",
       "</div>"
      ],
      "text/plain": [
       "     b      c\n",
       "0  bat  15.92\n",
       "1  rat  13.20"
      ]
     },
     "execution_count": 118,
     "metadata": {},
     "output_type": "execute_result"
    }
   ],
   "source": [
    "pd.read_csv(StringIO(data),usecols=['b','c'],index_col=False)"
   ]
  },
  {
   "cell_type": "code",
   "execution_count": 120,
   "id": "5b7cee08",
   "metadata": {},
   "outputs": [],
   "source": [
    "## qouting and escape characters are very useful in nlp\n",
    "data='a,b\\n\"hello,\\\\\"Bob\\\\\",nice to meet u\",5'\n"
   ]
  },
  {
   "cell_type": "code",
   "execution_count": 121,
   "id": "34522df9",
   "metadata": {},
   "outputs": [
    {
     "data": {
      "text/html": [
       "<div>\n",
       "<style scoped>\n",
       "    .dataframe tbody tr th:only-of-type {\n",
       "        vertical-align: middle;\n",
       "    }\n",
       "\n",
       "    .dataframe tbody tr th {\n",
       "        vertical-align: top;\n",
       "    }\n",
       "\n",
       "    .dataframe thead th {\n",
       "        text-align: right;\n",
       "    }\n",
       "</style>\n",
       "<table border=\"1\" class=\"dataframe\">\n",
       "  <thead>\n",
       "    <tr style=\"text-align: right;\">\n",
       "      <th></th>\n",
       "      <th>a</th>\n",
       "      <th>b</th>\n",
       "    </tr>\n",
       "  </thead>\n",
       "  <tbody>\n",
       "    <tr>\n",
       "      <th>0</th>\n",
       "      <td>hello,\"Bob\",nice to meet u</td>\n",
       "      <td>5</td>\n",
       "    </tr>\n",
       "  </tbody>\n",
       "</table>\n",
       "</div>"
      ],
      "text/plain": [
       "                            a  b\n",
       "0  hello,\"Bob\",nice to meet u  5"
      ]
     },
     "execution_count": 121,
     "metadata": {},
     "output_type": "execute_result"
    }
   ],
   "source": [
    "pd.read_csv(StringIO(data),escapechar='\\\\') ## yeh kya krega jha bhi \\\\ yeh hoga unko ek sath job dega inko use krte hai hum jab koi data ho jisme aese inputs ho \n"
   ]
  },
  {
   "cell_type": "code",
   "execution_count": 125,
   "id": "ae7c6525",
   "metadata": {},
   "outputs": [],
   "source": [
    "##url to csv\n",
    "\n",
    "df=pd.read_csv('https://download.bls.gov/pub/time.series/cu/cu.item',sep='\\t')"
   ]
  },
  {
   "cell_type": "code",
   "execution_count": 126,
   "id": "a5e2798b",
   "metadata": {},
   "outputs": [
    {
     "data": {
      "text/html": [
       "<div>\n",
       "<style scoped>\n",
       "    .dataframe tbody tr th:only-of-type {\n",
       "        vertical-align: middle;\n",
       "    }\n",
       "\n",
       "    .dataframe tbody tr th {\n",
       "        vertical-align: top;\n",
       "    }\n",
       "\n",
       "    .dataframe thead th {\n",
       "        text-align: right;\n",
       "    }\n",
       "</style>\n",
       "<table border=\"1\" class=\"dataframe\">\n",
       "  <thead>\n",
       "    <tr style=\"text-align: right;\">\n",
       "      <th></th>\n",
       "      <th>item_code</th>\n",
       "      <th>item_name</th>\n",
       "      <th>display_level</th>\n",
       "      <th>selectable</th>\n",
       "      <th>sort_sequence</th>\n",
       "    </tr>\n",
       "  </thead>\n",
       "  <tbody>\n",
       "    <tr>\n",
       "      <th>0</th>\n",
       "      <td>AA0</td>\n",
       "      <td>All items - old base</td>\n",
       "      <td>0</td>\n",
       "      <td>T</td>\n",
       "      <td>2</td>\n",
       "    </tr>\n",
       "    <tr>\n",
       "      <th>1</th>\n",
       "      <td>AA0R</td>\n",
       "      <td>Purchasing power of the consumer dollar - old ...</td>\n",
       "      <td>0</td>\n",
       "      <td>T</td>\n",
       "      <td>400</td>\n",
       "    </tr>\n",
       "    <tr>\n",
       "      <th>2</th>\n",
       "      <td>SA0</td>\n",
       "      <td>All items</td>\n",
       "      <td>0</td>\n",
       "      <td>T</td>\n",
       "      <td>1</td>\n",
       "    </tr>\n",
       "    <tr>\n",
       "      <th>3</th>\n",
       "      <td>SA0E</td>\n",
       "      <td>Energy</td>\n",
       "      <td>1</td>\n",
       "      <td>T</td>\n",
       "      <td>375</td>\n",
       "    </tr>\n",
       "    <tr>\n",
       "      <th>4</th>\n",
       "      <td>SA0L1</td>\n",
       "      <td>All items less food</td>\n",
       "      <td>1</td>\n",
       "      <td>T</td>\n",
       "      <td>359</td>\n",
       "    </tr>\n",
       "  </tbody>\n",
       "</table>\n",
       "</div>"
      ],
      "text/plain": [
       "  item_code                                          item_name  display_level  \\\n",
       "0       AA0                               All items - old base              0   \n",
       "1      AA0R  Purchasing power of the consumer dollar - old ...              0   \n",
       "2       SA0                                          All items              0   \n",
       "3      SA0E                                             Energy              1   \n",
       "4     SA0L1                                All items less food              1   \n",
       "\n",
       "  selectable  sort_sequence  \n",
       "0          T              2  \n",
       "1          T            400  \n",
       "2          T              1  \n",
       "3          T            375  \n",
       "4          T            359  "
      ]
     },
     "execution_count": 126,
     "metadata": {},
     "output_type": "execute_result"
    }
   ],
   "source": [
    "df.head()"
   ]
  },
  {
   "cell_type": "code",
   "execution_count": null,
   "id": "8acf84ea",
   "metadata": {},
   "outputs": [],
   "source": []
  }
 ],
 "metadata": {
  "kernelspec": {
   "display_name": "Python 3 (ipykernel)",
   "language": "python",
   "name": "python3"
  },
  "language_info": {
   "codemirror_mode": {
    "name": "ipython",
    "version": 3
   },
   "file_extension": ".py",
   "mimetype": "text/x-python",
   "name": "python",
   "nbconvert_exporter": "python",
   "pygments_lexer": "ipython3",
   "version": "3.9.7"
  }
 },
 "nbformat": 4,
 "nbformat_minor": 5
}
